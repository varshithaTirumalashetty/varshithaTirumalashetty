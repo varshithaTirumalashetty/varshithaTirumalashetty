{
  "nbformat": 4,
  "nbformat_minor": 0,
  "metadata": {
    "colab": {
      "provenance": [],
      "authorship_tag": "ABX9TyMnLiKEVu7lRV0hKMNrh9WR",
      "include_colab_link": true
    },
    "kernelspec": {
      "name": "python3",
      "display_name": "Python 3"
    },
    "language_info": {
      "name": "python"
    }
  },
  "cells": [
    {
      "cell_type": "markdown",
      "metadata": {
        "id": "view-in-github",
        "colab_type": "text"
      },
      "source": [
        "<a href=\"https://colab.research.google.com/github/KondaSonith/KondaSonith/blob/main/MOVIES_RECOMMENDATION_.ipynb\" target=\"_parent\"><img src=\"https://colab.research.google.com/assets/colab-badge.svg\" alt=\"Open In Colab\"/></a>"
      ]
    },
    {
      "cell_type": "code",
      "execution_count": null,
      "metadata": {
        "id": "KJQr33xqkijH"
      },
      "outputs": [],
      "source": []
    },
    {
      "cell_type": "markdown",
      "source": [
        "Title of Project\n",
        "\n",
        "MOVIE RECOMMENDATION\n",
        "\n",
        "OBJECTIVE\n",
        "\n",
        "TO RECOMMEND TOP 30 MOVIES USING SOME MACHINE LEARNING LIBRARIES\n",
        "\n",
        "DATA SOURCE YBI FOUNDATION GITHUB DATA https://github.com/YBIFoundation/Dataset\n",
        "\n",
        "IMPORT LIBRARIES"
      ],
      "metadata": {
        "id": "1qzxiznFl4gX"
      }
    },
    {
      "cell_type": "code",
      "source": [
        "import pandas as pd\n",
        "from sklearn.feature_extraction.text import TfidfVectorizer\n",
        "from sklearn.metrics.pairwise import cosine_similarity\n",
        "import difflib"
      ],
      "metadata": {
        "id": "_nH5dUaal75r"
      },
      "execution_count": 1,
      "outputs": []
    },
    {
      "cell_type": "markdown",
      "source": [
        "IMPORT DATA"
      ],
      "metadata": {
        "id": "8aXZ1QzSl8LY"
      }
    },
    {
      "cell_type": "code",
      "source": [
        "movie_list=pd.read_csv(\"https://github.com/YBIFoundation/Dataset/raw/main/Movies%20Recommendation.csv\")"
      ],
      "metadata": {
        "id": "a-qIZ1wcl9Yg"
      },
      "execution_count": 2,
      "outputs": []
    },
    {
      "cell_type": "markdown",
      "source": [
        "DESCRIBE DATA"
      ],
      "metadata": {
        "id": "HYus3em4l9xe"
      }
    },
    {
      "cell_type": "code",
      "source": [
        "movie_list.describe()"
      ],
      "metadata": {
        "colab": {
          "base_uri": "https://localhost:8080/",
          "height": 364
        },
        "id": "NFdpiSael-Bp",
        "outputId": "169a79b1-751d-43f9-cae4-b65d88a97e5e"
      },
      "execution_count": 3,
      "outputs": [
        {
          "output_type": "execute_result",
          "data": {
            "text/plain": [
              "          Movie_ID  Movie_Budget  Movie_Popularity  Movie_Revenue  \\\n",
              "count  4760.000000  4.760000e+03       4760.000000   4.760000e+03   \n",
              "mean   2382.566387  2.920129e+07         21.599510   8.263743e+07   \n",
              "std    1377.270159  4.075620e+07         31.887919   1.630554e+08   \n",
              "min       1.000000  0.000000e+00          0.000372   0.000000e+00   \n",
              "25%    1190.750000  9.257500e+05          4.807074   0.000000e+00   \n",
              "50%    2380.500000  1.500000e+07         13.119058   1.944716e+07   \n",
              "75%    3572.250000  4.000000e+07         28.411929   9.341276e+07   \n",
              "max    4788.000000  3.800000e+08        875.581305   2.787965e+09   \n",
              "\n",
              "       Movie_Runtime   Movie_Vote  Movie_Vote_Count  \n",
              "count    4758.000000  4760.000000       4760.000000  \n",
              "mean      107.184111     6.113866        692.508403  \n",
              "std        21.960332     1.141294       1235.007337  \n",
              "min         0.000000     0.000000          0.000000  \n",
              "25%        94.000000     5.600000         55.000000  \n",
              "50%       104.000000     6.200000        238.000000  \n",
              "75%       118.000000     6.800000        740.250000  \n",
              "max       338.000000    10.000000      13752.000000  "
            ],
            "text/html": [
              "\n",
              "\n",
              "  <div id=\"df-0e69566b-1488-491b-b567-a7e7b9b8e66a\">\n",
              "    <div class=\"colab-df-container\">\n",
              "      <div>\n",
              "<style scoped>\n",
              "    .dataframe tbody tr th:only-of-type {\n",
              "        vertical-align: middle;\n",
              "    }\n",
              "\n",
              "    .dataframe tbody tr th {\n",
              "        vertical-align: top;\n",
              "    }\n",
              "\n",
              "    .dataframe thead th {\n",
              "        text-align: right;\n",
              "    }\n",
              "</style>\n",
              "<table border=\"1\" class=\"dataframe\">\n",
              "  <thead>\n",
              "    <tr style=\"text-align: right;\">\n",
              "      <th></th>\n",
              "      <th>Movie_ID</th>\n",
              "      <th>Movie_Budget</th>\n",
              "      <th>Movie_Popularity</th>\n",
              "      <th>Movie_Revenue</th>\n",
              "      <th>Movie_Runtime</th>\n",
              "      <th>Movie_Vote</th>\n",
              "      <th>Movie_Vote_Count</th>\n",
              "    </tr>\n",
              "  </thead>\n",
              "  <tbody>\n",
              "    <tr>\n",
              "      <th>count</th>\n",
              "      <td>4760.000000</td>\n",
              "      <td>4.760000e+03</td>\n",
              "      <td>4760.000000</td>\n",
              "      <td>4.760000e+03</td>\n",
              "      <td>4758.000000</td>\n",
              "      <td>4760.000000</td>\n",
              "      <td>4760.000000</td>\n",
              "    </tr>\n",
              "    <tr>\n",
              "      <th>mean</th>\n",
              "      <td>2382.566387</td>\n",
              "      <td>2.920129e+07</td>\n",
              "      <td>21.599510</td>\n",
              "      <td>8.263743e+07</td>\n",
              "      <td>107.184111</td>\n",
              "      <td>6.113866</td>\n",
              "      <td>692.508403</td>\n",
              "    </tr>\n",
              "    <tr>\n",
              "      <th>std</th>\n",
              "      <td>1377.270159</td>\n",
              "      <td>4.075620e+07</td>\n",
              "      <td>31.887919</td>\n",
              "      <td>1.630554e+08</td>\n",
              "      <td>21.960332</td>\n",
              "      <td>1.141294</td>\n",
              "      <td>1235.007337</td>\n",
              "    </tr>\n",
              "    <tr>\n",
              "      <th>min</th>\n",
              "      <td>1.000000</td>\n",
              "      <td>0.000000e+00</td>\n",
              "      <td>0.000372</td>\n",
              "      <td>0.000000e+00</td>\n",
              "      <td>0.000000</td>\n",
              "      <td>0.000000</td>\n",
              "      <td>0.000000</td>\n",
              "    </tr>\n",
              "    <tr>\n",
              "      <th>25%</th>\n",
              "      <td>1190.750000</td>\n",
              "      <td>9.257500e+05</td>\n",
              "      <td>4.807074</td>\n",
              "      <td>0.000000e+00</td>\n",
              "      <td>94.000000</td>\n",
              "      <td>5.600000</td>\n",
              "      <td>55.000000</td>\n",
              "    </tr>\n",
              "    <tr>\n",
              "      <th>50%</th>\n",
              "      <td>2380.500000</td>\n",
              "      <td>1.500000e+07</td>\n",
              "      <td>13.119058</td>\n",
              "      <td>1.944716e+07</td>\n",
              "      <td>104.000000</td>\n",
              "      <td>6.200000</td>\n",
              "      <td>238.000000</td>\n",
              "    </tr>\n",
              "    <tr>\n",
              "      <th>75%</th>\n",
              "      <td>3572.250000</td>\n",
              "      <td>4.000000e+07</td>\n",
              "      <td>28.411929</td>\n",
              "      <td>9.341276e+07</td>\n",
              "      <td>118.000000</td>\n",
              "      <td>6.800000</td>\n",
              "      <td>740.250000</td>\n",
              "    </tr>\n",
              "    <tr>\n",
              "      <th>max</th>\n",
              "      <td>4788.000000</td>\n",
              "      <td>3.800000e+08</td>\n",
              "      <td>875.581305</td>\n",
              "      <td>2.787965e+09</td>\n",
              "      <td>338.000000</td>\n",
              "      <td>10.000000</td>\n",
              "      <td>13752.000000</td>\n",
              "    </tr>\n",
              "  </tbody>\n",
              "</table>\n",
              "</div>\n",
              "      <button class=\"colab-df-convert\" onclick=\"convertToInteractive('df-0e69566b-1488-491b-b567-a7e7b9b8e66a')\"\n",
              "              title=\"Convert this dataframe to an interactive table.\"\n",
              "              style=\"display:none;\">\n",
              "\n",
              "  <svg xmlns=\"http://www.w3.org/2000/svg\" height=\"24px\"viewBox=\"0 0 24 24\"\n",
              "       width=\"24px\">\n",
              "    <path d=\"M0 0h24v24H0V0z\" fill=\"none\"/>\n",
              "    <path d=\"M18.56 5.44l.94 2.06.94-2.06 2.06-.94-2.06-.94-.94-2.06-.94 2.06-2.06.94zm-11 1L8.5 8.5l.94-2.06 2.06-.94-2.06-.94L8.5 2.5l-.94 2.06-2.06.94zm10 10l.94 2.06.94-2.06 2.06-.94-2.06-.94-.94-2.06-.94 2.06-2.06.94z\"/><path d=\"M17.41 7.96l-1.37-1.37c-.4-.4-.92-.59-1.43-.59-.52 0-1.04.2-1.43.59L10.3 9.45l-7.72 7.72c-.78.78-.78 2.05 0 2.83L4 21.41c.39.39.9.59 1.41.59.51 0 1.02-.2 1.41-.59l7.78-7.78 2.81-2.81c.8-.78.8-2.07 0-2.86zM5.41 20L4 18.59l7.72-7.72 1.47 1.35L5.41 20z\"/>\n",
              "  </svg>\n",
              "      </button>\n",
              "\n",
              "\n",
              "\n",
              "    <div id=\"df-f0067b56-82cc-4341-8dcb-88b3e6ff2cc0\">\n",
              "      <button class=\"colab-df-quickchart\" onclick=\"quickchart('df-f0067b56-82cc-4341-8dcb-88b3e6ff2cc0')\"\n",
              "              title=\"Suggest charts.\"\n",
              "              style=\"display:none;\">\n",
              "\n",
              "<svg xmlns=\"http://www.w3.org/2000/svg\" height=\"24px\"viewBox=\"0 0 24 24\"\n",
              "     width=\"24px\">\n",
              "    <g>\n",
              "        <path d=\"M19 3H5c-1.1 0-2 .9-2 2v14c0 1.1.9 2 2 2h14c1.1 0 2-.9 2-2V5c0-1.1-.9-2-2-2zM9 17H7v-7h2v7zm4 0h-2V7h2v10zm4 0h-2v-4h2v4z\"/>\n",
              "    </g>\n",
              "</svg>\n",
              "      </button>\n",
              "    </div>\n",
              "\n",
              "<style>\n",
              "  .colab-df-quickchart {\n",
              "    background-color: #E8F0FE;\n",
              "    border: none;\n",
              "    border-radius: 50%;\n",
              "    cursor: pointer;\n",
              "    display: none;\n",
              "    fill: #1967D2;\n",
              "    height: 32px;\n",
              "    padding: 0 0 0 0;\n",
              "    width: 32px;\n",
              "  }\n",
              "\n",
              "  .colab-df-quickchart:hover {\n",
              "    background-color: #E2EBFA;\n",
              "    box-shadow: 0px 1px 2px rgba(60, 64, 67, 0.3), 0px 1px 3px 1px rgba(60, 64, 67, 0.15);\n",
              "    fill: #174EA6;\n",
              "  }\n",
              "\n",
              "  [theme=dark] .colab-df-quickchart {\n",
              "    background-color: #3B4455;\n",
              "    fill: #D2E3FC;\n",
              "  }\n",
              "\n",
              "  [theme=dark] .colab-df-quickchart:hover {\n",
              "    background-color: #434B5C;\n",
              "    box-shadow: 0px 1px 3px 1px rgba(0, 0, 0, 0.15);\n",
              "    filter: drop-shadow(0px 1px 2px rgba(0, 0, 0, 0.3));\n",
              "    fill: #FFFFFF;\n",
              "  }\n",
              "</style>\n",
              "\n",
              "    <script>\n",
              "      async function quickchart(key) {\n",
              "        const containerElement = document.querySelector('#' + key);\n",
              "        const charts = await google.colab.kernel.invokeFunction(\n",
              "            'suggestCharts', [key], {});\n",
              "      }\n",
              "    </script>\n",
              "\n",
              "      <script>\n",
              "\n",
              "function displayQuickchartButton(domScope) {\n",
              "  let quickchartButtonEl =\n",
              "    domScope.querySelector('#df-f0067b56-82cc-4341-8dcb-88b3e6ff2cc0 button.colab-df-quickchart');\n",
              "  quickchartButtonEl.style.display =\n",
              "    google.colab.kernel.accessAllowed ? 'block' : 'none';\n",
              "}\n",
              "\n",
              "        displayQuickchartButton(document);\n",
              "      </script>\n",
              "      <style>\n",
              "    .colab-df-container {\n",
              "      display:flex;\n",
              "      flex-wrap:wrap;\n",
              "      gap: 12px;\n",
              "    }\n",
              "\n",
              "    .colab-df-convert {\n",
              "      background-color: #E8F0FE;\n",
              "      border: none;\n",
              "      border-radius: 50%;\n",
              "      cursor: pointer;\n",
              "      display: none;\n",
              "      fill: #1967D2;\n",
              "      height: 32px;\n",
              "      padding: 0 0 0 0;\n",
              "      width: 32px;\n",
              "    }\n",
              "\n",
              "    .colab-df-convert:hover {\n",
              "      background-color: #E2EBFA;\n",
              "      box-shadow: 0px 1px 2px rgba(60, 64, 67, 0.3), 0px 1px 3px 1px rgba(60, 64, 67, 0.15);\n",
              "      fill: #174EA6;\n",
              "    }\n",
              "\n",
              "    [theme=dark] .colab-df-convert {\n",
              "      background-color: #3B4455;\n",
              "      fill: #D2E3FC;\n",
              "    }\n",
              "\n",
              "    [theme=dark] .colab-df-convert:hover {\n",
              "      background-color: #434B5C;\n",
              "      box-shadow: 0px 1px 3px 1px rgba(0, 0, 0, 0.15);\n",
              "      filter: drop-shadow(0px 1px 2px rgba(0, 0, 0, 0.3));\n",
              "      fill: #FFFFFF;\n",
              "    }\n",
              "  </style>\n",
              "\n",
              "      <script>\n",
              "        const buttonEl =\n",
              "          document.querySelector('#df-0e69566b-1488-491b-b567-a7e7b9b8e66a button.colab-df-convert');\n",
              "        buttonEl.style.display =\n",
              "          google.colab.kernel.accessAllowed ? 'block' : 'none';\n",
              "\n",
              "        async function convertToInteractive(key) {\n",
              "          const element = document.querySelector('#df-0e69566b-1488-491b-b567-a7e7b9b8e66a');\n",
              "          const dataTable =\n",
              "            await google.colab.kernel.invokeFunction('convertToInteractive',\n",
              "                                                     [key], {});\n",
              "          if (!dataTable) return;\n",
              "\n",
              "          const docLinkHtml = 'Like what you see? Visit the ' +\n",
              "            '<a target=\"_blank\" href=https://colab.research.google.com/notebooks/data_table.ipynb>data table notebook</a>'\n",
              "            + ' to learn more about interactive tables.';\n",
              "          element.innerHTML = '';\n",
              "          dataTable['output_type'] = 'display_data';\n",
              "          await google.colab.output.renderOutput(dataTable, element);\n",
              "          const docLink = document.createElement('div');\n",
              "          docLink.innerHTML = docLinkHtml;\n",
              "          element.appendChild(docLink);\n",
              "        }\n",
              "      </script>\n",
              "    </div>\n",
              "  </div>\n"
            ]
          },
          "metadata": {},
          "execution_count": 3
        }
      ]
    },
    {
      "cell_type": "code",
      "source": [
        "movie_list.head()"
      ],
      "metadata": {
        "colab": {
          "base_uri": "https://localhost:8080/",
          "height": 716
        },
        "id": "Ez4vZXn-mPrg",
        "outputId": "0155ac04-f7b6-47b8-fad9-46e07bc2e7f9"
      },
      "execution_count": 4,
      "outputs": [
        {
          "output_type": "execute_result",
          "data": {
            "text/plain": [
              "   Movie_ID      Movie_Title                       Movie_Genre Movie_Language  \\\n",
              "0         1       Four Rooms                      Crime Comedy             en   \n",
              "1         2        Star Wars  Adventure Action Science Fiction             en   \n",
              "2         3     Finding Nemo                  Animation Family             en   \n",
              "3         4     Forrest Gump              Comedy Drama Romance             en   \n",
              "4         5  American Beauty                             Drama             en   \n",
              "\n",
              "   Movie_Budget  Movie_Popularity Movie_Release_Date  Movie_Revenue  \\\n",
              "0       4000000         22.876230         09-12-1995        4300000   \n",
              "1      11000000        126.393695         25-05-1977      775398007   \n",
              "2      94000000         85.688789         30-05-2003      940335536   \n",
              "3      55000000        138.133331         06-07-1994      677945399   \n",
              "4      15000000         80.878605         15-09-1999      356296601   \n",
              "\n",
              "   Movie_Runtime  Movie_Vote  ...  \\\n",
              "0           98.0         6.5  ...   \n",
              "1          121.0         8.1  ...   \n",
              "2          100.0         7.6  ...   \n",
              "3          142.0         8.2  ...   \n",
              "4          122.0         7.9  ...   \n",
              "\n",
              "                                      Movie_Homepage  \\\n",
              "0                                                NaN   \n",
              "1  http://www.starwars.com/films/star-wars-episod...   \n",
              "2              http://movies.disney.com/finding-nemo   \n",
              "3                                                NaN   \n",
              "4                      http://www.dreamworks.com/ab/   \n",
              "\n",
              "                                      Movie_Keywords  \\\n",
              "0          hotel new year's eve witch bet hotel room   \n",
              "1        android galaxy hermit death star lightsaber   \n",
              "2  father son relationship harbor underwater fish...   \n",
              "3  vietnam veteran hippie mentally disabled runni...   \n",
              "4  male nudity female nudity adultery midlife cri...   \n",
              "\n",
              "                                      Movie_Overview  \\\n",
              "0  It's Ted the Bellhop's first night on the job....   \n",
              "1  Princess Leia is captured and held hostage by ...   \n",
              "2  Nemo, an adventurous young clownfish, is unexp...   \n",
              "3  A man with a low IQ has accomplished great thi...   \n",
              "4  Lester Burnham, a depressed suburban father in...   \n",
              "\n",
              "                              Movie_Production_House  \\\n",
              "0  [{\"name\": \"Miramax Films\", \"id\": 14}, {\"name\":...   \n",
              "1  [{\"name\": \"Lucasfilm\", \"id\": 1}, {\"name\": \"Twe...   \n",
              "2     [{\"name\": \"Pixar Animation Studios\", \"id\": 3}]   \n",
              "3          [{\"name\": \"Paramount Pictures\", \"id\": 4}]   \n",
              "4  [{\"name\": \"DreamWorks SKG\", \"id\": 27}, {\"name\"...   \n",
              "\n",
              "                            Movie_Production_Country  \\\n",
              "0  [{\"iso_3166_1\": \"US\", \"name\": \"United States o...   \n",
              "1  [{\"iso_3166_1\": \"US\", \"name\": \"United States o...   \n",
              "2  [{\"iso_3166_1\": \"US\", \"name\": \"United States o...   \n",
              "3  [{\"iso_3166_1\": \"US\", \"name\": \"United States o...   \n",
              "4  [{\"iso_3166_1\": \"US\", \"name\": \"United States o...   \n",
              "\n",
              "                      Movie_Spoken_Language  \\\n",
              "0  [{\"iso_639_1\": \"en\", \"name\": \"English\"}]   \n",
              "1  [{\"iso_639_1\": \"en\", \"name\": \"English\"}]   \n",
              "2  [{\"iso_639_1\": \"en\", \"name\": \"English\"}]   \n",
              "3  [{\"iso_639_1\": \"en\", \"name\": \"English\"}]   \n",
              "4  [{\"iso_639_1\": \"en\", \"name\": \"English\"}]   \n",
              "\n",
              "                                       Movie_Tagline  \\\n",
              "0  Twelve outrageous guests. Four scandalous requ...   \n",
              "1       A long time ago in a galaxy far, far away...   \n",
              "2  There are 3.7 trillion fish in the ocean, they...   \n",
              "3  The world will never be the same, once you've ...   \n",
              "4                                       Look closer.   \n",
              "\n",
              "                                          Movie_Cast  \\\n",
              "0  Tim Roth Antonio Banderas Jennifer Beals Madon...   \n",
              "1  Mark Hamill Harrison Ford Carrie Fisher Peter ...   \n",
              "2  Albert Brooks Ellen DeGeneres Alexander Gould ...   \n",
              "3  Tom Hanks Robin Wright Gary Sinise Mykelti Wil...   \n",
              "4  Kevin Spacey Annette Bening Thora Birch Wes Be...   \n",
              "\n",
              "                                          Movie_Crew   Movie_Director  \n",
              "0  [{'name': 'Allison Anders', 'gender': 1, 'depa...   Allison Anders  \n",
              "1  [{'name': 'George Lucas', 'gender': 2, 'depart...     George Lucas  \n",
              "2  [{'name': 'Andrew Stanton', 'gender': 2, 'depa...   Andrew Stanton  \n",
              "3  [{'name': 'Alan Silvestri', 'gender': 2, 'depa...  Robert Zemeckis  \n",
              "4  [{'name': 'Thomas Newman', 'gender': 2, 'depar...       Sam Mendes  \n",
              "\n",
              "[5 rows x 21 columns]"
            ],
            "text/html": [
              "\n",
              "\n",
              "  <div id=\"df-62ea66f8-32dc-4b2f-9e5e-8076fb625dc7\">\n",
              "    <div class=\"colab-df-container\">\n",
              "      <div>\n",
              "<style scoped>\n",
              "    .dataframe tbody tr th:only-of-type {\n",
              "        vertical-align: middle;\n",
              "    }\n",
              "\n",
              "    .dataframe tbody tr th {\n",
              "        vertical-align: top;\n",
              "    }\n",
              "\n",
              "    .dataframe thead th {\n",
              "        text-align: right;\n",
              "    }\n",
              "</style>\n",
              "<table border=\"1\" class=\"dataframe\">\n",
              "  <thead>\n",
              "    <tr style=\"text-align: right;\">\n",
              "      <th></th>\n",
              "      <th>Movie_ID</th>\n",
              "      <th>Movie_Title</th>\n",
              "      <th>Movie_Genre</th>\n",
              "      <th>Movie_Language</th>\n",
              "      <th>Movie_Budget</th>\n",
              "      <th>Movie_Popularity</th>\n",
              "      <th>Movie_Release_Date</th>\n",
              "      <th>Movie_Revenue</th>\n",
              "      <th>Movie_Runtime</th>\n",
              "      <th>Movie_Vote</th>\n",
              "      <th>...</th>\n",
              "      <th>Movie_Homepage</th>\n",
              "      <th>Movie_Keywords</th>\n",
              "      <th>Movie_Overview</th>\n",
              "      <th>Movie_Production_House</th>\n",
              "      <th>Movie_Production_Country</th>\n",
              "      <th>Movie_Spoken_Language</th>\n",
              "      <th>Movie_Tagline</th>\n",
              "      <th>Movie_Cast</th>\n",
              "      <th>Movie_Crew</th>\n",
              "      <th>Movie_Director</th>\n",
              "    </tr>\n",
              "  </thead>\n",
              "  <tbody>\n",
              "    <tr>\n",
              "      <th>0</th>\n",
              "      <td>1</td>\n",
              "      <td>Four Rooms</td>\n",
              "      <td>Crime Comedy</td>\n",
              "      <td>en</td>\n",
              "      <td>4000000</td>\n",
              "      <td>22.876230</td>\n",
              "      <td>09-12-1995</td>\n",
              "      <td>4300000</td>\n",
              "      <td>98.0</td>\n",
              "      <td>6.5</td>\n",
              "      <td>...</td>\n",
              "      <td>NaN</td>\n",
              "      <td>hotel new year's eve witch bet hotel room</td>\n",
              "      <td>It's Ted the Bellhop's first night on the job....</td>\n",
              "      <td>[{\"name\": \"Miramax Films\", \"id\": 14}, {\"name\":...</td>\n",
              "      <td>[{\"iso_3166_1\": \"US\", \"name\": \"United States o...</td>\n",
              "      <td>[{\"iso_639_1\": \"en\", \"name\": \"English\"}]</td>\n",
              "      <td>Twelve outrageous guests. Four scandalous requ...</td>\n",
              "      <td>Tim Roth Antonio Banderas Jennifer Beals Madon...</td>\n",
              "      <td>[{'name': 'Allison Anders', 'gender': 1, 'depa...</td>\n",
              "      <td>Allison Anders</td>\n",
              "    </tr>\n",
              "    <tr>\n",
              "      <th>1</th>\n",
              "      <td>2</td>\n",
              "      <td>Star Wars</td>\n",
              "      <td>Adventure Action Science Fiction</td>\n",
              "      <td>en</td>\n",
              "      <td>11000000</td>\n",
              "      <td>126.393695</td>\n",
              "      <td>25-05-1977</td>\n",
              "      <td>775398007</td>\n",
              "      <td>121.0</td>\n",
              "      <td>8.1</td>\n",
              "      <td>...</td>\n",
              "      <td>http://www.starwars.com/films/star-wars-episod...</td>\n",
              "      <td>android galaxy hermit death star lightsaber</td>\n",
              "      <td>Princess Leia is captured and held hostage by ...</td>\n",
              "      <td>[{\"name\": \"Lucasfilm\", \"id\": 1}, {\"name\": \"Twe...</td>\n",
              "      <td>[{\"iso_3166_1\": \"US\", \"name\": \"United States o...</td>\n",
              "      <td>[{\"iso_639_1\": \"en\", \"name\": \"English\"}]</td>\n",
              "      <td>A long time ago in a galaxy far, far away...</td>\n",
              "      <td>Mark Hamill Harrison Ford Carrie Fisher Peter ...</td>\n",
              "      <td>[{'name': 'George Lucas', 'gender': 2, 'depart...</td>\n",
              "      <td>George Lucas</td>\n",
              "    </tr>\n",
              "    <tr>\n",
              "      <th>2</th>\n",
              "      <td>3</td>\n",
              "      <td>Finding Nemo</td>\n",
              "      <td>Animation Family</td>\n",
              "      <td>en</td>\n",
              "      <td>94000000</td>\n",
              "      <td>85.688789</td>\n",
              "      <td>30-05-2003</td>\n",
              "      <td>940335536</td>\n",
              "      <td>100.0</td>\n",
              "      <td>7.6</td>\n",
              "      <td>...</td>\n",
              "      <td>http://movies.disney.com/finding-nemo</td>\n",
              "      <td>father son relationship harbor underwater fish...</td>\n",
              "      <td>Nemo, an adventurous young clownfish, is unexp...</td>\n",
              "      <td>[{\"name\": \"Pixar Animation Studios\", \"id\": 3}]</td>\n",
              "      <td>[{\"iso_3166_1\": \"US\", \"name\": \"United States o...</td>\n",
              "      <td>[{\"iso_639_1\": \"en\", \"name\": \"English\"}]</td>\n",
              "      <td>There are 3.7 trillion fish in the ocean, they...</td>\n",
              "      <td>Albert Brooks Ellen DeGeneres Alexander Gould ...</td>\n",
              "      <td>[{'name': 'Andrew Stanton', 'gender': 2, 'depa...</td>\n",
              "      <td>Andrew Stanton</td>\n",
              "    </tr>\n",
              "    <tr>\n",
              "      <th>3</th>\n",
              "      <td>4</td>\n",
              "      <td>Forrest Gump</td>\n",
              "      <td>Comedy Drama Romance</td>\n",
              "      <td>en</td>\n",
              "      <td>55000000</td>\n",
              "      <td>138.133331</td>\n",
              "      <td>06-07-1994</td>\n",
              "      <td>677945399</td>\n",
              "      <td>142.0</td>\n",
              "      <td>8.2</td>\n",
              "      <td>...</td>\n",
              "      <td>NaN</td>\n",
              "      <td>vietnam veteran hippie mentally disabled runni...</td>\n",
              "      <td>A man with a low IQ has accomplished great thi...</td>\n",
              "      <td>[{\"name\": \"Paramount Pictures\", \"id\": 4}]</td>\n",
              "      <td>[{\"iso_3166_1\": \"US\", \"name\": \"United States o...</td>\n",
              "      <td>[{\"iso_639_1\": \"en\", \"name\": \"English\"}]</td>\n",
              "      <td>The world will never be the same, once you've ...</td>\n",
              "      <td>Tom Hanks Robin Wright Gary Sinise Mykelti Wil...</td>\n",
              "      <td>[{'name': 'Alan Silvestri', 'gender': 2, 'depa...</td>\n",
              "      <td>Robert Zemeckis</td>\n",
              "    </tr>\n",
              "    <tr>\n",
              "      <th>4</th>\n",
              "      <td>5</td>\n",
              "      <td>American Beauty</td>\n",
              "      <td>Drama</td>\n",
              "      <td>en</td>\n",
              "      <td>15000000</td>\n",
              "      <td>80.878605</td>\n",
              "      <td>15-09-1999</td>\n",
              "      <td>356296601</td>\n",
              "      <td>122.0</td>\n",
              "      <td>7.9</td>\n",
              "      <td>...</td>\n",
              "      <td>http://www.dreamworks.com/ab/</td>\n",
              "      <td>male nudity female nudity adultery midlife cri...</td>\n",
              "      <td>Lester Burnham, a depressed suburban father in...</td>\n",
              "      <td>[{\"name\": \"DreamWorks SKG\", \"id\": 27}, {\"name\"...</td>\n",
              "      <td>[{\"iso_3166_1\": \"US\", \"name\": \"United States o...</td>\n",
              "      <td>[{\"iso_639_1\": \"en\", \"name\": \"English\"}]</td>\n",
              "      <td>Look closer.</td>\n",
              "      <td>Kevin Spacey Annette Bening Thora Birch Wes Be...</td>\n",
              "      <td>[{'name': 'Thomas Newman', 'gender': 2, 'depar...</td>\n",
              "      <td>Sam Mendes</td>\n",
              "    </tr>\n",
              "  </tbody>\n",
              "</table>\n",
              "<p>5 rows × 21 columns</p>\n",
              "</div>\n",
              "      <button class=\"colab-df-convert\" onclick=\"convertToInteractive('df-62ea66f8-32dc-4b2f-9e5e-8076fb625dc7')\"\n",
              "              title=\"Convert this dataframe to an interactive table.\"\n",
              "              style=\"display:none;\">\n",
              "\n",
              "  <svg xmlns=\"http://www.w3.org/2000/svg\" height=\"24px\"viewBox=\"0 0 24 24\"\n",
              "       width=\"24px\">\n",
              "    <path d=\"M0 0h24v24H0V0z\" fill=\"none\"/>\n",
              "    <path d=\"M18.56 5.44l.94 2.06.94-2.06 2.06-.94-2.06-.94-.94-2.06-.94 2.06-2.06.94zm-11 1L8.5 8.5l.94-2.06 2.06-.94-2.06-.94L8.5 2.5l-.94 2.06-2.06.94zm10 10l.94 2.06.94-2.06 2.06-.94-2.06-.94-.94-2.06-.94 2.06-2.06.94z\"/><path d=\"M17.41 7.96l-1.37-1.37c-.4-.4-.92-.59-1.43-.59-.52 0-1.04.2-1.43.59L10.3 9.45l-7.72 7.72c-.78.78-.78 2.05 0 2.83L4 21.41c.39.39.9.59 1.41.59.51 0 1.02-.2 1.41-.59l7.78-7.78 2.81-2.81c.8-.78.8-2.07 0-2.86zM5.41 20L4 18.59l7.72-7.72 1.47 1.35L5.41 20z\"/>\n",
              "  </svg>\n",
              "      </button>\n",
              "\n",
              "\n",
              "\n",
              "    <div id=\"df-91e81a40-b4d1-4600-9364-4641f4240b69\">\n",
              "      <button class=\"colab-df-quickchart\" onclick=\"quickchart('df-91e81a40-b4d1-4600-9364-4641f4240b69')\"\n",
              "              title=\"Suggest charts.\"\n",
              "              style=\"display:none;\">\n",
              "\n",
              "<svg xmlns=\"http://www.w3.org/2000/svg\" height=\"24px\"viewBox=\"0 0 24 24\"\n",
              "     width=\"24px\">\n",
              "    <g>\n",
              "        <path d=\"M19 3H5c-1.1 0-2 .9-2 2v14c0 1.1.9 2 2 2h14c1.1 0 2-.9 2-2V5c0-1.1-.9-2-2-2zM9 17H7v-7h2v7zm4 0h-2V7h2v10zm4 0h-2v-4h2v4z\"/>\n",
              "    </g>\n",
              "</svg>\n",
              "      </button>\n",
              "    </div>\n",
              "\n",
              "<style>\n",
              "  .colab-df-quickchart {\n",
              "    background-color: #E8F0FE;\n",
              "    border: none;\n",
              "    border-radius: 50%;\n",
              "    cursor: pointer;\n",
              "    display: none;\n",
              "    fill: #1967D2;\n",
              "    height: 32px;\n",
              "    padding: 0 0 0 0;\n",
              "    width: 32px;\n",
              "  }\n",
              "\n",
              "  .colab-df-quickchart:hover {\n",
              "    background-color: #E2EBFA;\n",
              "    box-shadow: 0px 1px 2px rgba(60, 64, 67, 0.3), 0px 1px 3px 1px rgba(60, 64, 67, 0.15);\n",
              "    fill: #174EA6;\n",
              "  }\n",
              "\n",
              "  [theme=dark] .colab-df-quickchart {\n",
              "    background-color: #3B4455;\n",
              "    fill: #D2E3FC;\n",
              "  }\n",
              "\n",
              "  [theme=dark] .colab-df-quickchart:hover {\n",
              "    background-color: #434B5C;\n",
              "    box-shadow: 0px 1px 3px 1px rgba(0, 0, 0, 0.15);\n",
              "    filter: drop-shadow(0px 1px 2px rgba(0, 0, 0, 0.3));\n",
              "    fill: #FFFFFF;\n",
              "  }\n",
              "</style>\n",
              "\n",
              "    <script>\n",
              "      async function quickchart(key) {\n",
              "        const containerElement = document.querySelector('#' + key);\n",
              "        const charts = await google.colab.kernel.invokeFunction(\n",
              "            'suggestCharts', [key], {});\n",
              "      }\n",
              "    </script>\n",
              "\n",
              "      <script>\n",
              "\n",
              "function displayQuickchartButton(domScope) {\n",
              "  let quickchartButtonEl =\n",
              "    domScope.querySelector('#df-91e81a40-b4d1-4600-9364-4641f4240b69 button.colab-df-quickchart');\n",
              "  quickchartButtonEl.style.display =\n",
              "    google.colab.kernel.accessAllowed ? 'block' : 'none';\n",
              "}\n",
              "\n",
              "        displayQuickchartButton(document);\n",
              "      </script>\n",
              "      <style>\n",
              "    .colab-df-container {\n",
              "      display:flex;\n",
              "      flex-wrap:wrap;\n",
              "      gap: 12px;\n",
              "    }\n",
              "\n",
              "    .colab-df-convert {\n",
              "      background-color: #E8F0FE;\n",
              "      border: none;\n",
              "      border-radius: 50%;\n",
              "      cursor: pointer;\n",
              "      display: none;\n",
              "      fill: #1967D2;\n",
              "      height: 32px;\n",
              "      padding: 0 0 0 0;\n",
              "      width: 32px;\n",
              "    }\n",
              "\n",
              "    .colab-df-convert:hover {\n",
              "      background-color: #E2EBFA;\n",
              "      box-shadow: 0px 1px 2px rgba(60, 64, 67, 0.3), 0px 1px 3px 1px rgba(60, 64, 67, 0.15);\n",
              "      fill: #174EA6;\n",
              "    }\n",
              "\n",
              "    [theme=dark] .colab-df-convert {\n",
              "      background-color: #3B4455;\n",
              "      fill: #D2E3FC;\n",
              "    }\n",
              "\n",
              "    [theme=dark] .colab-df-convert:hover {\n",
              "      background-color: #434B5C;\n",
              "      box-shadow: 0px 1px 3px 1px rgba(0, 0, 0, 0.15);\n",
              "      filter: drop-shadow(0px 1px 2px rgba(0, 0, 0, 0.3));\n",
              "      fill: #FFFFFF;\n",
              "    }\n",
              "  </style>\n",
              "\n",
              "      <script>\n",
              "        const buttonEl =\n",
              "          document.querySelector('#df-62ea66f8-32dc-4b2f-9e5e-8076fb625dc7 button.colab-df-convert');\n",
              "        buttonEl.style.display =\n",
              "          google.colab.kernel.accessAllowed ? 'block' : 'none';\n",
              "\n",
              "        async function convertToInteractive(key) {\n",
              "          const element = document.querySelector('#df-62ea66f8-32dc-4b2f-9e5e-8076fb625dc7');\n",
              "          const dataTable =\n",
              "            await google.colab.kernel.invokeFunction('convertToInteractive',\n",
              "                                                     [key], {});\n",
              "          if (!dataTable) return;\n",
              "\n",
              "          const docLinkHtml = 'Like what you see? Visit the ' +\n",
              "            '<a target=\"_blank\" href=https://colab.research.google.com/notebooks/data_table.ipynb>data table notebook</a>'\n",
              "            + ' to learn more about interactive tables.';\n",
              "          element.innerHTML = '';\n",
              "          dataTable['output_type'] = 'display_data';\n",
              "          await google.colab.output.renderOutput(dataTable, element);\n",
              "          const docLink = document.createElement('div');\n",
              "          docLink.innerHTML = docLinkHtml;\n",
              "          element.appendChild(docLink);\n",
              "        }\n",
              "      </script>\n",
              "    </div>\n",
              "  </div>\n"
            ]
          },
          "metadata": {},
          "execution_count": 4
        }
      ]
    },
    {
      "cell_type": "code",
      "source": [
        "movie_list.describe()"
      ],
      "metadata": {
        "colab": {
          "base_uri": "https://localhost:8080/",
          "height": 364
        },
        "id": "InSdYikPmPut",
        "outputId": "2f578eaf-5b44-4ed5-d46c-a25edd390f40"
      },
      "execution_count": 5,
      "outputs": [
        {
          "output_type": "execute_result",
          "data": {
            "text/plain": [
              "          Movie_ID  Movie_Budget  Movie_Popularity  Movie_Revenue  \\\n",
              "count  4760.000000  4.760000e+03       4760.000000   4.760000e+03   \n",
              "mean   2382.566387  2.920129e+07         21.599510   8.263743e+07   \n",
              "std    1377.270159  4.075620e+07         31.887919   1.630554e+08   \n",
              "min       1.000000  0.000000e+00          0.000372   0.000000e+00   \n",
              "25%    1190.750000  9.257500e+05          4.807074   0.000000e+00   \n",
              "50%    2380.500000  1.500000e+07         13.119058   1.944716e+07   \n",
              "75%    3572.250000  4.000000e+07         28.411929   9.341276e+07   \n",
              "max    4788.000000  3.800000e+08        875.581305   2.787965e+09   \n",
              "\n",
              "       Movie_Runtime   Movie_Vote  Movie_Vote_Count  \n",
              "count    4758.000000  4760.000000       4760.000000  \n",
              "mean      107.184111     6.113866        692.508403  \n",
              "std        21.960332     1.141294       1235.007337  \n",
              "min         0.000000     0.000000          0.000000  \n",
              "25%        94.000000     5.600000         55.000000  \n",
              "50%       104.000000     6.200000        238.000000  \n",
              "75%       118.000000     6.800000        740.250000  \n",
              "max       338.000000    10.000000      13752.000000  "
            ],
            "text/html": [
              "\n",
              "\n",
              "  <div id=\"df-4255158f-d674-4aa8-88ff-d02d5c7a8674\">\n",
              "    <div class=\"colab-df-container\">\n",
              "      <div>\n",
              "<style scoped>\n",
              "    .dataframe tbody tr th:only-of-type {\n",
              "        vertical-align: middle;\n",
              "    }\n",
              "\n",
              "    .dataframe tbody tr th {\n",
              "        vertical-align: top;\n",
              "    }\n",
              "\n",
              "    .dataframe thead th {\n",
              "        text-align: right;\n",
              "    }\n",
              "</style>\n",
              "<table border=\"1\" class=\"dataframe\">\n",
              "  <thead>\n",
              "    <tr style=\"text-align: right;\">\n",
              "      <th></th>\n",
              "      <th>Movie_ID</th>\n",
              "      <th>Movie_Budget</th>\n",
              "      <th>Movie_Popularity</th>\n",
              "      <th>Movie_Revenue</th>\n",
              "      <th>Movie_Runtime</th>\n",
              "      <th>Movie_Vote</th>\n",
              "      <th>Movie_Vote_Count</th>\n",
              "    </tr>\n",
              "  </thead>\n",
              "  <tbody>\n",
              "    <tr>\n",
              "      <th>count</th>\n",
              "      <td>4760.000000</td>\n",
              "      <td>4.760000e+03</td>\n",
              "      <td>4760.000000</td>\n",
              "      <td>4.760000e+03</td>\n",
              "      <td>4758.000000</td>\n",
              "      <td>4760.000000</td>\n",
              "      <td>4760.000000</td>\n",
              "    </tr>\n",
              "    <tr>\n",
              "      <th>mean</th>\n",
              "      <td>2382.566387</td>\n",
              "      <td>2.920129e+07</td>\n",
              "      <td>21.599510</td>\n",
              "      <td>8.263743e+07</td>\n",
              "      <td>107.184111</td>\n",
              "      <td>6.113866</td>\n",
              "      <td>692.508403</td>\n",
              "    </tr>\n",
              "    <tr>\n",
              "      <th>std</th>\n",
              "      <td>1377.270159</td>\n",
              "      <td>4.075620e+07</td>\n",
              "      <td>31.887919</td>\n",
              "      <td>1.630554e+08</td>\n",
              "      <td>21.960332</td>\n",
              "      <td>1.141294</td>\n",
              "      <td>1235.007337</td>\n",
              "    </tr>\n",
              "    <tr>\n",
              "      <th>min</th>\n",
              "      <td>1.000000</td>\n",
              "      <td>0.000000e+00</td>\n",
              "      <td>0.000372</td>\n",
              "      <td>0.000000e+00</td>\n",
              "      <td>0.000000</td>\n",
              "      <td>0.000000</td>\n",
              "      <td>0.000000</td>\n",
              "    </tr>\n",
              "    <tr>\n",
              "      <th>25%</th>\n",
              "      <td>1190.750000</td>\n",
              "      <td>9.257500e+05</td>\n",
              "      <td>4.807074</td>\n",
              "      <td>0.000000e+00</td>\n",
              "      <td>94.000000</td>\n",
              "      <td>5.600000</td>\n",
              "      <td>55.000000</td>\n",
              "    </tr>\n",
              "    <tr>\n",
              "      <th>50%</th>\n",
              "      <td>2380.500000</td>\n",
              "      <td>1.500000e+07</td>\n",
              "      <td>13.119058</td>\n",
              "      <td>1.944716e+07</td>\n",
              "      <td>104.000000</td>\n",
              "      <td>6.200000</td>\n",
              "      <td>238.000000</td>\n",
              "    </tr>\n",
              "    <tr>\n",
              "      <th>75%</th>\n",
              "      <td>3572.250000</td>\n",
              "      <td>4.000000e+07</td>\n",
              "      <td>28.411929</td>\n",
              "      <td>9.341276e+07</td>\n",
              "      <td>118.000000</td>\n",
              "      <td>6.800000</td>\n",
              "      <td>740.250000</td>\n",
              "    </tr>\n",
              "    <tr>\n",
              "      <th>max</th>\n",
              "      <td>4788.000000</td>\n",
              "      <td>3.800000e+08</td>\n",
              "      <td>875.581305</td>\n",
              "      <td>2.787965e+09</td>\n",
              "      <td>338.000000</td>\n",
              "      <td>10.000000</td>\n",
              "      <td>13752.000000</td>\n",
              "    </tr>\n",
              "  </tbody>\n",
              "</table>\n",
              "</div>\n",
              "      <button class=\"colab-df-convert\" onclick=\"convertToInteractive('df-4255158f-d674-4aa8-88ff-d02d5c7a8674')\"\n",
              "              title=\"Convert this dataframe to an interactive table.\"\n",
              "              style=\"display:none;\">\n",
              "\n",
              "  <svg xmlns=\"http://www.w3.org/2000/svg\" height=\"24px\"viewBox=\"0 0 24 24\"\n",
              "       width=\"24px\">\n",
              "    <path d=\"M0 0h24v24H0V0z\" fill=\"none\"/>\n",
              "    <path d=\"M18.56 5.44l.94 2.06.94-2.06 2.06-.94-2.06-.94-.94-2.06-.94 2.06-2.06.94zm-11 1L8.5 8.5l.94-2.06 2.06-.94-2.06-.94L8.5 2.5l-.94 2.06-2.06.94zm10 10l.94 2.06.94-2.06 2.06-.94-2.06-.94-.94-2.06-.94 2.06-2.06.94z\"/><path d=\"M17.41 7.96l-1.37-1.37c-.4-.4-.92-.59-1.43-.59-.52 0-1.04.2-1.43.59L10.3 9.45l-7.72 7.72c-.78.78-.78 2.05 0 2.83L4 21.41c.39.39.9.59 1.41.59.51 0 1.02-.2 1.41-.59l7.78-7.78 2.81-2.81c.8-.78.8-2.07 0-2.86zM5.41 20L4 18.59l7.72-7.72 1.47 1.35L5.41 20z\"/>\n",
              "  </svg>\n",
              "      </button>\n",
              "\n",
              "\n",
              "\n",
              "    <div id=\"df-35a3f25c-2d79-48e5-886c-b823433f46f2\">\n",
              "      <button class=\"colab-df-quickchart\" onclick=\"quickchart('df-35a3f25c-2d79-48e5-886c-b823433f46f2')\"\n",
              "              title=\"Suggest charts.\"\n",
              "              style=\"display:none;\">\n",
              "\n",
              "<svg xmlns=\"http://www.w3.org/2000/svg\" height=\"24px\"viewBox=\"0 0 24 24\"\n",
              "     width=\"24px\">\n",
              "    <g>\n",
              "        <path d=\"M19 3H5c-1.1 0-2 .9-2 2v14c0 1.1.9 2 2 2h14c1.1 0 2-.9 2-2V5c0-1.1-.9-2-2-2zM9 17H7v-7h2v7zm4 0h-2V7h2v10zm4 0h-2v-4h2v4z\"/>\n",
              "    </g>\n",
              "</svg>\n",
              "      </button>\n",
              "    </div>\n",
              "\n",
              "<style>\n",
              "  .colab-df-quickchart {\n",
              "    background-color: #E8F0FE;\n",
              "    border: none;\n",
              "    border-radius: 50%;\n",
              "    cursor: pointer;\n",
              "    display: none;\n",
              "    fill: #1967D2;\n",
              "    height: 32px;\n",
              "    padding: 0 0 0 0;\n",
              "    width: 32px;\n",
              "  }\n",
              "\n",
              "  .colab-df-quickchart:hover {\n",
              "    background-color: #E2EBFA;\n",
              "    box-shadow: 0px 1px 2px rgba(60, 64, 67, 0.3), 0px 1px 3px 1px rgba(60, 64, 67, 0.15);\n",
              "    fill: #174EA6;\n",
              "  }\n",
              "\n",
              "  [theme=dark] .colab-df-quickchart {\n",
              "    background-color: #3B4455;\n",
              "    fill: #D2E3FC;\n",
              "  }\n",
              "\n",
              "  [theme=dark] .colab-df-quickchart:hover {\n",
              "    background-color: #434B5C;\n",
              "    box-shadow: 0px 1px 3px 1px rgba(0, 0, 0, 0.15);\n",
              "    filter: drop-shadow(0px 1px 2px rgba(0, 0, 0, 0.3));\n",
              "    fill: #FFFFFF;\n",
              "  }\n",
              "</style>\n",
              "\n",
              "    <script>\n",
              "      async function quickchart(key) {\n",
              "        const containerElement = document.querySelector('#' + key);\n",
              "        const charts = await google.colab.kernel.invokeFunction(\n",
              "            'suggestCharts', [key], {});\n",
              "      }\n",
              "    </script>\n",
              "\n",
              "      <script>\n",
              "\n",
              "function displayQuickchartButton(domScope) {\n",
              "  let quickchartButtonEl =\n",
              "    domScope.querySelector('#df-35a3f25c-2d79-48e5-886c-b823433f46f2 button.colab-df-quickchart');\n",
              "  quickchartButtonEl.style.display =\n",
              "    google.colab.kernel.accessAllowed ? 'block' : 'none';\n",
              "}\n",
              "\n",
              "        displayQuickchartButton(document);\n",
              "      </script>\n",
              "      <style>\n",
              "    .colab-df-container {\n",
              "      display:flex;\n",
              "      flex-wrap:wrap;\n",
              "      gap: 12px;\n",
              "    }\n",
              "\n",
              "    .colab-df-convert {\n",
              "      background-color: #E8F0FE;\n",
              "      border: none;\n",
              "      border-radius: 50%;\n",
              "      cursor: pointer;\n",
              "      display: none;\n",
              "      fill: #1967D2;\n",
              "      height: 32px;\n",
              "      padding: 0 0 0 0;\n",
              "      width: 32px;\n",
              "    }\n",
              "\n",
              "    .colab-df-convert:hover {\n",
              "      background-color: #E2EBFA;\n",
              "      box-shadow: 0px 1px 2px rgba(60, 64, 67, 0.3), 0px 1px 3px 1px rgba(60, 64, 67, 0.15);\n",
              "      fill: #174EA6;\n",
              "    }\n",
              "\n",
              "    [theme=dark] .colab-df-convert {\n",
              "      background-color: #3B4455;\n",
              "      fill: #D2E3FC;\n",
              "    }\n",
              "\n",
              "    [theme=dark] .colab-df-convert:hover {\n",
              "      background-color: #434B5C;\n",
              "      box-shadow: 0px 1px 3px 1px rgba(0, 0, 0, 0.15);\n",
              "      filter: drop-shadow(0px 1px 2px rgba(0, 0, 0, 0.3));\n",
              "      fill: #FFFFFF;\n",
              "    }\n",
              "  </style>\n",
              "\n",
              "      <script>\n",
              "        const buttonEl =\n",
              "          document.querySelector('#df-4255158f-d674-4aa8-88ff-d02d5c7a8674 button.colab-df-convert');\n",
              "        buttonEl.style.display =\n",
              "          google.colab.kernel.accessAllowed ? 'block' : 'none';\n",
              "\n",
              "        async function convertToInteractive(key) {\n",
              "          const element = document.querySelector('#df-4255158f-d674-4aa8-88ff-d02d5c7a8674');\n",
              "          const dataTable =\n",
              "            await google.colab.kernel.invokeFunction('convertToInteractive',\n",
              "                                                     [key], {});\n",
              "          if (!dataTable) return;\n",
              "\n",
              "          const docLinkHtml = 'Like what you see? Visit the ' +\n",
              "            '<a target=\"_blank\" href=https://colab.research.google.com/notebooks/data_table.ipynb>data table notebook</a>'\n",
              "            + ' to learn more about interactive tables.';\n",
              "          element.innerHTML = '';\n",
              "          dataTable['output_type'] = 'display_data';\n",
              "          await google.colab.output.renderOutput(dataTable, element);\n",
              "          const docLink = document.createElement('div');\n",
              "          docLink.innerHTML = docLinkHtml;\n",
              "          element.appendChild(docLink);\n",
              "        }\n",
              "      </script>\n",
              "    </div>\n",
              "  </div>\n"
            ]
          },
          "metadata": {},
          "execution_count": 5
        }
      ]
    },
    {
      "cell_type": "code",
      "source": [
        "movie_list.info()"
      ],
      "metadata": {
        "colab": {
          "base_uri": "https://localhost:8080/"
        },
        "id": "_6Ks10mQmPyK",
        "outputId": "e7971694-730d-415a-e7cd-f27c59e9c484"
      },
      "execution_count": 6,
      "outputs": [
        {
          "output_type": "stream",
          "name": "stdout",
          "text": [
            "<class 'pandas.core.frame.DataFrame'>\n",
            "RangeIndex: 4760 entries, 0 to 4759\n",
            "Data columns (total 21 columns):\n",
            " #   Column                    Non-Null Count  Dtype  \n",
            "---  ------                    --------------  -----  \n",
            " 0   Movie_ID                  4760 non-null   int64  \n",
            " 1   Movie_Title               4760 non-null   object \n",
            " 2   Movie_Genre               4760 non-null   object \n",
            " 3   Movie_Language            4760 non-null   object \n",
            " 4   Movie_Budget              4760 non-null   int64  \n",
            " 5   Movie_Popularity          4760 non-null   float64\n",
            " 6   Movie_Release_Date        4760 non-null   object \n",
            " 7   Movie_Revenue             4760 non-null   int64  \n",
            " 8   Movie_Runtime             4758 non-null   float64\n",
            " 9   Movie_Vote                4760 non-null   float64\n",
            " 10  Movie_Vote_Count          4760 non-null   int64  \n",
            " 11  Movie_Homepage            1699 non-null   object \n",
            " 12  Movie_Keywords            4373 non-null   object \n",
            " 13  Movie_Overview            4757 non-null   object \n",
            " 14  Movie_Production_House    4760 non-null   object \n",
            " 15  Movie_Production_Country  4760 non-null   object \n",
            " 16  Movie_Spoken_Language     4760 non-null   object \n",
            " 17  Movie_Tagline             3942 non-null   object \n",
            " 18  Movie_Cast                4733 non-null   object \n",
            " 19  Movie_Crew                4760 non-null   object \n",
            " 20  Movie_Director            4738 non-null   object \n",
            "dtypes: float64(3), int64(4), object(14)\n",
            "memory usage: 781.1+ KB\n"
          ]
        }
      ]
    },
    {
      "cell_type": "code",
      "source": [
        "movie_list.columns"
      ],
      "metadata": {
        "colab": {
          "base_uri": "https://localhost:8080/"
        },
        "id": "I9Uh-vWmmP1A",
        "outputId": "a1bc8348-991e-4096-f9fb-6d9c4f1edc51"
      },
      "execution_count": 7,
      "outputs": [
        {
          "output_type": "execute_result",
          "data": {
            "text/plain": [
              "Index(['Movie_ID', 'Movie_Title', 'Movie_Genre', 'Movie_Language',\n",
              "       'Movie_Budget', 'Movie_Popularity', 'Movie_Release_Date',\n",
              "       'Movie_Revenue', 'Movie_Runtime', 'Movie_Vote', 'Movie_Vote_Count',\n",
              "       'Movie_Homepage', 'Movie_Keywords', 'Movie_Overview',\n",
              "       'Movie_Production_House', 'Movie_Production_Country',\n",
              "       'Movie_Spoken_Language', 'Movie_Tagline', 'Movie_Cast', 'Movie_Crew',\n",
              "       'Movie_Director'],\n",
              "      dtype='object')"
            ]
          },
          "metadata": {},
          "execution_count": 7
        }
      ]
    },
    {
      "cell_type": "code",
      "source": [
        "movie_list.shape"
      ],
      "metadata": {
        "colab": {
          "base_uri": "https://localhost:8080/"
        },
        "id": "ggnL_zl0mP4Q",
        "outputId": "89c3e44f-d20e-4a2c-ab44-3ad01b2f413b"
      },
      "execution_count": 9,
      "outputs": [
        {
          "output_type": "execute_result",
          "data": {
            "text/plain": [
              "(4760, 21)"
            ]
          },
          "metadata": {},
          "execution_count": 9
        }
      ]
    },
    {
      "cell_type": "markdown",
      "source": [
        "Define Target Variable (y) and Feature Variables (X)\n",
        "\n"
      ],
      "metadata": {
        "id": "a6h12zMZmjWq"
      }
    },
    {
      "cell_type": "code",
      "source": [
        "x_features = movie_list[['Movie_Genre','Movie_Keywords','Movie_Tagline','Movie_Cast','Movie_Director']].fillna('')"
      ],
      "metadata": {
        "id": "Djp7tGS5mP65"
      },
      "execution_count": 8,
      "outputs": []
    },
    {
      "cell_type": "code",
      "source": [
        "x_features.shape"
      ],
      "metadata": {
        "colab": {
          "base_uri": "https://localhost:8080/"
        },
        "id": "vMUeVtWtmP9e",
        "outputId": "79fe4d95-2996-4508-e461-17c4687e6a57"
      },
      "execution_count": 10,
      "outputs": [
        {
          "output_type": "execute_result",
          "data": {
            "text/plain": [
              "(4760, 5)"
            ]
          },
          "metadata": {},
          "execution_count": 10
        }
      ]
    },
    {
      "cell_type": "code",
      "source": [
        "x_features"
      ],
      "metadata": {
        "colab": {
          "base_uri": "https://localhost:8080/",
          "height": 1000
        },
        "id": "H9bRQ5rlmQAn",
        "outputId": "157d3437-1a97-477a-854b-bd44b9c3f1e3"
      },
      "execution_count": 11,
      "outputs": [
        {
          "output_type": "execute_result",
          "data": {
            "text/plain": [
              "                           Movie_Genre  \\\n",
              "0                         Crime Comedy   \n",
              "1     Adventure Action Science Fiction   \n",
              "2                     Animation Family   \n",
              "3                 Comedy Drama Romance   \n",
              "4                                Drama   \n",
              "...                                ...   \n",
              "4755                            Horror   \n",
              "4756               Comedy Family Drama   \n",
              "4757                    Thriller Drama   \n",
              "4758                            Family   \n",
              "4759                       Documentary   \n",
              "\n",
              "                                         Movie_Keywords  \\\n",
              "0             hotel new year's eve witch bet hotel room   \n",
              "1           android galaxy hermit death star lightsaber   \n",
              "2     father son relationship harbor underwater fish...   \n",
              "3     vietnam veteran hippie mentally disabled runni...   \n",
              "4     male nudity female nudity adultery midlife cri...   \n",
              "...                                                 ...   \n",
              "4755                                                      \n",
              "4756                                                      \n",
              "4757                     christian film sex trafficking   \n",
              "4758                                                      \n",
              "4759  music actors legendary perfomer classic hollyw...   \n",
              "\n",
              "                                          Movie_Tagline  \\\n",
              "0     Twelve outrageous guests. Four scandalous requ...   \n",
              "1          A long time ago in a galaxy far, far away...   \n",
              "2     There are 3.7 trillion fish in the ocean, they...   \n",
              "3     The world will never be the same, once you've ...   \n",
              "4                                          Look closer.   \n",
              "...                                                 ...   \n",
              "4755                The hot spot where Satan's waitin'.   \n",
              "4756           It’s better to stand out than to fit in.   \n",
              "4757           She never knew it could happen to her...   \n",
              "4758                                                      \n",
              "4759                                                      \n",
              "\n",
              "                                             Movie_Cast     Movie_Director  \n",
              "0     Tim Roth Antonio Banderas Jennifer Beals Madon...     Allison Anders  \n",
              "1     Mark Hamill Harrison Ford Carrie Fisher Peter ...       George Lucas  \n",
              "2     Albert Brooks Ellen DeGeneres Alexander Gould ...     Andrew Stanton  \n",
              "3     Tom Hanks Robin Wright Gary Sinise Mykelti Wil...    Robert Zemeckis  \n",
              "4     Kevin Spacey Annette Bening Thora Birch Wes Be...         Sam Mendes  \n",
              "...                                                 ...                ...  \n",
              "4755  Lisa Hart Carroll Michael Des Barres Paul Drak...         Pece Dingo  \n",
              "4756  Roni Akurati Brighton Sharbino Jason Lee Anjul...       Frank Lotito  \n",
              "4757  Nicole Smolen Kim Baldwin Ariana Stephens Brys...       Jaco Booyens  \n",
              "4758                                                                        \n",
              "4759                                    Tony Oppedisano  Simon Napier-Bell  \n",
              "\n",
              "[4760 rows x 5 columns]"
            ],
            "text/html": [
              "\n",
              "\n",
              "  <div id=\"df-2a26b8a0-6397-466c-bdb4-9ad31bd330b8\">\n",
              "    <div class=\"colab-df-container\">\n",
              "      <div>\n",
              "<style scoped>\n",
              "    .dataframe tbody tr th:only-of-type {\n",
              "        vertical-align: middle;\n",
              "    }\n",
              "\n",
              "    .dataframe tbody tr th {\n",
              "        vertical-align: top;\n",
              "    }\n",
              "\n",
              "    .dataframe thead th {\n",
              "        text-align: right;\n",
              "    }\n",
              "</style>\n",
              "<table border=\"1\" class=\"dataframe\">\n",
              "  <thead>\n",
              "    <tr style=\"text-align: right;\">\n",
              "      <th></th>\n",
              "      <th>Movie_Genre</th>\n",
              "      <th>Movie_Keywords</th>\n",
              "      <th>Movie_Tagline</th>\n",
              "      <th>Movie_Cast</th>\n",
              "      <th>Movie_Director</th>\n",
              "    </tr>\n",
              "  </thead>\n",
              "  <tbody>\n",
              "    <tr>\n",
              "      <th>0</th>\n",
              "      <td>Crime Comedy</td>\n",
              "      <td>hotel new year's eve witch bet hotel room</td>\n",
              "      <td>Twelve outrageous guests. Four scandalous requ...</td>\n",
              "      <td>Tim Roth Antonio Banderas Jennifer Beals Madon...</td>\n",
              "      <td>Allison Anders</td>\n",
              "    </tr>\n",
              "    <tr>\n",
              "      <th>1</th>\n",
              "      <td>Adventure Action Science Fiction</td>\n",
              "      <td>android galaxy hermit death star lightsaber</td>\n",
              "      <td>A long time ago in a galaxy far, far away...</td>\n",
              "      <td>Mark Hamill Harrison Ford Carrie Fisher Peter ...</td>\n",
              "      <td>George Lucas</td>\n",
              "    </tr>\n",
              "    <tr>\n",
              "      <th>2</th>\n",
              "      <td>Animation Family</td>\n",
              "      <td>father son relationship harbor underwater fish...</td>\n",
              "      <td>There are 3.7 trillion fish in the ocean, they...</td>\n",
              "      <td>Albert Brooks Ellen DeGeneres Alexander Gould ...</td>\n",
              "      <td>Andrew Stanton</td>\n",
              "    </tr>\n",
              "    <tr>\n",
              "      <th>3</th>\n",
              "      <td>Comedy Drama Romance</td>\n",
              "      <td>vietnam veteran hippie mentally disabled runni...</td>\n",
              "      <td>The world will never be the same, once you've ...</td>\n",
              "      <td>Tom Hanks Robin Wright Gary Sinise Mykelti Wil...</td>\n",
              "      <td>Robert Zemeckis</td>\n",
              "    </tr>\n",
              "    <tr>\n",
              "      <th>4</th>\n",
              "      <td>Drama</td>\n",
              "      <td>male nudity female nudity adultery midlife cri...</td>\n",
              "      <td>Look closer.</td>\n",
              "      <td>Kevin Spacey Annette Bening Thora Birch Wes Be...</td>\n",
              "      <td>Sam Mendes</td>\n",
              "    </tr>\n",
              "    <tr>\n",
              "      <th>...</th>\n",
              "      <td>...</td>\n",
              "      <td>...</td>\n",
              "      <td>...</td>\n",
              "      <td>...</td>\n",
              "      <td>...</td>\n",
              "    </tr>\n",
              "    <tr>\n",
              "      <th>4755</th>\n",
              "      <td>Horror</td>\n",
              "      <td></td>\n",
              "      <td>The hot spot where Satan's waitin'.</td>\n",
              "      <td>Lisa Hart Carroll Michael Des Barres Paul Drak...</td>\n",
              "      <td>Pece Dingo</td>\n",
              "    </tr>\n",
              "    <tr>\n",
              "      <th>4756</th>\n",
              "      <td>Comedy Family Drama</td>\n",
              "      <td></td>\n",
              "      <td>It’s better to stand out than to fit in.</td>\n",
              "      <td>Roni Akurati Brighton Sharbino Jason Lee Anjul...</td>\n",
              "      <td>Frank Lotito</td>\n",
              "    </tr>\n",
              "    <tr>\n",
              "      <th>4757</th>\n",
              "      <td>Thriller Drama</td>\n",
              "      <td>christian film sex trafficking</td>\n",
              "      <td>She never knew it could happen to her...</td>\n",
              "      <td>Nicole Smolen Kim Baldwin Ariana Stephens Brys...</td>\n",
              "      <td>Jaco Booyens</td>\n",
              "    </tr>\n",
              "    <tr>\n",
              "      <th>4758</th>\n",
              "      <td>Family</td>\n",
              "      <td></td>\n",
              "      <td></td>\n",
              "      <td></td>\n",
              "      <td></td>\n",
              "    </tr>\n",
              "    <tr>\n",
              "      <th>4759</th>\n",
              "      <td>Documentary</td>\n",
              "      <td>music actors legendary perfomer classic hollyw...</td>\n",
              "      <td></td>\n",
              "      <td>Tony Oppedisano</td>\n",
              "      <td>Simon Napier-Bell</td>\n",
              "    </tr>\n",
              "  </tbody>\n",
              "</table>\n",
              "<p>4760 rows × 5 columns</p>\n",
              "</div>\n",
              "      <button class=\"colab-df-convert\" onclick=\"convertToInteractive('df-2a26b8a0-6397-466c-bdb4-9ad31bd330b8')\"\n",
              "              title=\"Convert this dataframe to an interactive table.\"\n",
              "              style=\"display:none;\">\n",
              "\n",
              "  <svg xmlns=\"http://www.w3.org/2000/svg\" height=\"24px\"viewBox=\"0 0 24 24\"\n",
              "       width=\"24px\">\n",
              "    <path d=\"M0 0h24v24H0V0z\" fill=\"none\"/>\n",
              "    <path d=\"M18.56 5.44l.94 2.06.94-2.06 2.06-.94-2.06-.94-.94-2.06-.94 2.06-2.06.94zm-11 1L8.5 8.5l.94-2.06 2.06-.94-2.06-.94L8.5 2.5l-.94 2.06-2.06.94zm10 10l.94 2.06.94-2.06 2.06-.94-2.06-.94-.94-2.06-.94 2.06-2.06.94z\"/><path d=\"M17.41 7.96l-1.37-1.37c-.4-.4-.92-.59-1.43-.59-.52 0-1.04.2-1.43.59L10.3 9.45l-7.72 7.72c-.78.78-.78 2.05 0 2.83L4 21.41c.39.39.9.59 1.41.59.51 0 1.02-.2 1.41-.59l7.78-7.78 2.81-2.81c.8-.78.8-2.07 0-2.86zM5.41 20L4 18.59l7.72-7.72 1.47 1.35L5.41 20z\"/>\n",
              "  </svg>\n",
              "      </button>\n",
              "\n",
              "\n",
              "\n",
              "    <div id=\"df-0c289941-b67c-419b-95ff-6803b67a140d\">\n",
              "      <button class=\"colab-df-quickchart\" onclick=\"quickchart('df-0c289941-b67c-419b-95ff-6803b67a140d')\"\n",
              "              title=\"Suggest charts.\"\n",
              "              style=\"display:none;\">\n",
              "\n",
              "<svg xmlns=\"http://www.w3.org/2000/svg\" height=\"24px\"viewBox=\"0 0 24 24\"\n",
              "     width=\"24px\">\n",
              "    <g>\n",
              "        <path d=\"M19 3H5c-1.1 0-2 .9-2 2v14c0 1.1.9 2 2 2h14c1.1 0 2-.9 2-2V5c0-1.1-.9-2-2-2zM9 17H7v-7h2v7zm4 0h-2V7h2v10zm4 0h-2v-4h2v4z\"/>\n",
              "    </g>\n",
              "</svg>\n",
              "      </button>\n",
              "    </div>\n",
              "\n",
              "<style>\n",
              "  .colab-df-quickchart {\n",
              "    background-color: #E8F0FE;\n",
              "    border: none;\n",
              "    border-radius: 50%;\n",
              "    cursor: pointer;\n",
              "    display: none;\n",
              "    fill: #1967D2;\n",
              "    height: 32px;\n",
              "    padding: 0 0 0 0;\n",
              "    width: 32px;\n",
              "  }\n",
              "\n",
              "  .colab-df-quickchart:hover {\n",
              "    background-color: #E2EBFA;\n",
              "    box-shadow: 0px 1px 2px rgba(60, 64, 67, 0.3), 0px 1px 3px 1px rgba(60, 64, 67, 0.15);\n",
              "    fill: #174EA6;\n",
              "  }\n",
              "\n",
              "  [theme=dark] .colab-df-quickchart {\n",
              "    background-color: #3B4455;\n",
              "    fill: #D2E3FC;\n",
              "  }\n",
              "\n",
              "  [theme=dark] .colab-df-quickchart:hover {\n",
              "    background-color: #434B5C;\n",
              "    box-shadow: 0px 1px 3px 1px rgba(0, 0, 0, 0.15);\n",
              "    filter: drop-shadow(0px 1px 2px rgba(0, 0, 0, 0.3));\n",
              "    fill: #FFFFFF;\n",
              "  }\n",
              "</style>\n",
              "\n",
              "    <script>\n",
              "      async function quickchart(key) {\n",
              "        const containerElement = document.querySelector('#' + key);\n",
              "        const charts = await google.colab.kernel.invokeFunction(\n",
              "            'suggestCharts', [key], {});\n",
              "      }\n",
              "    </script>\n",
              "\n",
              "      <script>\n",
              "\n",
              "function displayQuickchartButton(domScope) {\n",
              "  let quickchartButtonEl =\n",
              "    domScope.querySelector('#df-0c289941-b67c-419b-95ff-6803b67a140d button.colab-df-quickchart');\n",
              "  quickchartButtonEl.style.display =\n",
              "    google.colab.kernel.accessAllowed ? 'block' : 'none';\n",
              "}\n",
              "\n",
              "        displayQuickchartButton(document);\n",
              "      </script>\n",
              "      <style>\n",
              "    .colab-df-container {\n",
              "      display:flex;\n",
              "      flex-wrap:wrap;\n",
              "      gap: 12px;\n",
              "    }\n",
              "\n",
              "    .colab-df-convert {\n",
              "      background-color: #E8F0FE;\n",
              "      border: none;\n",
              "      border-radius: 50%;\n",
              "      cursor: pointer;\n",
              "      display: none;\n",
              "      fill: #1967D2;\n",
              "      height: 32px;\n",
              "      padding: 0 0 0 0;\n",
              "      width: 32px;\n",
              "    }\n",
              "\n",
              "    .colab-df-convert:hover {\n",
              "      background-color: #E2EBFA;\n",
              "      box-shadow: 0px 1px 2px rgba(60, 64, 67, 0.3), 0px 1px 3px 1px rgba(60, 64, 67, 0.15);\n",
              "      fill: #174EA6;\n",
              "    }\n",
              "\n",
              "    [theme=dark] .colab-df-convert {\n",
              "      background-color: #3B4455;\n",
              "      fill: #D2E3FC;\n",
              "    }\n",
              "\n",
              "    [theme=dark] .colab-df-convert:hover {\n",
              "      background-color: #434B5C;\n",
              "      box-shadow: 0px 1px 3px 1px rgba(0, 0, 0, 0.15);\n",
              "      filter: drop-shadow(0px 1px 2px rgba(0, 0, 0, 0.3));\n",
              "      fill: #FFFFFF;\n",
              "    }\n",
              "  </style>\n",
              "\n",
              "      <script>\n",
              "        const buttonEl =\n",
              "          document.querySelector('#df-2a26b8a0-6397-466c-bdb4-9ad31bd330b8 button.colab-df-convert');\n",
              "        buttonEl.style.display =\n",
              "          google.colab.kernel.accessAllowed ? 'block' : 'none';\n",
              "\n",
              "        async function convertToInteractive(key) {\n",
              "          const element = document.querySelector('#df-2a26b8a0-6397-466c-bdb4-9ad31bd330b8');\n",
              "          const dataTable =\n",
              "            await google.colab.kernel.invokeFunction('convertToInteractive',\n",
              "                                                     [key], {});\n",
              "          if (!dataTable) return;\n",
              "\n",
              "          const docLinkHtml = 'Like what you see? Visit the ' +\n",
              "            '<a target=\"_blank\" href=https://colab.research.google.com/notebooks/data_table.ipynb>data table notebook</a>'\n",
              "            + ' to learn more about interactive tables.';\n",
              "          element.innerHTML = '';\n",
              "          dataTable['output_type'] = 'display_data';\n",
              "          await google.colab.output.renderOutput(dataTable, element);\n",
              "          const docLink = document.createElement('div');\n",
              "          docLink.innerHTML = docLinkHtml;\n",
              "          element.appendChild(docLink);\n",
              "        }\n",
              "      </script>\n",
              "    </div>\n",
              "  </div>\n"
            ]
          },
          "metadata": {},
          "execution_count": 11
        }
      ]
    },
    {
      "cell_type": "code",
      "source": [
        "x = x_features['Movie_Genre'] + ' ' + x_features['Movie_Keywords'] + ' ' + x_features['Movie_Tagline']+' '+x_features['Movie_Cast']+' '+x_features['Movie_Director']"
      ],
      "metadata": {
        "id": "of_E-UromQDO"
      },
      "execution_count": 12,
      "outputs": []
    },
    {
      "cell_type": "code",
      "source": [
        "x"
      ],
      "metadata": {
        "colab": {
          "base_uri": "https://localhost:8080/"
        },
        "id": "ovnHOogwmQF7",
        "outputId": "33cc2a94-35e4-461d-94a2-e747342c7795"
      },
      "execution_count": 13,
      "outputs": [
        {
          "output_type": "execute_result",
          "data": {
            "text/plain": [
              "0       Crime Comedy hotel new year's eve witch bet ho...\n",
              "1       Adventure Action Science Fiction android galax...\n",
              "2       Animation Family father son relationship harbo...\n",
              "3       Comedy Drama Romance vietnam veteran hippie me...\n",
              "4       Drama male nudity female nudity adultery midli...\n",
              "                              ...                        \n",
              "4755    Horror  The hot spot where Satan's waitin'. Li...\n",
              "4756    Comedy Family Drama  It’s better to stand out ...\n",
              "4757    Thriller Drama christian film sex trafficking ...\n",
              "4758                                           Family    \n",
              "4759    Documentary music actors legendary perfomer cl...\n",
              "Length: 4760, dtype: object"
            ]
          },
          "metadata": {},
          "execution_count": 13
        }
      ]
    },
    {
      "cell_type": "markdown",
      "source": [
        "Modeling\n",
        "\n"
      ],
      "metadata": {
        "id": "n9Zrbafkm3PZ"
      }
    },
    {
      "cell_type": "code",
      "source": [
        "# we use tdidf to reduce the words in the data set which are similar which takes more space so\n",
        "#  if we use  we can reduce the words which are similar\n",
        "# tfidf = term frequency inverse document frequency"
      ],
      "metadata": {
        "id": "EcY36ekjmQI3"
      },
      "execution_count": null,
      "outputs": []
    },
    {
      "cell_type": "code",
      "source": [
        "# this function helps to find the single word has used in the entire document/dataframe\n",
        "# let say an example 'the' will be used so many times in our data\n",
        "tfidf = TfidfVectorizer()"
      ],
      "metadata": {
        "id": "dRq6cTTmmQLU"
      },
      "execution_count": 14,
      "outputs": []
    },
    {
      "cell_type": "code",
      "source": [
        "x_tfidf = tfidf.fit_transform(x)"
      ],
      "metadata": {
        "id": "pGHOduXkmQOr"
      },
      "execution_count": 15,
      "outputs": []
    },
    {
      "cell_type": "code",
      "source": [
        "# 4760 rows and 17258 columns each column for each word\n",
        "x_tfidf.shape"
      ],
      "metadata": {
        "colab": {
          "base_uri": "https://localhost:8080/"
        },
        "id": "-45uJXgknJRi",
        "outputId": "676937f5-0fd3-4a40-efbe-fef0ef51bb14"
      },
      "execution_count": 17,
      "outputs": [
        {
          "output_type": "execute_result",
          "data": {
            "text/plain": [
              "(4760, 17258)"
            ]
          },
          "metadata": {},
          "execution_count": 17
        }
      ]
    },
    {
      "cell_type": "code",
      "source": [
        "# 0 row 617 column word is present in the dataframe is 0.1633 in percentage is 1%.\n",
        "print(x_tfidf)"
      ],
      "metadata": {
        "colab": {
          "base_uri": "https://localhost:8080/"
        },
        "id": "MUGBIGFanJU_",
        "outputId": "0672cacf-8565-4dc4-faaa-2cf13e0aef13"
      },
      "execution_count": 18,
      "outputs": [
        {
          "output_type": "stream",
          "name": "stdout",
          "text": [
            "  (0, 617)\t0.1633382144407513\n",
            "  (0, 492)\t0.1432591540388685\n",
            "  (0, 15413)\t0.1465525095337543\n",
            "  (0, 9675)\t0.14226057295252661\n",
            "  (0, 9465)\t0.1659841367820977\n",
            "  (0, 1390)\t0.16898383612799558\n",
            "  (0, 7825)\t0.09799561597509843\n",
            "  (0, 1214)\t0.13865857545144072\n",
            "  (0, 729)\t0.13415063359531618\n",
            "  (0, 13093)\t0.1432591540388685\n",
            "  (0, 15355)\t0.10477815972666779\n",
            "  (0, 9048)\t0.0866842116160778\n",
            "  (0, 11161)\t0.06250380151644369\n",
            "  (0, 16773)\t0.17654247479915475\n",
            "  (0, 5612)\t0.08603537588547631\n",
            "  (0, 16735)\t0.10690083751525419\n",
            "  (0, 7904)\t0.13348000542112332\n",
            "  (0, 15219)\t0.09800472886453934\n",
            "  (0, 11242)\t0.07277788238484746\n",
            "  (0, 3878)\t0.11998399582562203\n",
            "  (0, 5499)\t0.11454057510303811\n",
            "  (0, 7071)\t0.19822417598406614\n",
            "  (0, 7454)\t0.14745635785412262\n",
            "  (0, 1495)\t0.19712637387361423\n",
            "  (0, 9206)\t0.15186283580984414\n",
            "  :\t:\n",
            "  (4757, 5455)\t0.12491480594769522\n",
            "  (4757, 2967)\t0.16273475835631626\n",
            "  (4757, 8464)\t0.23522565554066333\n",
            "  (4757, 6938)\t0.17088173678136628\n",
            "  (4757, 8379)\t0.17480603856721913\n",
            "  (4757, 15303)\t0.07654356007668191\n",
            "  (4757, 15384)\t0.09754322497537371\n",
            "  (4757, 7649)\t0.11479421494340192\n",
            "  (4757, 10896)\t0.14546473055066447\n",
            "  (4757, 4494)\t0.05675298448720501\n",
            "  (4758, 5238)\t1.0\n",
            "  (4759, 11264)\t0.33947721804318337\n",
            "  (4759, 11708)\t0.33947721804318337\n",
            "  (4759, 205)\t0.3237911628497312\n",
            "  (4759, 8902)\t0.3040290704566037\n",
            "  (4759, 14062)\t0.3237911628497312\n",
            "  (4759, 3058)\t0.2812896191863103\n",
            "  (4759, 7130)\t0.26419662449963793\n",
            "  (4759, 10761)\t0.3126617295732147\n",
            "  (4759, 4358)\t0.18306542312175342\n",
            "  (4759, 14051)\t0.20084315377640435\n",
            "  (4759, 5690)\t0.19534291014627303\n",
            "  (4759, 15431)\t0.19628653185946862\n",
            "  (4759, 1490)\t0.21197258705292082\n",
            "  (4759, 10666)\t0.15888268987343043\n"
          ]
        }
      ]
    },
    {
      "cell_type": "code",
      "source": [
        "similarity_score = cosine_similarity(x_tfidf)"
      ],
      "metadata": {
        "id": "868shz5AnJYQ"
      },
      "execution_count": 19,
      "outputs": []
    },
    {
      "cell_type": "code",
      "source": [
        "similarity_score"
      ],
      "metadata": {
        "colab": {
          "base_uri": "https://localhost:8080/"
        },
        "id": "Tr1qD9ernJbr",
        "outputId": "067c73f4-68d9-4bca-9709-6f26d6f8f9af"
      },
      "execution_count": 20,
      "outputs": [
        {
          "output_type": "execute_result",
          "data": {
            "text/plain": [
              "array([[1.        , 0.01351235, 0.03570468, ..., 0.        , 0.        ,\n",
              "        0.        ],\n",
              "       [0.01351235, 1.        , 0.00806674, ..., 0.        , 0.        ,\n",
              "        0.        ],\n",
              "       [0.03570468, 0.00806674, 1.        , ..., 0.        , 0.08014876,\n",
              "        0.        ],\n",
              "       ...,\n",
              "       [0.        , 0.        , 0.        , ..., 1.        , 0.        ,\n",
              "        0.        ],\n",
              "       [0.        , 0.        , 0.08014876, ..., 0.        , 1.        ,\n",
              "        0.        ],\n",
              "       [0.        , 0.        , 0.        , ..., 0.        , 0.        ,\n",
              "        1.        ]])"
            ]
          },
          "metadata": {},
          "execution_count": 20
        }
      ]
    },
    {
      "cell_type": "code",
      "source": [
        "similarity_score.shape"
      ],
      "metadata": {
        "colab": {
          "base_uri": "https://localhost:8080/"
        },
        "id": "LPExE8jznJfI",
        "outputId": "a9bc362d-253d-45a2-b43d-abbf3976b48e"
      },
      "execution_count": 21,
      "outputs": [
        {
          "output_type": "execute_result",
          "data": {
            "text/plain": [
              "(4760, 4760)"
            ]
          },
          "metadata": {},
          "execution_count": 21
        }
      ]
    },
    {
      "cell_type": "markdown",
      "source": [
        "*get the input from the user and validate for closest spelling *"
      ],
      "metadata": {
        "id": "pgaDY5u4neNM"
      }
    },
    {
      "cell_type": "code",
      "source": [
        "fav_movie_name = input(\"Enter your favorite movie \")"
      ],
      "metadata": {
        "colab": {
          "base_uri": "https://localhost:8080/"
        },
        "id": "DeT_xAFPnY-h",
        "outputId": "66b041eb-fbf5-4415-fc0a-f8117253e548"
      },
      "execution_count": 22,
      "outputs": [
        {
          "name": "stdout",
          "output_type": "stream",
          "text": [
            "Enter your favorite movie niagara\n"
          ]
        }
      ]
    },
    {
      "cell_type": "code",
      "source": [
        "all_movies_title_list=movie_list['Movie_Title'].tolist()"
      ],
      "metadata": {
        "id": "-qBKVI0anZBQ"
      },
      "execution_count": 23,
      "outputs": []
    },
    {
      "cell_type": "code",
      "source": [
        "movie_reco=difflib.get_close_matches(fav_movie_name,all_movies_title_list)\n",
        "print(movie_reco)"
      ],
      "metadata": {
        "colab": {
          "base_uri": "https://localhost:8080/"
        },
        "id": "6Ss_oDJKnZEX",
        "outputId": "7d372a73-7299-4207-ce18-32e8fa939d5d"
      },
      "execution_count": 24,
      "outputs": [
        {
          "output_type": "stream",
          "name": "stdout",
          "text": [
            "['Niagara', 'Sahara']\n"
          ]
        }
      ]
    },
    {
      "cell_type": "code",
      "source": [],
      "metadata": {
        "id": "X7LDK68-nZHD"
      },
      "execution_count": 24,
      "outputs": []
    },
    {
      "cell_type": "code",
      "source": [
        "close_match=movie_reco[0]\n",
        "print(close_match)"
      ],
      "metadata": {
        "colab": {
          "base_uri": "https://localhost:8080/"
        },
        "id": "28Ox4wTQnZKX",
        "outputId": "f2f162aa-42dd-4a48-9e08-509aa8766f7d"
      },
      "execution_count": 25,
      "outputs": [
        {
          "output_type": "stream",
          "name": "stdout",
          "text": [
            "Niagara\n"
          ]
        }
      ]
    },
    {
      "cell_type": "code",
      "source": [
        "index_close_match=movie_list[movie_list.Movie_Title==close_match]['Movie_ID'].values[0]\n",
        "print(index_close_match)"
      ],
      "metadata": {
        "colab": {
          "base_uri": "https://localhost:8080/"
        },
        "id": "Is0BXEbwnZOG",
        "outputId": "337cc5fd-1783-4add-9d57-a55147dc6550"
      },
      "execution_count": 26,
      "outputs": [
        {
          "output_type": "stream",
          "name": "stdout",
          "text": [
            "2693\n"
          ]
        }
      ]
    },
    {
      "cell_type": "code",
      "source": [
        "# getting a list of similar elements\n",
        "reco_score=list(enumerate(similarity_score[index_close_match]))\n",
        "print(reco_score)"
      ],
      "metadata": {
        "colab": {
          "base_uri": "https://localhost:8080/"
        },
        "id": "1HX741xqnZQf",
        "outputId": "ed7e4d82-eed3-4ce7-ea61-59bbcd87f009"
      },
      "execution_count": 27,
      "outputs": [
        {
          "output_type": "stream",
          "name": "stdout",
          "text": [
            "[(0, 0.026723416666872155), (1, 0.0), (2, 0.0), (3, 0.009278694050975114), (4, 0.07613844412090517), (5, 0.0), (6, 0.0), (7, 0.0), (8, 0.007296390070828503), (9, 0.0), (10, 0.0), (11, 0.0), (12, 0.0), (13, 0.0), (14, 0.0035103159643057142), (15, 0.006196910103555952), (16, 0.0), (17, 0.0), (18, 0.0), (19, 0.0), (20, 0.0), (21, 0.0), (22, 0.00380901300014423), (23, 0.007001241726655364), (24, 0.0), (25, 0.0031732779153454075), (26, 0.0), (27, 0.0), (28, 0.003894897533014304), (29, 0.01279586351065671), (30, 0.0), (31, 0.0), (32, 0.0), (33, 0.005937433436034093), (34, 0.019530676813658804), (35, 0.0), (36, 0.0), (37, 0.0), (38, 0.0043840064257667085), (39, 0.0), (40, 0.0043032363264933916), (41, 0.0), (42, 0.06780349260332219), (43, 0.02112101177987327), (44, 0.0), (45, 0.0036408078747677073), (46, 0.0), (47, 0.027716303195867695), (48, 0.0), (49, 0.04049741028376845), (50, 0.0037884227959251783), (51, 0.007068642295105125), (52, 0.0), (53, 0.0036351193980859796), (54, 0.019061023108771315), (55, 0.0), (56, 0.0), (57, 0.0), (58, 0.0), (59, 0.003952378902765323), (60, 0.00902874704199009), (61, 0.0), (62, 0.007417585548171313), (63, 0.005347023906510565), (64, 0.0), (65, 0.0), (66, 0.0), (67, 0.0), (68, 0.0), (69, 0.0), (70, 0.0), (71, 0.006882870709932207), (72, 0.0), (73, 0.0033211793450203296), (74, 0.0), (75, 0.0), (76, 0.0), (77, 0.03153346797277988), (78, 0.0), (79, 0.01871070325526953), (80, 0.0), (81, 0.0), (82, 0.0029110922008708075), (83, 0.0), (84, 0.0), (85, 0.006463268776379909), (86, 0.009077093226442845), (87, 0.0), (88, 0.03560470484020968), (89, 0.0), (90, 0.0), (91, 0.0033961506968003667), (92, 0.0), (93, 0.0), (94, 0.0), (95, 0.0), (96, 0.0), (97, 0.01835864036214269), (98, 0.0), (99, 0.019480731791467545), (100, 0.0), (101, 0.0), (102, 0.029090732819208782), (103, 0.06635085222820457), (104, 0.0), (105, 0.0), (106, 0.0), (107, 0.0), (108, 0.0), (109, 0.0), (110, 0.010787113575909226), (111, 0.0), (112, 0.018069779575620167), (113, 0.03925843784882933), (114, 0.010564702863784548), (115, 0.003922569189380382), (116, 0.006340939227849236), (117, 0.0), (118, 0.0), (119, 0.0), (120, 0.03405971207303693), (121, 0.00617486150774639), (122, 0.0), (123, 0.0), (124, 0.0), (125, 0.0), (126, 0.0), (127, 0.0), (128, 0.029539589629771774), (129, 0.007370318777587197), (130, 0.05087151868816758), (131, 0.0), (132, 0.0059564170407145935), (133, 0.0), (134, 0.0039188090401141235), (135, 0.0), (136, 0.0), (137, 0.0), (138, 0.03964968067988208), (139, 0.004304098189526441), (140, 0.061871184199275404), (141, 0.004213593450790586), (142, 0.0), (143, 0.0), (144, 0.012769368427712082), (145, 0.0), (146, 0.011384993810846563), (147, 0.0571441696720727), (148, 0.0), (149, 0.0), (150, 0.0), (151, 0.0), (152, 0.0), (153, 0.004508717219566316), (154, 0.050940690543009794), (155, 0.0233011794002317), (156, 0.008574154976100859), (157, 0.05092660765058526), (158, 0.0), (159, 0.0), (160, 0.0), (161, 0.03946358716925204), (162, 0.0), (163, 0.015235029799319155), (164, 0.0), (165, 0.018084447597039383), (166, 0.0), (167, 0.0), (168, 0.0), (169, 0.010369897986240188), (170, 0.0), (171, 0.0), (172, 0.0), (173, 0.0), (174, 0.01042536613007155), (175, 0.003239280713491735), (176, 0.0), (177, 0.0), (178, 0.007067594887879452), (179, 0.0), (180, 0.0), (181, 0.0), (182, 0.0038667620322803084), (183, 0.0), (184, 0.0), (185, 0.00362671713503507), (186, 0.0), (187, 0.0), (188, 0.0038111303444101213), (189, 0.0), (190, 0.01963649189474675), (191, 0.0), (192, 0.007266515075844178), (193, 0.0071033994589860695), (194, 0.005390409063173501), (195, 0.008871536297884881), (196, 0.0), (197, 0.009965821206751505), (198, 0.006816705949571335), (199, 0.0), (200, 0.0), (201, 0.02400783974873669), (202, 0.028595860053408494), (203, 0.0), (204, 0.11470725465228657), (205, 0.056621444650957885), (206, 0.0), (207, 0.0), (208, 0.0), (209, 0.0560533860352609), (210, 0.06039260748663164), (211, 0.09046849635082695), (212, 0.04108776598822239), (213, 0.0), (214, 0.0034592084130686263), (215, 0.024321011386608995), (216, 0.05809443128730901), (217, 0.0037390608348936752), (218, 0.006133672610596526), (219, 0.0039031337378246374), (220, 0.0), (221, 0.026278152298637225), (222, 0.0), (223, 0.04156870704582215), (224, 0.04035131857373065), (225, 0.08410591863171803), (226, 0.0), (227, 0.00718015095469673), (228, 0.04243898362251694), (229, 0.0), (230, 0.0), (231, 0.019681893400343875), (232, 0.0), (233, 0.0), (234, 0.0), (235, 0.0), (236, 0.0), (237, 0.0), (238, 0.02305591266230289), (239, 0.0), (240, 0.019363502426484172), (241, 0.0), (242, 0.0), (243, 0.02347922612540139), (244, 0.0), (245, 0.00393491387290051), (246, 0.008159341283896605), (247, 0.0), (248, 0.0), (249, 0.0), (250, 0.0), (251, 0.0), (252, 0.0), (253, 0.004194170298935447), (254, 0.0), (255, 0.03491863288399582), (256, 0.03708246226943038), (257, 0.0), (258, 0.0), (259, 0.0), (260, 0.0), (261, 0.0), (262, 0.0), (263, 0.0036302687496095453), (264, 0.0038414522656164975), (265, 0.0), (266, 0.0), (267, 0.0), (268, 0.0), (269, 0.0), (270, 0.0345389595326038), (271, 0.03070745923128304), (272, 0.006716483603477934), (273, 0.0), (274, 0.02642099053017026), (275, 0.007104759543554856), (276, 0.0), (277, 0.0), (278, 0.009090346729073023), (279, 0.009880841374210112), (280, 0.0), (281, 0.02597680112223981), (282, 0.0), (283, 0.0), (284, 0.017899830232729924), (285, 0.0), (286, 0.0), (287, 0.0), (288, 0.015939563925182646), (289, 0.0), (290, 0.0), (291, 0.0), (292, 0.0), (293, 0.0), (294, 0.0), (295, 0.0), (296, 0.0), (297, 0.0), (298, 0.0), (299, 0.0), (300, 0.0), (301, 0.0), (302, 0.006106353998172551), (303, 0.028894369373247675), (304, 0.021214685126312586), (305, 0.0), (306, 0.0), (307, 0.0), (308, 0.0), (309, 0.0053437028487427355), (310, 0.0), (311, 0.02519879685503834), (312, 0.010627695688689438), (313, 0.0), (314, 0.0), (315, 0.0), (316, 0.017395233322567788), (317, 0.0), (318, 0.10989675224467857), (319, 0.003143236999033812), (320, 0.0), (321, 0.0), (322, 0.0226589857218008), (323, 0.0), (324, 0.0), (325, 0.00997380752606387), (326, 0.008227812808282808), (327, 0.0), (328, 0.006525095093773482), (329, 0.03203693841374172), (330, 0.0), (331, 0.00762012503025719), (332, 0.0), (333, 0.0), (334, 0.016888991810142508), (335, 0.0), (336, 0.0027512533347463205), (337, 0.0), (338, 0.003499931685286331), (339, 0.00371231180055212), (340, 0.0), (341, 0.024776466126074058), (342, 0.0), (343, 0.03245044732407085), (344, 0.008069353553019314), (345, 0.0037179799427898346), (346, 0.003811870406725426), (347, 0.006741241117277735), (348, 0.0), (349, 0.11077282246730212), (350, 0.004176288970224978), (351, 0.002926762781961457), (352, 0.0), (353, 0.0), (354, 0.01717627853210981), (355, 0.006195088900466228), (356, 0.03821931630531955), (357, 0.0033103772450165736), (358, 0.006534207247395283), (359, 0.0), (360, 0.021834295581711828), (361, 0.06642587109675159), (362, 0.06908967957839238), (363, 0.0683787472508032), (364, 0.0), (365, 0.004260029178015669), (366, 0.003128421392883581), (367, 0.0036749642020468), (368, 0.004604708833333986), (369, 0.0029359180280114578), (370, 0.11800453790197582), (371, 0.0), (372, 0.0), (373, 0.037973518631337286), (374, 0.0), (375, 0.0), (376, 0.0), (377, 0.003952569717767474), (378, 0.0), (379, 0.0), (380, 0.0), (381, 0.0), (382, 0.0), (383, 0.003418937157006258), (384, 0.0), (385, 0.07670989113292082), (386, 0.03251487868393468), (387, 0.0), (388, 0.006342387059949621), (389, 0.0), (390, 0.0), (391, 0.004913135492582714), (392, 0.004074930100819905), (393, 0.0033971749596856432), (394, 0.0), (395, 0.0), (396, 0.021645803938967614), (397, 0.0), (398, 0.010628059127274605), (399, 0.0), (400, 0.018596900024301134), (401, 0.0038880163321681187), (402, 0.0), (403, 0.0056945307111367595), (404, 0.0037228159518931632), (405, 0.011315100592716976), (406, 0.006854651042448001), (407, 0.005390693024083227), (408, 0.00635202129468179), (409, 0.003531818878585751), (410, 0.006250491885178942), (411, 0.049812351892970716), (412, 0.0), (413, 0.00819272658198898), (414, 0.0028807647852958805), (415, 0.004051890315015361), (416, 0.007030730391902396), (417, 0.0035633070160714844), (418, 0.00405772429801256), (419, 0.0), (420, 0.04844248265922041), (421, 0.002966849823386276), (422, 0.025365948877985864), (423, 0.0), (424, 0.0), (425, 0.0), (426, 0.0), (427, 0.0036795898121463723), (428, 0.0), (429, 0.023606855476024986), (430, 0.0), (431, 0.01244737500889951), (432, 0.0), (433, 0.0), (434, 0.0), (435, 0.0356221443299291), (436, 0.0), (437, 0.0), (438, 0.0), (439, 0.0), (440, 0.0), (441, 0.0), (442, 0.0), (443, 0.0), (444, 0.0), (445, 0.0), (446, 0.0), (447, 0.04903191899994174), (448, 0.007754797869885043), (449, 0.0), (450, 0.0), (451, 0.0), (452, 0.0), (453, 0.0), (454, 0.003560318444353279), (455, 0.004767455426312435), (456, 0.01524689262613884), (457, 0.0), (458, 0.0), (459, 0.003758253324700278), (460, 0.0), (461, 0.004542855160427315), (462, 0.0), (463, 0.0), (464, 0.006640900415958467), (465, 0.006133668925668631), (466, 0.0), (467, 0.0), (468, 0.0), (469, 0.0), (470, 0.0), (471, 0.07881934680426292), (472, 0.006916707618969744), (473, 0.0034706164217063106), (474, 0.011090309280107954), (475, 0.01182646867920667), (476, 0.0), (477, 0.0), (478, 0.0), (479, 0.0038316426067677733), (480, 0.018357170020427926), (481, 0.0), (482, 0.0), (483, 0.023782706887880777), (484, 0.0), (485, 0.024659491648468982), (486, 0.0), (487, 0.0), (488, 0.006498470988449459), (489, 0.008036998161002595), (490, 0.006652857140047388), (491, 0.0), (492, 0.0), (493, 0.007133297771433123), (494, 0.003853782014474303), (495, 0.0), (496, 0.0), (497, 0.003413768948747196), (498, 0.003657200779160461), (499, 0.0), (500, 0.0), (501, 0.0), (502, 0.0), (503, 0.0037316960339910696), (504, 0.010618450325863624), (505, 0.0036442896047422274), (506, 0.05883390825797233), (507, 0.00360205851117363), (508, 0.004410943134545597), (509, 0.0), (510, 0.008436750097030966), (511, 0.019052548507690444), (512, 0.0), (513, 0.0), (514, 0.0), (515, 0.003457877322775737), (516, 0.0), (517, 0.019505061237336793), (518, 0.0), (519, 0.0), (520, 0.0605463859543419), (521, 0.0036934688854272234), (522, 0.0), (523, 0.0), (524, 0.006163374462533314), (525, 0.003815634014485065), (526, 0.0), (527, 0.0), (528, 0.0039060786572203813), (529, 0.010619899654977491), (530, 0.032509207211092815), (531, 0.1130023404133785), (532, 0.0035622039174954523), (533, 0.0), (534, 0.0), (535, 0.003785169534456568), (536, 0.004082567470216481), (537, 0.0), (538, 0.008706480714922308), (539, 0.0), (540, 0.028819388617468612), (541, 0.03225759006479071), (542, 0.0), (543, 0.0), (544, 0.0), (545, 0.0033699396807883447), (546, 0.003701300963994669), (547, 0.005664423485503961), (548, 0.0), (549, 0.0), (550, 0.0), (551, 0.02868861814378003), (552, 0.0), (553, 0.0), (554, 0.0), (555, 0.015437897580270076), (556, 0.0), (557, 0.0), (558, 0.0), (559, 0.0), (560, 0.0), (561, 0.0), (562, 0.0), (563, 0.0), (564, 0.00703862160764877), (565, 0.01953933392939008), (566, 0.0), (567, 0.0), (568, 0.0), (569, 0.0), (570, 0.0), (571, 0.0), (572, 0.021446064783254136), (573, 0.0), (574, 0.0), (575, 0.0), (576, 0.007573655268576868), (577, 0.0034357485421102974), (578, 0.019744100446814756), (579, 0.029725635817834592), (580, 0.05804769026916794), (581, 0.0), (582, 0.01243425300937209), (583, 0.013046082418861083), (584, 0.0), (585, 0.0036903535114035666), (586, 0.036523173542137646), (587, 0.007388875769889644), (588, 0.0069813648096555565), (589, 0.009781758299218575), (590, 0.04352100233864739), (591, 0.0), (592, 0.0), (593, 0.0), (594, 0.003428836506928433), (595, 0.0), (596, 0.0), (597, 0.0), (598, 0.07428395050008266), (599, 0.0), (600, 0.0), (601, 0.0), (602, 0.0), (603, 0.0), (604, 0.06348835326705253), (605, 0.009287239225773698), (606, 0.12733476929367357), (607, 0.00517702841226109), (608, 0.006090124495347993), (609, 0.008374438897406312), (610, 0.0), (611, 0.0), (612, 0.0402864965613111), (613, 0.0), (614, 0.0), (615, 0.0), (616, 0.0), (617, 0.0), (618, 0.00655892272815873), (619, 0.031081118011165924), (620, 0.0), (621, 0.04547792151903156), (622, 0.0), (623, 0.0071355714608669525), (624, 0.0), (625, 0.0), (626, 0.0), (627, 0.0), (628, 0.0), (629, 0.003312589581279319), (630, 0.0038761163846273445), (631, 0.01929831164897122), (632, 0.0034670907122735808), (633, 0.07921749899982462), (634, 0.0), (635, 0.0), (636, 0.0), (637, 0.0), (638, 0.00619217524695053), (639, 0.0), (640, 0.0), (641, 0.0), (642, 0.0), (643, 0.0), (644, 0.006382279883431438), (645, 0.0), (646, 0.0), (647, 0.0), (648, 0.0035851212408230418), (649, 0.010002981777237114), (650, 0.0), (651, 0.030147027284531575), (652, 0.0), (653, 0.040041172779527234), (654, 0.0), (655, 0.006273917961598229), (656, 0.0), (657, 0.016667461483891356), (658, 0.0), (659, 0.023060074583687303), (660, 0.007018002038849378), (661, 0.0), (662, 0.0037194236900362962), (663, 0.0), (664, 0.0034387094546246308), (665, 0.014422959991764692), (666, 0.0), (667, 0.02771500391112754), (668, 0.0), (669, 0.0), (670, 0.034043322426154175), (671, 0.04314189863980654), (672, 0.0034207189282159938), (673, 0.0), (674, 0.0), (675, 0.0), (676, 0.0), (677, 0.0), (678, 0.004182070932525177), (679, 0.0044211003757410276), (680, 0.0), (681, 0.021249597414386534), (682, 0.02587954593042091), (683, 0.0), (684, 0.00492993630265986), (685, 0.0), (686, 0.0), (687, 0.04125641243895447), (688, 0.0), (689, 0.0), (690, 0.0035691993603728625), (691, 0.0031004752245008867), (692, 0.02343197034726874), (693, 0.006539058649324411), (694, 0.01967249280513448), (695, 0.06646508901034011), (696, 0.0), (697, 0.07331153184598667), (698, 0.03790954961947268), (699, 0.0), (700, 0.007371139554424823), (701, 0.0), (702, 0.003589096719786328), (703, 0.009375461682999114), (704, 0.0), (705, 0.005947885395627002), (706, 0.0), (707, 0.036609199024868054), (708, 0.036174602818781154), (709, 0.0349857876890198), (710, 0.03257268306865838), (711, 0.041184501939888284), (712, 0.0033892329225381035), (713, 0.06299704303830025), (714, 0.0), (715, 0.03445746012533406), (716, 0.0), (717, 0.0), (718, 0.0), (719, 0.0), (720, 0.003689522224861382), (721, 0.0), (722, 0.0), (723, 0.03718936542893768), (724, 0.0), (725, 0.0), (726, 0.008825334387189073), (727, 0.0), (728, 0.0), (729, 0.0), (730, 0.003950001872814634), (731, 0.0), (732, 0.0), (733, 0.023913488046275737), (734, 0.0), (735, 0.12328051364864262), (736, 0.010625434779909983), (737, 0.01623133270206652), (738, 0.0), (739, 0.0), (740, 0.00257346088913735), (741, 0.017307206471613008), (742, 0.0), (743, 0.0), (744, 0.0), (745, 0.003546843609836797), (746, 0.0), (747, 0.0), (748, 0.04922883511549237), (749, 0.0450771751532707), (750, 0.0), (751, 0.0046291550441080595), (752, 0.008028787255064689), (753, 0.026111092882200496), (754, 0.011307725371078582), (755, 0.0037280993473199435), (756, 0.023381857796141724), (757, 0.0030642773705663313), (758, 0.06101942472750558), (759, 0.003492721264592976), (760, 0.01210810221570472), (761, 0.0), (762, 0.0), (763, 0.017719389075264474), (764, 0.015403926927236019), (765, 0.0), (766, 0.0), (767, 0.0), (768, 0.014680787934884419), (769, 0.0), (770, 0.003543232787793013), (771, 0.004132902529134054), (772, 0.0036801940736441202), (773, 0.03044780547325463), (774, 0.0069613422895466875), (775, 0.0), (776, 0.007002617620490349), (777, 0.0), (778, 0.027211582063711513), (779, 0.016044096541254934), (780, 0.0036498290289900463), (781, 0.0040399935809784385), (782, 0.0), (783, 0.03617687775081934), (784, 0.010943811220395266), (785, 0.010560918650060615), (786, 0.008840100407997011), (787, 0.002346475011166104), (788, 0.00969091007045977), (789, 0.0), (790, 0.048108932151678246), (791, 0.0), (792, 0.06248359521521673), (793, 0.003984002240621783), (794, 0.029853103288693093), (795, 0.012474963551399522), (796, 0.0055778364690249535), (797, 0.0040035918022520685), (798, 0.0), (799, 0.0), (800, 0.0), (801, 0.0), (802, 0.0), (803, 0.0), (804, 0.0), (805, 0.0), (806, 0.07197527480650585), (807, 0.006091626028041308), (808, 0.0), (809, 0.0), (810, 0.0), (811, 0.0), (812, 0.0), (813, 0.007545822204285814), (814, 0.003940673659063292), (815, 0.0), (816, 0.0), (817, 0.0), (818, 0.0177314122349167), (819, 0.006367921419529933), (820, 0.00932334275398109), (821, 0.0035133085744207095), (822, 0.0038524037445189074), (823, 0.0), (824, 0.017239320112817588), (825, 0.0), (826, 0.0), (827, 0.029623085176364743), (828, 0.06521115263604427), (829, 0.028684953453019957), (830, 0.007062436861908721), (831, 0.0), (832, 0.0), (833, 0.0), (834, 0.0), (835, 0.0), (836, 0.0033818785728490443), (837, 0.0029488908227426167), (838, 0.0062472556609242886), (839, 0.004334163985867487), (840, 0.0037140444500681304), (841, 0.004212242649346748), (842, 0.07651528219245571), (843, 0.005525080473826276), (844, 0.014483103261194941), (845, 0.032690566271823165), (846, 0.010807514969742298), (847, 0.012103376913141527), (848, 0.03149132776787991), (849, 0.003833641974887748), (850, 0.0), (851, 0.00336062607066444), (852, 0.038328282936058805), (853, 0.0), (854, 0.0), (855, 0.0), (856, 0.029768485982969155), (857, 0.007419106189965972), (858, 0.0), (859, 0.009976912839628994), (860, 0.0), (861, 0.0161626556518394), (862, 0.003341995818602136), (863, 0.028543013903664823), (864, 0.0), (865, 0.006898537959610961), (866, 0.0), (867, 0.010402098684996211), (868, 0.0), (869, 0.0039332062113577515), (870, 0.026509718145150313), (871, 0.026188159130298053), (872, 0.00410684318538994), (873, 0.011302371536424008), (874, 0.016186127559019905), (875, 0.0), (876, 0.05252957472994212), (877, 0.026669888061884667), (878, 0.0), (879, 0.011011513535227179), (880, 0.006622015978111256), (881, 0.026307630216483746), (882, 0.0), (883, 0.010082351172315466), (884, 0.003991178663685278), (885, 0.009467040486492679), (886, 0.0035964355850439307), (887, 0.0), (888, 0.0), (889, 0.04018663095835595), (890, 0.09052205266257163), (891, 0.0), (892, 0.0033233539163224413), (893, 0.0), (894, 0.04558918829930125), (895, 0.0), (896, 0.0), (897, 0.006769587312484898), (898, 0.0034557771075289733), (899, 0.0), (900, 0.0), (901, 0.0), (902, 0.0), (903, 0.0035959053429853944), (904, 0.004515753450978805), (905, 0.004437626233730223), (906, 0.0), (907, 0.00970618710760139), (908, 0.003918995392495836), (909, 0.0), (910, 0.0), (911, 0.019819172464241513), (912, 0.0033732799000050846), (913, 0.0), (914, 0.0), (915, 0.0), (916, 0.0209460999438724), (917, 0.0), (918, 0.0), (919, 0.0), (920, 0.003521668669999866), (921, 0.0062527911586172606), (922, 0.0), (923, 0.0036943194897959245), (924, 0.005852120995034268), (925, 0.004410955238972151), (926, 0.008232151517931257), (927, 0.0), (928, 0.0), (929, 0.004846482908849883), (930, 0.007131089247342243), (931, 0.0038335239217357413), (932, 0.0), (933, 0.003917792799079264), (934, 0.0), (935, 0.04616787205259447), (936, 0.0), (937, 0.0), (938, 0.010579685533539659), (939, 0.003618328536653471), (940, 0.007386751970831519), (941, 0.003592956683563794), (942, 0.0), (943, 0.003845368501287084), (944, 0.03733076122037644), (945, 0.003884362837207871), (946, 0.01050323181292157), (947, 0.0), (948, 0.013289610006882873), (949, 0.0), (950, 0.0078495089873751), (951, 0.003238450695308905), (952, 0.03375476774458702), (953, 0.0), (954, 0.0), (955, 0.00452312732968937), (956, 0.03446835863571167), (957, 0.020641413179757907), (958, 0.0035063314772644937), (959, 0.00652569781638376), (960, 0.03313997042702694), (961, 0.0638260700259378), (962, 0.0), (963, 0.0), (964, 0.0031980092349222014), (965, 0.0038277834562897746), (966, 0.032425290438157284), (967, 0.0), (968, 0.0), (969, 0.023072937267456222), (970, 0.08900322621516839), (971, 0.01086400331846522), (972, 0.002938369664359656), (973, 0.010398610050011633), (974, 0.0), (975, 0.006289538488069496), (976, 0.0), (977, 0.0), (978, 0.007096543597762871), (979, 0.018498601241747677), (980, 0.0), (981, 0.0), (982, 0.011610566959465333), (983, 0.010366322827699184), (984, 0.0036489896213033526), (985, 0.012073753873230935), (986, 0.0), (987, 0.0), (988, 0.0), (989, 0.022632808400908876), (990, 0.004214106793765378), (991, 0.0), (992, 0.0), (993, 0.0), (994, 0.0), (995, 0.06701864649992556), (996, 0.005413201213294724), (997, 0.0), (998, 0.011965106741523786), (999, 0.011955314135577752), (1000, 0.023949696912922928), (1001, 0.0), (1002, 0.0732152144514334), (1003, 0.15591747285087973), (1004, 0.0), (1005, 0.0), (1006, 0.0040078206997608955), (1007, 0.004038535273273519), (1008, 0.0032871685481370714), (1009, 0.0), (1010, 0.00324459829519935), (1011, 0.023625813451404694), (1012, 0.0), (1013, 0.004053431949609632), (1014, 0.0), (1015, 0.0), (1016, 0.03371860450252183), (1017, 0.0), (1018, 0.02908185294272147), (1019, 0.0), (1020, 0.006445646918571539), (1021, 0.0038211472974157396), (1022, 0.0038186268589135712), (1023, 0.0426520341354064), (1024, 0.00399549675507009), (1025, 0.0034185345551095863), (1026, 0.03931791439472857), (1027, 0.006424439250038233), (1028, 0.00378609827714708), (1029, 0.003630187757197526), (1030, 0.0), (1031, 0.0), (1032, 0.0), (1033, 0.0), (1034, 0.006434002398952302), (1035, 0.0), (1036, 0.0), (1037, 0.0), (1038, 0.009639550085041526), (1039, 0.0), (1040, 0.008243646017666247), (1041, 0.019636984362231814), (1042, 0.0), (1043, 0.0), (1044, 0.0), (1045, 0.0), (1046, 0.0), (1047, 0.03874343210211999), (1048, 0.0), (1049, 0.012515408223056143), (1050, 0.0), (1051, 0.0), (1052, 0.006219833903163032), (1053, 0.007902252666532652), (1054, 0.01975394431926466), (1055, 0.0), (1056, 0.0), (1057, 0.0), (1058, 0.0), (1059, 0.0), (1060, 0.006482206082968551), (1061, 0.009502024473384284), (1062, 0.0032075868499336357), (1063, 0.0), (1064, 0.0), (1065, 0.006140671192806686), (1066, 0.0), (1067, 0.0), (1068, 0.0), (1069, 0.0), (1070, 0.003278772864866633), (1071, 0.0), (1072, 0.0), (1073, 0.07142757419621427), (1074, 0.02267483662420948), (1075, 0.043254755049450186), (1076, 0.0), (1077, 0.006863699883569164), (1078, 0.0031946983625925646), (1079, 0.003527719386106997), (1080, 0.006048205552321293), (1081, 0.0), (1082, 0.030667658165317937), (1083, 0.0), (1084, 0.01034219504048465), (1085, 0.003910805166601216), (1086, 0.0), (1087, 0.0), (1088, 0.031787984140990114), (1089, 0.004217607567589367), (1090, 0.016466388202759343), (1091, 0.0), (1092, 0.0), (1093, 0.02043134725539906), (1094, 0.01032917265492655), (1095, 0.0), (1096, 0.0), (1097, 0.02209049881661035), (1098, 0.0), (1099, 0.004067780356059269), (1100, 0.00377268364526248), (1101, 0.0), (1102, 0.0), (1103, 0.004133784938010003), (1104, 0.04543643823545366), (1105, 0.003893132604938499), (1106, 0.028527609955451595), (1107, 0.0), (1108, 0.003914193185150021), (1109, 0.015957330523032612), (1110, 0.0), (1111, 0.0), (1112, 0.0038208336606245933), (1113, 0.0037032948302090454), (1114, 0.0), (1115, 0.0030824408415500585), (1116, 0.0), (1117, 0.0036852376198581315), (1118, 0.0), (1119, 0.0), (1120, 0.0), (1121, 0.02882886415965918), (1122, 0.006840029371707398), (1123, 0.0), (1124, 0.027833478471115905), (1125, 0.003686363457832975), (1126, 0.010422287852600057), (1127, 0.0), (1128, 0.0), (1129, 0.031237628217985442), (1130, 0.003759037883078785), (1131, 0.0), (1132, 0.017837615322633792), (1133, 0.0038279231494807533), (1134, 0.0357754960018354), (1135, 0.0), (1136, 0.0), (1137, 0.0), (1138, 0.0), (1139, 0.003608234179065905), (1140, 0.0), (1141, 0.0), (1142, 0.004018855567009124), (1143, 0.0), (1144, 0.0), (1145, 0.00929039180990236), (1146, 0.0), (1147, 0.03347398092070218), (1148, 0.03525603822770033), (1149, 0.0035364727365705625), (1150, 0.0), (1151, 0.0), (1152, 0.003556517243804329), (1153, 0.00268969050913687), (1154, 0.0), (1155, 0.0039787198937131195), (1156, 0.0031491789081461276), (1157, 0.06358028294455599), (1158, 0.0), (1159, 0.006648941769695397), (1160, 0.0), (1161, 0.0), (1162, 0.0), (1163, 0.0), (1164, 0.0), (1165, 0.003973704374465768), (1166, 0.003910393068278629), (1167, 0.0), (1168, 0.0), (1169, 0.004489707752412263), (1170, 0.010566523018201992), (1171, 0.0), (1172, 0.031263787915153794), (1173, 0.003471597897752714), (1174, 0.0), (1175, 0.0278926620114214), (1176, 0.0), (1177, 0.0), (1178, 0.003258813886032814), (1179, 0.0), (1180, 0.013404386165645082), (1181, 0.052757086178933627), (1182, 0.0), (1183, 0.0), (1184, 0.007664655258939088), (1185, 0.0), (1186, 0.0), (1187, 0.049088099761656775), (1188, 0.0), (1189, 0.0), (1190, 0.010034697801049784), (1191, 0.05013544956451095), (1192, 0.0), (1193, 0.004019818767700249), (1194, 0.0033516715823117293), (1195, 0.0), (1196, 0.0038111317526667568), (1197, 0.0), (1198, 0.0037972989209371466), (1199, 0.00931074343834604), (1200, 0.028608410962950234), (1201, 0.08282283901836837), (1202, 0.017744733404586613), (1203, 0.0036018422289439958), (1204, 0.0038921760244905856), (1205, 0.004081753129887911), (1206, 0.0291903544539643), (1207, 0.0318605027253322), (1208, 0.013456245752115384), (1209, 0.0), (1210, 0.08767467559137404), (1211, 0.003634981788850728), (1212, 0.003309424455612073), (1213, 0.003369841306679792), (1214, 0.0032167021283813755), (1215, 0.0), (1216, 0.009570959576394367), (1217, 0.009163166417237745), (1218, 0.0), (1219, 0.006027188022852443), (1220, 0.006063881549468119), (1221, 0.0), (1222, 0.01895021173377326), (1223, 0.0), (1224, 0.004004460557762772), (1225, 0.0), (1226, 0.0), (1227, 0.0038322797857629934), (1228, 0.035787747252360495), (1229, 0.0), (1230, 0.0), (1231, 0.0036760201562116928), (1232, 0.0038657647065760735), (1233, 0.0), (1234, 0.023937587075907065), (1235, 0.0037256928402722702), (1236, 0.00610999568081126), (1237, 0.006098769142784605), (1238, 0.04482279925949819), (1239, 0.0), (1240, 0.0), (1241, 0.017197780504791055), (1242, 0.003509365596612527), (1243, 0.0041842049163591565), (1244, 0.0039569405970429315), (1245, 0.006512473180085484), (1246, 0.004144223740688253), (1247, 0.006489145360452167), (1248, 0.0064550459367087466), (1249, 0.003325817312396258), (1250, 0.0), (1251, 0.0033946107041985412), (1252, 0.0), (1253, 0.0), (1254, 0.04754760629526779), (1255, 0.0), (1256, 0.009965543624096004), (1257, 0.0), (1258, 0.03341757106473627), (1259, 0.02854046872084996), (1260, 0.004279222517022117), (1261, 0.010219019911809894), (1262, 0.0), (1263, 0.0), (1264, 0.0), (1265, 0.0), (1266, 0.0), (1267, 0.02548337818411237), (1268, 0.00307111721806512), (1269, 0.0), (1270, 0.03027620170502193), (1271, 0.0), (1272, 0.020612347953441176), (1273, 0.0063941104859239675), (1274, 0.0), (1275, 0.0), (1276, 0.03285878341457948), (1277, 0.002868709098369137), (1278, 0.002859658898863927), (1279, 0.034767214093740735), (1280, 0.0), (1281, 0.0), (1282, 0.004101172258015296), (1283, 0.02429285069203132), (1284, 0.06005159928864609), (1285, 0.0), (1286, 0.03645137832505368), (1287, 0.0), (1288, 0.0034903889910039743), (1289, 0.02542536829553053), (1290, 0.0), (1291, 0.0035534416906545575), (1292, 0.003772391135889349), (1293, 0.051686755949527714), (1294, 0.0), (1295, 0.0), (1296, 0.05132912005476713), (1297, 0.034812556958134414), (1298, 0.0038149195817188683), (1299, 0.004027002630400461), (1300, 0.04215833991649385), (1301, 0.018276654300608444), (1302, 0.010704959542207768), (1303, 0.0), (1304, 0.0038374470366522116), (1305, 0.005554256477071032), (1306, 0.0), (1307, 0.0), (1308, 0.0035195369805753325), (1309, 0.006566393509204543), (1310, 0.003462340184747669), (1311, 0.004303624764413518), (1312, 0.0032373370165289976), (1313, 0.042943820980813396), (1314, 0.0), (1315, 0.0), (1316, 0.0), (1317, 0.008551664099038105), (1318, 0.0034212549724511186), (1319, 0.0), (1320, 0.003011401662051374), (1321, 0.07201885090417941), (1322, 0.0039051131288109476), (1323, 0.0032960041123890056), (1324, 0.007166651615134114), (1325, 0.0), (1326, 0.003131593509171537), (1327, 0.003647916108843426), (1328, 0.0), (1329, 0.014201081340656063), (1330, 0.026354313490321263), (1331, 0.003516152723391583), (1332, 0.0), (1333, 0.004090860319566322), (1334, 0.07413722646024584), (1335, 0.0), (1336, 0.004027977692218355), (1337, 0.003914837163628445), (1338, 0.02263213174775854), (1339, 0.0), (1340, 0.0032578439338608388), (1341, 0.0031485181345000802), (1342, 0.12939720820962428), (1343, 0.0), (1344, 0.0031020095259188733), (1345, 0.029258887642166942), (1346, 0.006756874214290496), (1347, 0.0), (1348, 0.003341492446956221), (1349, 0.0), (1350, 0.006544397609442956), (1351, 0.023028183755782798), (1352, 0.0280527959064252), (1353, 0.0035668703767803415), (1354, 0.0), (1355, 0.0601529849169951), (1356, 0.015886053145824974), (1357, 0.0), (1358, 0.0), (1359, 0.041798088642815354), (1360, 0.0), (1361, 0.0038967653877355363), (1362, 0.02338947153002282), (1363, 0.039651454043498284), (1364, 0.010959513232031145), (1365, 0.0056733807835397075), (1366, 0.006060374671459147), (1367, 0.020673582885085886), (1368, 0.0037012908177931417), (1369, 0.0), (1370, 0.0033077263399614496), (1371, 0.00426132615738249), (1372, 0.009900917079965613), (1373, 0.003716477885803996), (1374, 0.018782796030166235), (1375, 0.0), (1376, 0.003642657550314479), (1377, 0.0), (1378, 0.006712785998502908), (1379, 0.00332502018008267), (1380, 0.0), (1381, 0.0), (1382, 0.03837869902539832), (1383, 0.0), (1384, 0.0), (1385, 0.0), (1386, 0.0), (1387, 0.0), (1388, 0.0038528761331221603), (1389, 0.004039606432924542), (1390, 0.004127198398620827), (1391, 0.0), (1392, 0.006821476820102154), (1393, 0.032787439243323294), (1394, 0.009351205986597852), (1395, 0.0), (1396, 0.0), (1397, 0.0033173867650763125), (1398, 0.007777440869069704), (1399, 0.0), (1400, 0.03291549314871062), (1401, 0.023870191970447565), (1402, 0.0), (1403, 0.008109299392379801), (1404, 0.0), (1405, 0.009279123349306853), (1406, 0.0), (1407, 0.0), (1408, 0.01027949828200011), (1409, 0.004104024052203134), (1410, 0.010667461700850901), (1411, 0.003790782264036253), (1412, 0.0), (1413, 0.0), (1414, 0.0), (1415, 0.005504516980058252), (1416, 0.017936122052695323), (1417, 0.0), (1418, 0.0), (1419, 0.02255188698165705), (1420, 0.05884347115900802), (1421, 0.00647685576027808), (1422, 0.0074702099687325545), (1423, 0.02452883090228419), (1424, 0.012050003443399996), (1425, 0.003902503408589557), (1426, 0.029266560399541005), (1427, 0.008652067821073436), (1428, 0.0), (1429, 0.0), (1430, 0.05807009482652505), (1431, 0.0), (1432, 0.003995952816929146), (1433, 0.0), (1434, 0.0), (1435, 0.0), (1436, 0.033039102541357175), (1437, 0.03973001937850052), (1438, 0.006653596262425261), (1439, 0.0), (1440, 0.0), (1441, 0.011378113827132181), (1442, 0.0), (1443, 0.0), (1444, 0.0038172589421906216), (1445, 0.011027861859031856), (1446, 0.0036761994314156205), (1447, 0.02648026058801527), (1448, 0.0), (1449, 0.0), (1450, 0.0), (1451, 0.0), (1452, 0.0), (1453, 0.008492286659032077), (1454, 0.03034125182528071), (1455, 0.0), (1456, 0.028983463108309706), (1457, 0.00982930019730634), (1458, 0.0), (1459, 0.0), (1460, 0.03456866071909734), (1461, 0.037273746786343015), (1462, 0.0), (1463, 0.006477691110823238), (1464, 0.0), (1465, 0.019598425927670308), (1466, 0.03220299856598919), (1467, 0.0), (1468, 0.003400336734164793), (1469, 0.003971368131988803), (1470, 0.0), (1471, 0.0), (1472, 0.006796602415204585), (1473, 0.003885597895609776), (1474, 0.0), (1475, 0.007003906619839392), (1476, 0.01069329409286678), (1477, 0.003538328369604732), (1478, 0.0), (1479, 0.09519624911595247), (1480, 0.0), (1481, 0.0), (1482, 0.05162022639633211), (1483, 0.0), (1484, 0.0), (1485, 0.03769483319487537), (1486, 0.0042247271810948285), (1487, 0.0036371332792392392), (1488, 0.007691634956862718), (1489, 0.01185990117696754), (1490, 0.0036653002156988948), (1491, 0.004180502598038763), (1492, 0.0033197869142966943), (1493, 0.0), (1494, 0.003951989544660863), (1495, 0.003902847013053399), (1496, 0.0036048253720401893), (1497, 0.0), (1498, 0.0), (1499, 0.0), (1500, 0.0), (1501, 0.010541303278066478), (1502, 0.02811885339996353), (1503, 0.0), (1504, 0.0), (1505, 0.0038472766728561056), (1506, 0.007227971730817354), (1507, 0.004392998014097501), (1508, 0.007555819041503695), (1509, 0.032258327222179244), (1510, 0.0), (1511, 0.024459569976519786), (1512, 0.0), (1513, 0.003996151325281778), (1514, 0.0), (1515, 0.027287735362193477), (1516, 0.00395072842021936), (1517, 0.0038193066994445185), (1518, 0.011367388154160097), (1519, 0.0), (1520, 0.00411805776788559), (1521, 0.0033131707454021435), (1522, 0.0), (1523, 0.009017132719160912), (1524, 0.02267295044357136), (1525, 0.003933230874583429), (1526, 0.0036658741544565634), (1527, 0.026532858532040238), (1528, 0.0034843266546685093), (1529, 0.0), (1530, 0.005502065140311121), (1531, 0.0), (1532, 0.0036413959806143384), (1533, 0.01070646539640472), (1534, 0.0), (1535, 0.026257224168659665), (1536, 0.0820252816913384), (1537, 0.004107124683599672), (1538, 0.053317916511707246), (1539, 0.042280248674371836), (1540, 0.0), (1541, 0.006555661474650578), (1542, 0.0881097610043251), (1543, 0.03047681932263066), (1544, 0.003682509040937986), (1545, 0.030168174075677998), (1546, 0.0), (1547, 0.0), (1548, 0.0), (1549, 0.01041130423074177), (1550, 0.020628412076587638), (1551, 0.0), (1552, 0.0036677648347402617), (1553, 0.0), (1554, 0.0), (1555, 0.0), (1556, 0.0), (1557, 0.003941897899029432), (1558, 0.006245368012209029), (1559, 0.0), (1560, 0.03951061223308382), (1561, 0.003687286006449224), (1562, 0.0), (1563, 0.04226017714986023), (1564, 0.003928883042658638), (1565, 0.011485428678973652), (1566, 0.006723886511799851), (1567, 0.023879313278013396), (1568, 0.019090643826694623), (1569, 0.009476691066866721), (1570, 0.0), (1571, 0.0031716060404172832), (1572, 0.004081857848369438), (1573, 0.0), (1574, 0.0), (1575, 0.0), (1576, 0.0), (1577, 0.003869660798674591), (1578, 0.004040350591846992), (1579, 0.0), (1580, 0.0), (1581, 0.0208894486045518), (1582, 0.0036828852272738836), (1583, 0.004202791193047332), (1584, 0.0), (1585, 0.014726201271629581), (1586, 0.003064779335693789), (1587, 0.003904895640211636), (1588, 0.0), (1589, 0.010338956483565807), (1590, 0.0), (1591, 0.0), (1592, 0.007441034523353351), (1593, 0.0), (1594, 0.011817249933343325), (1595, 0.0), (1596, 0.0040749438269706735), (1597, 0.00369534540152168), (1598, 0.00378685737097459), (1599, 0.0038840426457809043), (1600, 0.0), (1601, 0.05554457007660644), (1602, 0.003980158899887555), (1603, 0.0), (1604, 0.0), (1605, 0.006069658071928526), (1606, 0.006249977048870007), (1607, 0.0), (1608, 0.0), (1609, 0.004093687921770569), (1610, 0.009772110266934513), (1611, 0.0038768101455366106), (1612, 0.006690215349972154), (1613, 0.003990218027539937), (1614, 0.028200735973138172), (1615, 0.004542854206918373), (1616, 0.009275340544717972), (1617, 0.0), (1618, 0.010219947267169568), (1619, 0.007159804915325173), (1620, 0.0), (1621, 0.0), (1622, 0.030695023208358336), (1623, 0.0), (1624, 0.005467156845041108), (1625, 0.0), (1626, 0.06886143574247637), (1627, 0.026692093318225425), (1628, 0.0061473878571120695), (1629, 0.006935143790527111), (1630, 0.05785480657526672), (1631, 0.02962565815394774), (1632, 0.0), (1633, 0.09047440449834629), (1634, 0.014263059985967544), (1635, 0.0), (1636, 0.0), (1637, 0.004114913853738364), (1638, 0.02674280141478625), (1639, 0.008935199774984942), (1640, 0.09025429820199157), (1641, 0.0), (1642, 0.003550430866440117), (1643, 0.0), (1644, 0.031424508913527265), (1645, 0.0), (1646, 0.0030866154670845603), (1647, 0.0), (1648, 0.0050172911764411535), (1649, 0.0), (1650, 0.0), (1651, 0.0), (1652, 0.0034026974714754187), (1653, 0.0), (1654, 0.033467940061388875), (1655, 0.008172503063868531), (1656, 0.004398135552144494), (1657, 0.0), (1658, 0.004247160175958087), (1659, 0.0), (1660, 0.004008153887669664), (1661, 0.0), (1662, 0.0), (1663, 0.0036139536011681483), (1664, 0.0), (1665, 0.0), (1666, 0.0066253797582536715), (1667, 0.0), (1668, 0.0036935591817077824), (1669, 0.0), (1670, 0.0), (1671, 0.0), (1672, 0.0), (1673, 0.003571316076846992), (1674, 0.0), (1675, 0.019057967918681824), (1676, 0.0030630038377854065), (1677, 0.008303762728981262), (1678, 0.05392672329261444), (1679, 0.0290888278642046), (1680, 0.04091433517503964), (1681, 0.08167513721090072), (1682, 0.006304737080819824), (1683, 0.004105052918215775), (1684, 0.003360316908575604), (1685, 0.007108268128203637), (1686, 0.03192371920961125), (1687, 0.0), (1688, 0.003911786426877251), (1689, 0.0040248050374819344), (1690, 0.012965644259471045), (1691, 0.01963412028750243), (1692, 0.0), (1693, 0.00990993109274542), (1694, 0.0034059951962440824), (1695, 0.003104997187164726), (1696, 0.030620016928043524), (1697, 0.003948698485144893), (1698, 0.003313568389925222), (1699, 0.0), (1700, 0.0036559931834223933), (1701, 0.0), (1702, 0.003987165267182153), (1703, 0.0), (1704, 0.0), (1705, 0.0), (1706, 0.0), (1707, 0.039649902313534525), (1708, 0.0), (1709, 0.03878718085478333), (1710, 0.021337051383083165), (1711, 0.0), (1712, 0.0), (1713, 0.0), (1714, 0.02263390102442296), (1715, 0.0068714848132332895), (1716, 0.0), (1717, 0.0), (1718, 0.030736889831713375), (1719, 0.028405632362894673), (1720, 0.0), (1721, 0.003589688338548048), (1722, 0.042190927786542966), (1723, 0.017619747427203243), (1724, 0.0), (1725, 0.0), (1726, 0.003936545165734025), (1727, 0.003988569831770913), (1728, 0.0), (1729, 0.020588924095946124), (1730, 0.0), (1731, 0.011315822574938093), (1732, 0.004100066135665839), (1733, 0.004206207055387893), (1734, 0.028130565361319717), (1735, 0.027686331090496213), (1736, 0.0), (1737, 0.004092063867388414), (1738, 0.0036417797094209043), (1739, 0.04138020856469517), (1740, 0.0), (1741, 0.03748676953299657), (1742, 0.0), (1743, 0.00571871129692257), (1744, 0.03985777177697507), (1745, 0.0), (1746, 0.009850528214018675), (1747, 0.02150892396392979), (1748, 0.0), (1749, 0.0), (1750, 0.0034283557602186243), (1751, 0.0038812572361516745), (1752, 0.003171687755468593), (1753, 0.0), (1754, 0.0), (1755, 0.0), (1756, 0.0), (1757, 0.0037790323377437317), (1758, 0.004435980400802127), (1759, 0.007249287266494352), (1760, 0.0), (1761, 0.0), (1762, 0.04331896941691099), (1763, 0.0057533530217982595), (1764, 0.02976839155951512), (1765, 0.003967613646703466), (1766, 0.03471636988262535), (1767, 0.0036851201462644945), (1768, 0.006907553905307044), (1769, 0.003876597032145593), (1770, 0.024742692156813354), (1771, 0.010290129832269273), (1772, 0.028939689837296608), (1773, 0.0), (1774, 0.0), (1775, 0.03258261720766408), (1776, 0.0), (1777, 0.00394111127011091), (1778, 0.03891586489781336), (1779, 0.028349221558237683), (1780, 0.0), (1781, 0.0032640618407446752), (1782, 0.025278383676380103), (1783, 0.0036095106333498632), (1784, 0.0034834246226791736), (1785, 0.003629959430255582), (1786, 0.011608352514384163), (1787, 0.0099966790149544), (1788, 0.0036073205701838444), (1789, 0.0), (1790, 0.004573073321419027), (1791, 0.03732685169144122), (1792, 0.0045081699508193965), (1793, 0.0), (1794, 0.003510219593616853), (1795, 0.0), (1796, 0.020995177430916008), (1797, 0.02759360515100135), (1798, 0.05701724229509532), (1799, 0.034199895165355154), (1800, 0.0), (1801, 0.018916775846858674), (1802, 0.04409302560100179), (1803, 0.015716123275893827), (1804, 0.01058669960553351), (1805, 0.024541453045637516), (1806, 0.04561308061457111), (1807, 0.0), (1808, 0.0), (1809, 0.0), (1810, 0.0), (1811, 0.0), (1812, 0.0), (1813, 0.0), (1814, 0.0), (1815, 0.0), (1816, 0.08586377405152608), (1817, 0.0), (1818, 0.003635249111856809), (1819, 0.006259212900761063), (1820, 0.0), (1821, 0.030771535491277462), (1822, 0.004049545113351878), (1823, 0.0), (1824, 0.045952288976276574), (1825, 0.020011386338504484), (1826, 0.0), (1827, 0.02651706237611507), (1828, 0.0), (1829, 0.0339894434108134), (1830, 0.0033990931966139865), (1831, 0.01855807693835882), (1832, 0.050693905172447734), (1833, 0.04676049982662393), (1834, 0.003803057200460156), (1835, 0.0), (1836, 0.004259331200608622), (1837, 0.003798520730926899), (1838, 0.0), (1839, 0.0036634290807545174), (1840, 0.02049450626455728), (1841, 0.0), (1842, 0.0037534012055052655), (1843, 0.0), (1844, 0.004211689235440363), (1845, 0.005681466376067348), (1846, 0.0), (1847, 0.003960720373925005), (1848, 0.00412960323491887), (1849, 0.03660774194863137), (1850, 0.003308807650126057), (1851, 0.010988298893028582), (1852, 0.0), (1853, 0.03305212892500845), (1854, 0.0), (1855, 0.0035881296767098577), (1856, 0.004079649686874153), (1857, 0.0), (1858, 0.0075176704132776375), (1859, 0.0), (1860, 0.00690939464528091), (1861, 0.02004247590618452), (1862, 0.0), (1863, 0.0), (1864, 0.04573186278474984), (1865, 0.020875191137441677), (1866, 0.007336075776045992), (1867, 0.010423703268104325), (1868, 0.007185489942959157), (1869, 0.006082921613783366), (1870, 0.003428691449559193), (1871, 0.041653969337286226), (1872, 0.0), (1873, 0.0), (1874, 0.0), (1875, 0.023405342643217038), (1876, 0.0), (1877, 0.0036606364960226276), (1878, 0.010021562095022711), (1879, 0.0038809746131722436), (1880, 0.010290575414936779), (1881, 0.011039530617631896), (1882, 0.0), (1883, 0.00870173382233948), (1884, 0.0), (1885, 0.007872051588706994), (1886, 0.0), (1887, 0.0), (1888, 0.014136566610041977), (1889, 0.003894660410248601), (1890, 0.0), (1891, 0.0), (1892, 0.0), (1893, 0.01517841209107814), (1894, 0.0), (1895, 0.0036137471479932414), (1896, 0.0), (1897, 0.00728448451340343), (1898, 0.0035870410989186346), (1899, 0.003576252954608226), (1900, 0.003693332974738075), (1901, 0.0), (1902, 0.004032215118698114), (1903, 0.009873357254053385), (1904, 0.0), (1905, 0.011507019307495536), (1906, 0.0315668005173409), (1907, 0.00412925572888481), (1908, 0.033526966399634456), (1909, 0.007625731874907819), (1910, 0.0), (1911, 0.003983753604525342), (1912, 0.0036727907615127426), (1913, 0.02230798988559588), (1914, 0.0036053241918377085), (1915, 0.003648236494915882), (1916, 0.0), (1917, 0.003937845436192151), (1918, 0.01982555065416658), (1919, 0.030421553886648724), (1920, 0.0), (1921, 0.0), (1922, 0.0), (1923, 0.004260431759926827), (1924, 0.0), (1925, 0.0), (1926, 0.004076297977735858), (1927, 0.0), (1928, 0.004336938952875924), (1929, 0.0036571095036071325), (1930, 0.0), (1931, 0.0), (1932, 0.0), (1933, 0.0), (1934, 0.0), (1935, 0.06638125839560577), (1936, 0.0), (1937, 0.0), (1938, 0.0031984089224724012), (1939, 0.005091039637479427), (1940, 0.0), (1941, 0.0045914342024928586), (1942, 0.006835357813039179), (1943, 0.0033390251629397483), (1944, 0.03977495028548999), (1945, 0.0), (1946, 0.006903855623403714), (1947, 0.004453284675342406), (1948, 0.012861030553747418), (1949, 0.003977038501480643), (1950, 0.005487775421921504), (1951, 0.048398215176374576), (1952, 0.0), (1953, 0.0), (1954, 0.020024472883146904), (1955, 0.011086620772183078), (1956, 0.08366587453675216), (1957, 0.0032228244594643025), (1958, 0.0), (1959, 0.02489117578473153), (1960, 0.02547731144095741), (1961, 0.003951960686451322), (1962, 0.0), (1963, 0.008539521899239193), (1964, 0.020800732903981232), (1965, 0.004006954567784048), (1966, 0.0), (1967, 0.0), (1968, 0.0), (1969, 0.0), (1970, 0.045900037226530424), (1971, 0.022979303425418554), (1972, 0.0), (1973, 0.0036087438006208797), (1974, 0.009645681356182939), (1975, 0.0), (1976, 0.0), (1977, 0.005981820572068932), (1978, 0.0034191114643236666), (1979, 0.0), (1980, 0.07495073224699851), (1981, 0.020674059983437697), (1982, 0.003513728156618394), (1983, 0.0), (1984, 0.009700885095022425), (1985, 0.07343499293895348), (1986, 0.022356156438267005), (1987, 0.0035213442437595755), (1988, 0.0), (1989, 0.0), (1990, 0.0), (1991, 0.04026251114336186), (1992, 0.0035838829030536263), (1993, 0.0), (1994, 0.0034132689970734352), (1995, 0.03453039468564394), (1996, 0.0), (1997, 0.0), (1998, 0.0), (1999, 0.004333342097660081), (2000, 0.005353887645687683), (2001, 0.00908856782385203), (2002, 0.004015075811324916), (2003, 0.01019681813751239), (2004, 0.006314519202191615), (2005, 0.02032652129084419), (2006, 0.009001221567404443), (2007, 0.009633980455364587), (2008, 0.018252968835412175), (2009, 0.012500810519379284), (2010, 0.0), (2011, 0.006109139143543801), (2012, 0.0044116809523851875), (2013, 0.0), (2014, 0.024622315816041927), (2015, 0.0), (2016, 0.0), (2017, 0.0), (2018, 0.003129005880595055), (2019, 0.02245035214024083), (2020, 0.0), (2021, 0.0041524070993799725), (2022, 0.0), (2023, 0.0), (2024, 0.0), (2025, 0.003164513050748239), (2026, 0.010546274076654153), (2027, 0.018104955505296325), (2028, 0.0), (2029, 0.0), (2030, 0.0), (2031, 0.0), (2032, 0.12228898745236264), (2033, 0.09902326485484106), (2034, 0.0), (2035, 0.005691597886318951), (2036, 0.009607989195634927), (2037, 0.04500236142912325), (2038, 0.0), (2039, 0.017597125649145895), (2040, 0.0), (2041, 0.003890488608390905), (2042, 0.004003009678639477), (2043, 0.0034738535610359268), (2044, 0.0071364185842203946), (2045, 0.0), (2046, 0.0038313902040127516), (2047, 0.0), (2048, 0.006915042274163086), (2049, 0.011635938354884537), (2050, 0.003657890873599696), (2051, 0.00763328766881892), (2052, 0.00357760422251821), (2053, 0.0), (2054, 0.0), (2055, 0.0), (2056, 0.029821954289957826), (2057, 0.0), (2058, 0.03733719697518572), (2059, 0.0033456638382707146), (2060, 0.06771707416305225), (2061, 0.0), (2062, 0.0), (2063, 0.033712410821684406), (2064, 0.002825573972580861), (2065, 0.0), (2066, 0.0), (2067, 0.0), (2068, 0.01641353994083037), (2069, 0.0), (2070, 0.0), (2071, 0.0035688208385121966), (2072, 0.0), (2073, 0.0), (2074, 0.0), (2075, 0.008803240120782624), (2076, 0.07047757416347292), (2077, 0.00467844188911785), (2078, 0.0), (2079, 0.004379221228529057), (2080, 0.0), (2081, 0.0038402301768530847), (2082, 0.004161693116388262), (2083, 0.0), (2084, 0.0), (2085, 0.0), (2086, 0.011241305631872901), (2087, 0.003752046572341646), (2088, 0.0), (2089, 0.0), (2090, 0.004003698385637049), (2091, 0.0), (2092, 0.003940780672214054), (2093, 0.029095966623151514), (2094, 0.0), (2095, 0.0), (2096, 0.0), (2097, 0.0), (2098, 0.06459350092675425), (2099, 0.003585588960158725), (2100, 0.0), (2101, 0.011550117831022343), (2102, 0.0065680655642229155), (2103, 0.0), (2104, 0.022341797758165607), (2105, 0.007154201008393758), (2106, 0.014876736076976853), (2107, 0.010053643132663484), (2108, 0.011714874006032307), (2109, 0.0278456590771015), (2110, 0.04177968469387243), (2111, 0.03248165225316386), (2112, 0.0), (2113, 0.0030019339529277766), (2114, 0.0), (2115, 0.0), (2116, 0.01139146685416355), (2117, 0.0), (2118, 0.0), (2119, 0.0), (2120, 0.0), (2121, 0.0), (2122, 0.017437686674996362), (2123, 0.044968307010264795), (2124, 0.024225988245637334), (2125, 0.0035085126898905506), (2126, 0.0), (2127, 0.0), (2128, 0.0037723361830072494), (2129, 0.0), (2130, 0.0), (2131, 0.010139230561412976), (2132, 0.005612844058219858), (2133, 0.029535112581068182), (2134, 0.0), (2135, 0.0), (2136, 0.0), (2137, 0.005437102125278332), (2138, 0.004347886992051837), (2139, 0.0), (2140, 0.03333860317585565), (2141, 0.0), (2142, 0.03161926638330119), (2143, 0.06337739283460792), (2144, 0.006776879036798028), (2145, 0.00681398046906508), (2146, 0.003278370600938546), (2147, 0.03721600787742467), (2148, 0.007952339390169157), (2149, 0.047438864621261824), (2150, 0.0037148822311611767), (2151, 0.008180156686396928), (2152, 0.0), (2153, 0.003857140173335031), (2154, 0.0), (2155, 0.006835936777775383), (2156, 0.029455794700513203), (2157, 0.030228180416077544), (2158, 0.02635682844564891), (2159, 0.0074084690048289974), (2160, 0.00993180758264718), (2161, 0.009398064566230518), (2162, 0.0), (2163, 0.0), (2164, 0.004293808419037278), (2165, 0.0), (2166, 0.03302079468601523), (2167, 0.010142250425248842), (2168, 0.009031927228513575), (2169, 0.006761920671730647), (2170, 0.009870385454313582), (2171, 0.0), (2172, 0.0), (2173, 0.0), (2174, 0.018604354850587056), (2175, 0.0), (2176, 0.0), (2177, 0.0), (2178, 0.0), (2179, 0.0036037823116318282), (2180, 0.023913441365697705), (2181, 0.0), (2182, 0.02350141251708596), (2183, 0.003557346892434826), (2184, 0.0), (2185, 0.003436640087531219), (2186, 0.011963414214578635), (2187, 0.05038865676494657), (2188, 0.0), (2189, 0.0), (2190, 0.0), (2191, 0.0), (2192, 0.03530933895589524), (2193, 0.01065067638318531), (2194, 0.003978689410657623), (2195, 0.006700777043339913), (2196, 0.0), (2197, 0.01946208484814768), (2198, 0.018804988699566084), (2199, 0.004993619616509122), (2200, 0.003920177834459496), (2201, 0.00981843575813551), (2202, 0.036645336946386414), (2203, 0.003510256215397393), (2204, 0.0032519478797117113), (2205, 0.017568814035276478), (2206, 0.0), (2207, 0.020695457944992245), (2208, 0.026238427688845246), (2209, 0.004270785586226537), (2210, 0.0), (2211, 0.00884390630749029), (2212, 0.02966479858070971), (2213, 0.0), (2214, 0.0), (2215, 0.0036007457601639954), (2216, 0.0), (2217, 0.004016007797915781), (2218, 0.00426478760277665), (2219, 0.042498897186668), (2220, 0.0), (2221, 0.0), (2222, 0.0039624046028357675), (2223, 0.004361757655098518), (2224, 0.0), (2225, 0.05229128741337727), (2226, 0.0), (2227, 0.055288037831193224), (2228, 0.0049650055582266504), (2229, 0.04814334985083786), (2230, 0.006899792703762716), (2231, 0.0), (2232, 0.0), (2233, 0.0), (2234, 0.042625156168360254), (2235, 0.0), (2236, 0.00348105574845149), (2237, 0.005895370450459289), (2238, 0.0), (2239, 0.0), (2240, 0.033053572710798666), (2241, 0.003989134068250299), (2242, 0.010032176872723482), (2243, 0.0), (2244, 0.0), (2245, 0.0), (2246, 0.026577319771598752), (2247, 0.0), (2248, 0.0), (2249, 0.03459413516930183), (2250, 0.020874744579705583), (2251, 0.0), (2252, 0.0), (2253, 0.008006525565487815), (2254, 0.0), (2255, 0.0), (2256, 0.0), (2257, 0.0), (2258, 0.04530528964578401), (2259, 0.0), (2260, 0.039779357817123724), (2261, 0.0044466200722316825), (2262, 0.00345604558780582), (2263, 0.0), (2264, 0.0034080956904582026), (2265, 0.0034825554199837366), (2266, 0.008272609635517169), (2267, 0.0), (2268, 0.0), (2269, 0.007797576736804215), (2270, 0.0033145214338785533), (2271, 0.003630460356687185), (2272, 0.003563226609250428), (2273, 0.0), (2274, 0.03226127390600122), (2275, 0.0), (2276, 0.0), (2277, 0.0), (2278, 0.0), (2279, 0.0), (2280, 0.0038001139536321627), (2281, 0.005089405308055897), (2282, 0.004928738110882744), (2283, 0.0), (2284, 0.0038568703118768708), (2285, 0.0), (2286, 0.0), (2287, 0.011210337767319554), (2288, 0.0), (2289, 0.0), (2290, 0.003914664069704743), (2291, 0.0), (2292, 0.003907114129626988), (2293, 0.0), (2294, 0.0), (2295, 0.0), (2296, 0.003222510427205167), (2297, 0.0037601854012626694), (2298, 0.003785521755577176), (2299, 0.0), (2300, 0.0), (2301, 0.023314791600129434), (2302, 0.011988243257577968), (2303, 0.0036180257904657115), (2304, 0.008572401425074087), (2305, 0.004387490024607101), (2306, 0.0), (2307, 0.003934882802002331), (2308, 0.013208832124369668), (2309, 0.003664520848125501), (2310, 0.0), (2311, 0.0036086228347217385), (2312, 0.005522939351004811), (2313, 0.006821090492667786), (2314, 0.0), (2315, 0.003535884130419014), (2316, 0.0), (2317, 0.01935654232602612), (2318, 0.0), (2319, 0.04162462062974777), (2320, 0.012270036947068214), (2321, 0.05099642581217109), (2322, 0.0037368185815455667), (2323, 0.0), (2324, 0.0), (2325, 0.003982438785513369), (2326, 0.017687336828749105), (2327, 0.003576633632755864), (2328, 0.008246056857470931), (2329, 0.0037627311882774983), (2330, 0.0), (2331, 0.008659956219902112), (2332, 0.0), (2333, 0.012564450481983038), (2334, 0.0), (2335, 0.014517989531773615), (2336, 0.003814640438709663), (2337, 0.0), (2338, 0.006070037878101338), (2339, 0.004357024705254149), (2340, 0.003845675635983368), (2341, 0.0), (2342, 0.0), (2343, 0.0), (2344, 0.00673245691168661), (2345, 0.0), (2346, 0.03550349707508416), (2347, 0.0), (2348, 0.0036133607094342513), (2349, 0.00930235287401036), (2350, 0.0), (2351, 0.004578928091018637), (2352, 0.0), (2353, 0.03240571136979483), (2354, 0.0), (2355, 0.0), (2356, 0.0), (2357, 0.0043550317382627275), (2358, 0.0), (2359, 0.027564594010388098), (2360, 0.04757471513166832), (2361, 0.0), (2362, 0.02336370960027291), (2363, 0.004740717603878388), (2364, 0.0030843580168056603), (2365, 0.0), (2366, 0.0034020450550934556), (2367, 0.010103211950368302), (2368, 0.012579789634071074), (2369, 0.06883077083659167), (2370, 0.027741133777118197), (2371, 0.004155603001550934), (2372, 0.0), (2373, 0.0031992312499337745), (2374, 0.0), (2375, 0.011595328755508148), (2376, 0.024373027390478898), (2377, 0.0030452230780818423), (2378, 0.0), (2379, 0.0055363182250651125), (2380, 0.02808163309247104), (2381, 0.0042770742063124945), (2382, 0.0), (2383, 0.059431059612055935), (2384, 0.004272487516876293), (2385, 0.011116713860621671), (2386, 0.006868869001007591), (2387, 0.02255624333048041), (2388, 0.008248363592185498), (2389, 0.0034218583705861007), (2390, 0.007365158393526995), (2391, 0.011272947143646728), (2392, 0.0), (2393, 0.0), (2394, 0.004042187044174753), (2395, 0.005306425816543282), (2396, 0.0038710379701783963), (2397, 0.01073441975246125), (2398, 0.014170724217632985), (2399, 0.027068242811822723), (2400, 0.0), (2401, 0.0), (2402, 0.03783735174963986), (2403, 0.035668439220173216), (2404, 0.0052177366654141775), (2405, 0.0069876488308082615), (2406, 0.0), (2407, 0.009287031205436728), (2408, 0.0), (2409, 0.0418155189853981), (2410, 0.011578783094231288), (2411, 0.004343841331082445), (2412, 0.005833692931188599), (2413, 0.155881555195158), (2414, 0.0), (2415, 0.008152419117370514), (2416, 0.018498497414612937), (2417, 0.0), (2418, 0.0), (2419, 0.0), (2420, 0.011822536617273324), (2421, 0.0), (2422, 0.01024543154777422), (2423, 0.004834526655127162), (2424, 0.003477117294152096), (2425, 0.0), (2426, 0.0034576978051728416), (2427, 0.0), (2428, 0.11202166979823959), (2429, 0.04982563780919334), (2430, 0.025859264530019424), (2431, 0.010862880788460483), (2432, 0.0), (2433, 0.0033593693410524975), (2434, 0.012617906309212952), (2435, 0.0037881096997497287), (2436, 0.004287562336498542), (2437, 0.0), (2438, 0.0), (2439, 0.0031495500088600885), (2440, 0.031949788287136134), (2441, 0.008546905195580183), (2442, 0.0), (2443, 0.0), (2444, 0.003913039246676573), (2445, 0.003530794181491548), (2446, 0.0035630198737378626), (2447, 0.03863829557988788), (2448, 0.0), (2449, 0.00386101644846633), (2450, 0.003566160948841443), (2451, 0.0224683049524793), (2452, 0.004208556525484204), (2453, 0.006174883362430008), (2454, 0.0), (2455, 0.004869112325317743), (2456, 0.03618802578170108), (2457, 0.00604356185720258), (2458, 0.004180551419861728), (2459, 0.0), (2460, 0.021574589987216373), (2461, 0.028432007130388258), (2462, 0.0), (2463, 0.01844935554564112), (2464, 0.004207257175800393), (2465, 0.023859473414973336), (2466, 0.0), (2467, 0.010183158232346053), (2468, 0.004482211330977319), (2469, 0.01637900861829251), (2470, 0.0), (2471, 0.0), (2472, 0.010588156335100709), (2473, 0.0), (2474, 0.0), (2475, 0.007225143984210944), (2476, 0.0), (2477, 0.0), (2478, 0.004403812527111715), (2479, 0.004283745864057306), (2480, 0.0), (2481, 0.0), (2482, 0.0), (2483, 0.00505912326655927), (2484, 0.0), (2485, 0.0), (2486, 0.00437989393559431), (2487, 0.0038877835526232554), (2488, 0.012898960601114003), (2489, 0.006846800423644109), (2490, 0.005529129314211803), (2491, 0.0035368910245377463), (2492, 0.010620722700327974), (2493, 0.004233826307912379), (2494, 0.011379403806608276), (2495, 0.0038358332348332426), (2496, 0.0), (2497, 0.0035429844085235153), (2498, 0.020606427547092895), (2499, 0.008157458475804735), (2500, 0.053267420628829165), (2501, 0.0), (2502, 0.026229836750571764), (2503, 0.0), (2504, 0.0037454621030485542), (2505, 0.0), (2506, 0.0), (2507, 0.004167229696502723), (2508, 0.0031753287904338493), (2509, 0.008673578088446626), (2510, 0.0043974772196030696), (2511, 0.032624262218709996), (2512, 0.003808645257405126), (2513, 0.0), (2514, 0.003446487234082804), (2515, 0.004762666431040601), (2516, 0.00406466485121873), (2517, 0.017842437649644247), (2518, 0.09039918976844127), (2519, 0.01088708771836646), (2520, 0.0), (2521, 0.0), (2522, 0.0), (2523, 0.06427132155784421), (2524, 0.0), (2525, 0.0), (2526, 0.0), (2527, 0.005778415160054378), (2528, 0.006239149292916068), (2529, 0.015321259518156959), (2530, 0.0), (2531, 0.010999857950672598), (2532, 0.0), (2533, 0.0), (2534, 0.0), (2535, 0.011698240519691337), (2536, 0.005011190364135108), (2537, 0.005262479883007952), (2538, 0.06738123049719762), (2539, 0.0033301598161435074), (2540, 0.0), (2541, 0.028300668833929885), (2542, 0.07223883811902826), (2543, 0.013243646493565686), (2544, 0.0), (2545, 0.0), (2546, 0.003993516848738642), (2547, 0.041119539864432474), (2548, 0.003544644163973792), (2549, 0.0), (2550, 0.005023951077803932), (2551, 0.0038978148249930555), (2552, 0.02105948744990668), (2553, 0.010289834883720284), (2554, 0.0038699607205704856), (2555, 0.021343676295570633), (2556, 0.0), (2557, 0.06726574416042211), (2558, 0.0826296963512761), (2559, 0.04383536706427294), (2560, 0.029252652021427964), (2561, 0.004002190927964579), (2562, 0.0), (2563, 0.0), (2564, 0.043558726448274354), (2565, 0.0), (2566, 0.01521419960652736), (2567, 0.0), (2568, 0.0), (2569, 0.0037905967001478887), (2570, 0.012422511852570053), (2571, 0.0), (2572, 0.021797459212081625), (2573, 0.02559612632259893), (2574, 0.0), (2575, 0.00419287566032756), (2576, 0.0), (2577, 0.0), (2578, 0.029187426343972964), (2579, 0.0), (2580, 0.020549394735973035), (2581, 0.004793758969819053), (2582, 0.010767644931321471), (2583, 0.0), (2584, 0.03586645255464861), (2585, 0.0), (2586, 0.0038868103712421886), (2587, 0.0068086514882594075), (2588, 0.01130532604728887), (2589, 0.00664127898377141), (2590, 0.003571097943774071), (2591, 0.022210004437061143), (2592, 0.004246889765094532), (2593, 0.0), (2594, 0.009886045805615116), (2595, 0.0), (2596, 0.0), (2597, 0.006334699220803736), (2598, 0.0), (2599, 0.0), (2600, 0.004839830650538507), (2601, 0.0040007351567284705), (2602, 0.0), (2603, 0.03509054281017596), (2604, 0.004174790255863865), (2605, 0.004004551401908643), (2606, 0.0), (2607, 0.006022089300971774), (2608, 0.026448804915237004), (2609, 0.0071660894386382495), (2610, 0.015208514658762084), (2611, 0.0), (2612, 0.0), (2613, 0.0), (2614, 0.027675008762227487), (2615, 0.00356354021429375), (2616, 0.024205317435973428), (2617, 0.0), (2618, 0.0), (2619, 0.009239417294154326), (2620, 0.0036605886362808997), (2621, 0.0), (2622, 0.0), (2623, 0.0), (2624, 0.0), (2625, 0.031737343779650165), (2626, 0.004210212292807211), (2627, 0.0), (2628, 0.0), (2629, 0.007626593176456062), (2630, 0.0), (2631, 0.0036430253011860356), (2632, 0.0), (2633, 0.011080673635198348), (2634, 0.0), (2635, 0.004494936894753588), (2636, 0.0), (2637, 0.06007592676746764), (2638, 0.0), (2639, 0.0037638399138995543), (2640, 0.0), (2641, 0.02992233422879837), (2642, 0.010168964437289794), (2643, 0.008689051293345051), (2644, 0.003650189425847692), (2645, 0.0), (2646, 0.040359358737842105), (2647, 0.0), (2648, 0.003955642892516523), (2649, 0.0), (2650, 0.006980329312789186), (2651, 0.0), (2652, 0.006792158181877927), (2653, 0.003701854724494372), (2654, 0.0), (2655, 0.0), (2656, 0.0048435281120213555), (2657, 0.005619193866939179), (2658, 0.0), (2659, 0.005525797173008201), (2660, 0.0), (2661, 0.011330457900669746), (2662, 0.015860884334055893), (2663, 0.014069082795366568), (2664, 0.007162595133130221), (2665, 0.003158776390899755), (2666, 0.03223147642284688), (2667, 0.00522732562087131), (2668, 0.0), (2669, 0.005673188350670665), (2670, 0.03342339308107001), (2671, 0.00775222130243369), (2672, 0.004299737488888982), (2673, 0.0), (2674, 0.0), (2675, 0.004021432447125967), (2676, 0.004398896411964516), (2677, 0.010283659927866675), (2678, 0.017189411585254433), (2679, 0.0), (2680, 0.0), (2681, 0.04016763372578403), (2682, 0.02101562862543196), (2683, 0.0), (2684, 0.005555415653811311), (2685, 0.0038931956293029512), (2686, 0.0), (2687, 0.010384121259715511), (2688, 0.0032911703417525177), (2689, 0.02217624146728576), (2690, 0.003642810495425243), (2691, 0.027702652844692997), (2692, 0.0), (2693, 1.0000000000000002), (2694, 0.0), (2695, 0.0), (2696, 0.012269386260157344), (2697, 0.03420358508288234), (2698, 0.0), (2699, 0.0771685613621167), (2700, 0.0), (2701, 0.017082218167064997), (2702, 0.01206323242430864), (2703, 0.005938479060676847), (2704, 0.08126626883346919), (2705, 0.0072746531536182725), (2706, 0.003647036580710957), (2707, 0.0), (2708, 0.0), (2709, 0.0038378404738165168), (2710, 0.0), (2711, 0.0), (2712, 0.004098758107403723), (2713, 0.0), (2714, 0.0), (2715, 0.0050501962073819595), (2716, 0.030077362742749105), (2717, 0.0), (2718, 0.0), (2719, 0.0), (2720, 0.004496083772531251), (2721, 0.0033333067759180332), (2722, 0.005385329271156613), (2723, 0.07083742229583039), (2724, 0.0), (2725, 0.0), (2726, 0.007922315981459453), (2727, 0.03229060377415505), (2728, 0.0034917871096112082), (2729, 0.008185316446823219), (2730, 0.012968181638502937), (2731, 0.005149328841202368), (2732, 0.02152846229431722), (2733, 0.0), (2734, 0.0030490045126249864), (2735, 0.0), (2736, 0.017871718546159453), (2737, 0.01764716329842762), (2738, 0.004527087556156186), (2739, 0.0), (2740, 0.0075645885013909345), (2741, 0.0034540461162987277), (2742, 0.0), (2743, 0.0), (2744, 0.010938785174144053), (2745, 0.006781381499410866), (2746, 0.03200232139670569), (2747, 0.012469526330928786), (2748, 0.01147731221351608), (2749, 0.019039178841407888), (2750, 0.0), (2751, 0.0), (2752, 0.0), (2753, 0.0), (2754, 0.004021841740154041), (2755, 0.011160635340135212), (2756, 0.004618091304930361), (2757, 0.0), (2758, 0.0032580283885743208), (2759, 0.0), (2760, 0.0), (2761, 0.005781537565351132), (2762, 0.0), (2763, 0.024176754361527112), (2764, 0.015037132396933304), (2765, 0.0), (2766, 0.0053309822134313045), (2767, 0.0), (2768, 0.0), (2769, 0.01245796314282358), (2770, 0.0031722630975022166), (2771, 0.026496041869591497), (2772, 0.0), (2773, 0.0), (2774, 0.0030654102179831933), (2775, 0.009120767422533415), (2776, 0.04469852377618593), (2777, 0.0), (2778, 0.0), (2779, 0.006413583429092507), (2780, 0.0), (2781, 0.004623093834841098), (2782, 0.004270290544478509), (2783, 0.0), (2784, 0.0), (2785, 0.0), (2786, 0.004108111834052068), (2787, 0.003647750948600033), (2788, 0.0), (2789, 0.0), (2790, 0.08149486207374937), (2791, 0.0), (2792, 0.0), (2793, 0.020981698969539796), (2794, 0.010926976405748873), (2795, 0.0), (2796, 0.004390140028586785), (2797, 0.012918794683968043), (2798, 0.07024016555851545), (2799, 0.004293608446895315), (2800, 0.0), (2801, 0.0), (2802, 0.006569494670677864), (2803, 0.02841679737258336), (2804, 0.02636928189760919), (2805, 0.009229580429276052), (2806, 0.007440579685781149), (2807, 0.01035450518201659), (2808, 0.0), (2809, 0.0070717795838745115), (2810, 0.004299364462675979), (2811, 0.03839615558278623), (2812, 0.0036152897412587196), (2813, 0.03513678476048311), (2814, 0.0027444929315724553), (2815, 0.0), (2816, 0.01092090109966756), (2817, 0.011254511235599285), (2818, 0.005372026696507138), (2819, 0.0), (2820, 0.003355371406294669), (2821, 0.00713240354973999), (2822, 0.0033107166043982016), (2823, 0.007264025328268235), (2824, 0.0), (2825, 0.003789678805236695), (2826, 0.0), (2827, 0.019460437170686514), (2828, 0.0), (2829, 0.0036753594926473517), (2830, 0.02836627703311373), (2831, 0.0), (2832, 0.013851417389950028), (2833, 0.003419412492953498), (2834, 0.07511985930918053), (2835, 0.0), (2836, 0.01047261211909847), (2837, 0.0), (2838, 0.013488620323896201), (2839, 0.02234622577821516), (2840, 0.0), (2841, 0.010483679875284927), (2842, 0.0), (2843, 0.004259935708051548), (2844, 0.0055488690306392235), (2845, 0.0), (2846, 0.004488718782515122), (2847, 0.0), (2848, 0.035695449643741994), (2849, 0.0), (2850, 0.0), (2851, 0.0), (2852, 0.00856795239732788), (2853, 0.0), (2854, 0.0), (2855, 0.008950590470381718), (2856, 0.00394023651100623), (2857, 0.013028541147253922), (2858, 0.005437405652418334), (2859, 0.00636961038927966), (2860, 0.029970828939752885), (2861, 0.0), (2862, 0.0), (2863, 0.006927281503983921), (2864, 0.0), (2865, 0.0), (2866, 0.00982151864212642), (2867, 0.0), (2868, 0.0), (2869, 0.0), (2870, 0.009107730624065185), (2871, 0.029364846796774324), (2872, 0.012149419655279051), (2873, 0.004357038925117034), (2874, 0.003560394708633955), (2875, 0.004875675952716078), (2876, 0.008815088567042172), (2877, 0.008861100787814583), (2878, 0.0070821838354865885), (2879, 0.0), (2880, 0.011375628055609537), (2881, 0.0), (2882, 0.004168623005322363), (2883, 0.009091734774376609), (2884, 0.004428411162531193), (2885, 0.0), (2886, 0.0064098166507423615), (2887, 0.0), (2888, 0.0), (2889, 0.0), (2890, 0.042848637607710474), (2891, 0.014950547443544293), (2892, 0.026235526635608748), (2893, 0.10596005767254159), (2894, 0.028362502337284712), (2895, 0.0), (2896, 0.0038956134398239833), (2897, 0.010081487397635147), (2898, 0.0), (2899, 0.0), (2900, 0.0), (2901, 0.0), (2902, 0.0), (2903, 0.0), (2904, 0.0069879645382371226), (2905, 0.0), (2906, 0.0), (2907, 0.0062309723516739066), (2908, 0.0), (2909, 0.0), (2910, 0.0), (2911, 0.006992258844689184), (2912, 0.003714536793360238), (2913, 0.040894477074751974), (2914, 0.004338455802584121), (2915, 0.007306168415877781), (2916, 0.0), (2917, 0.0), (2918, 0.0), (2919, 0.07454628113085435), (2920, 0.0), (2921, 0.0), (2922, 0.005219685784148655), (2923, 0.0), (2924, 0.012240679140484791), (2925, 0.0030800476927646246), (2926, 0.0040119262154206985), (2927, 0.0), (2928, 0.013629224930773749), (2929, 0.02008957188597885), (2930, 0.004217793487609419), (2931, 0.006077424176647152), (2932, 0.0), (2933, 0.008963376028721081), (2934, 0.0), (2935, 0.0), (2936, 0.03068996060096116), (2937, 0.0), (2938, 0.0), (2939, 0.004777852420603966), (2940, 0.039745783960272604), (2941, 0.004929896184926903), (2942, 0.0), (2943, 0.006694345597724219), (2944, 0.0), (2945, 0.042976826853368864), (2946, 0.0), (2947, 0.0), (2948, 0.004995681467839817), (2949, 0.0), (2950, 0.0), (2951, 0.008452482415630805), (2952, 0.0), (2953, 0.0), (2954, 0.024513523845215122), (2955, 0.0), (2956, 0.0), (2957, 0.0), (2958, 0.031069423089579423), (2959, 0.0), (2960, 0.031848142701758814), (2961, 0.0), (2962, 0.023557966804301028), (2963, 0.033340606785120554), (2964, 0.02845391290879566), (2965, 0.0), (2966, 0.008167338601573548), (2967, 0.007578504020860286), (2968, 0.034339356725562105), (2969, 0.0), (2970, 0.004088944844396246), (2971, 0.0033378907766297467), (2972, 0.003615968255234536), (2973, 0.014114497385201402), (2974, 0.007543057872875313), (2975, 0.024281402516357298), (2976, 0.0034364632821205954), (2977, 0.0), (2978, 0.06426054803950557), (2979, 0.004167770804343885), (2980, 0.030624593735189828), (2981, 0.0), (2982, 0.01201159618662829), (2983, 0.01332078476042296), (2984, 0.030320136127295966), (2985, 0.0), (2986, 0.01248452467862087), (2987, 0.0), (2988, 0.0), (2989, 0.0), (2990, 0.005164159344123469), (2991, 0.0), (2992, 0.0522991807015757), (2993, 0.0), (2994, 0.0038610429742495195), (2995, 0.006367453902548105), (2996, 0.0), (2997, 0.0), (2998, 0.0), (2999, 0.010494814530363805), (3000, 0.0), (3001, 0.04783781796144086), (3002, 0.0), (3003, 0.004261498310376747), (3004, 0.008275121872150574), (3005, 0.021144151280032313), (3006, 0.0), (3007, 0.028446267682175258), (3008, 0.0), (3009, 0.014779159040206874), (3010, 0.0), (3011, 0.03220397582124325), (3012, 0.0), (3013, 0.0075789996237732625), (3014, 0.03242017823831367), (3015, 0.008513619912647928), (3016, 0.03100039501394771), (3017, 0.012540213072772088), (3018, 0.025853429472051992), (3019, 0.0), (3020, 0.004657075637167119), (3021, 0.0), (3022, 0.0), (3023, 0.0), (3024, 0.0), (3025, 0.0), (3026, 0.004238342915887939), (3027, 0.0), (3028, 0.0), (3029, 0.0), (3030, 0.009101535639827098), (3031, 0.0), (3032, 0.0), (3033, 0.003833998334521199), (3034, 0.010623344903179552), (3035, 0.0), (3036, 0.02626320497371116), (3037, 0.004049294138962681), (3038, 0.004012920670659779), (3039, 0.011943586040897375), (3040, 0.005357285518379253), (3041, 0.004049193162889166), (3042, 0.005197772237953709), (3043, 0.0), (3044, 0.004181600559665108), (3045, 0.0), (3046, 0.0), (3047, 0.0), (3048, 0.0), (3049, 0.0), (3050, 0.009670053410998558), (3051, 0.0), (3052, 0.0), (3053, 0.026509055233677515), (3054, 0.004609532154583755), (3055, 0.0), (3056, 0.00556576544556153), (3057, 0.0), (3058, 0.0), (3059, 0.0), (3060, 0.0038994462760822603), (3061, 0.011035330664784602), (3062, 0.004253015272895352), (3063, 0.0033924646903509847), (3064, 0.0), (3065, 0.0), (3066, 0.045923997272902674), (3067, 0.0066371416843503716), (3068, 0.02774709754915582), (3069, 0.018329091769244372), (3070, 0.003426760742441062), (3071, 0.035760113397063815), (3072, 0.007808684048978928), (3073, 0.09720556845774275), (3074, 0.004706568238503608), (3075, 0.006525030833980469), (3076, 0.0), (3077, 0.033346201535709406), (3078, 0.01356275894048823), (3079, 0.0), (3080, 0.004275919471329533), (3081, 0.0), (3082, 0.022018140344184693), (3083, 0.027259504574150033), (3084, 0.00406868414699023), (3085, 0.0), (3086, 0.0), (3087, 0.0048397321293620395), (3088, 0.005704468724658295), (3089, 0.004660920751239689), (3090, 0.030936363027346737), (3091, 0.0), (3092, 0.0), (3093, 0.0), (3094, 0.00786118934150074), (3095, 0.0241828123423513), (3096, 0.04345921076773222), (3097, 0.004230055333609633), (3098, 0.0679985037921311), (3099, 0.04200106568427389), (3100, 0.0), (3101, 0.023112325199113163), (3102, 0.003909786269095814), (3103, 0.01419688331263068), (3104, 0.0038271882296593103), (3105, 0.0), (3106, 0.0038240249811239938), (3107, 0.0), (3108, 0.0034430521124572165), (3109, 0.011240929875447017), (3110, 0.0), (3111, 0.006013176378014167), (3112, 0.0), (3113, 0.0039126989038228265), (3114, 0.0), (3115, 0.005971969259002363), (3116, 0.007382814650716977), (3117, 0.0), (3118, 0.0), (3119, 0.0), (3120, 0.021303919685471132), (3121, 0.029161773685307743), (3122, 0.0), (3123, 0.0), (3124, 0.0), (3125, 0.0), (3126, 0.0), (3127, 0.0037158802661839767), (3128, 0.0), (3129, 0.0), (3130, 0.017122823651218422), (3131, 0.0), (3132, 0.0), (3133, 0.0), (3134, 0.0), (3135, 0.0), (3136, 0.0), (3137, 0.013356650295352341), (3138, 0.0), (3139, 0.005431297760939022), (3140, 0.008455198251856217), (3141, 0.021778758383475202), (3142, 0.03422760711831877), (3143, 0.044159269763714086), (3144, 0.0), (3145, 0.0), (3146, 0.004290947267975271), (3147, 0.013397101883378858), (3148, 0.0076067769158040845), (3149, 0.0037002406718988933), (3150, 0.004013671784001853), (3151, 0.0), (3152, 0.0), (3153, 0.0), (3154, 0.0), (3155, 0.003862414140296583), (3156, 0.0), (3157, 0.0), (3158, 0.0), (3159, 0.0), (3160, 0.0), (3161, 0.0524098058059312), (3162, 0.004000203115052374), (3163, 0.0), (3164, 0.0032486263860419594), (3165, 0.007716702024328951), (3166, 0.052958194142594915), (3167, 0.0), (3168, 0.011884905244517598), (3169, 0.06415084193148465), (3170, 0.0063915669146870045), (3171, 0.031414902154200376), (3172, 0.004466849269678035), (3173, 0.0), (3174, 0.0), (3175, 0.06946369663337516), (3176, 0.0), (3177, 0.010026179484664118), (3178, 0.01668748736381514), (3179, 0.0), (3180, 0.007474579630274527), (3181, 0.004180266542468871), (3182, 0.09703215981146861), (3183, 0.011557854265694932), (3184, 0.007216135383722823), (3185, 0.0), (3186, 0.0), (3187, 0.032057657232982845), (3188, 0.010542634514969881), (3189, 0.01108909036713533), (3190, 0.004445199622789805), (3191, 0.0), (3192, 0.008475880436672311), (3193, 0.0), (3194, 0.009962233645578808), (3195, 0.0), (3196, 0.0), (3197, 0.0034863342319519687), (3198, 0.010903381401504597), (3199, 0.0), (3200, 0.005708489673436229), (3201, 0.0), (3202, 0.04125529010206236), (3203, 0.004620042383085214), (3204, 0.00513522602143215), (3205, 0.028224504366700282), (3206, 0.0), (3207, 0.08799799183499322), (3208, 0.0), (3209, 0.0039233362916651915), (3210, 0.0), (3211, 0.06247852730742117), (3212, 0.026080259705833754), (3213, 0.0), (3214, 0.010076439330278672), (3215, 0.0), (3216, 0.022898511971416426), (3217, 0.013601306658536396), (3218, 0.011252347230420363), (3219, 0.0), (3220, 0.010315444328861285), (3221, 0.004290599222057547), (3222, 0.0), (3223, 0.0), (3224, 0.00399392841483401), (3225, 0.0), (3226, 0.0), (3227, 0.0), (3228, 0.0), (3229, 0.010961786482286073), (3230, 0.0), (3231, 0.03139772079474812), (3232, 0.0033540404317269935), (3233, 0.0), (3234, 0.004193151460273283), (3235, 0.007162166436734058), (3236, 0.004080056314145855), (3237, 0.00663590567579432), (3238, 0.019453817540855463), (3239, 0.009673048299663731), (3240, 0.0), (3241, 0.007009123956321081), (3242, 0.021963699892981497), (3243, 0.04114526778677227), (3244, 0.027906295335351775), (3245, 0.0038759486230950557), (3246, 0.010118378470502934), (3247, 0.0), (3248, 0.0074928486655231885), (3249, 0.004797949273668364), (3250, 0.03288365445893871), (3251, 0.0), (3252, 0.01563955892598982), (3253, 0.004362424294216284), (3254, 0.005493339266735325), (3255, 0.0), (3256, 0.004471823281531979), (3257, 0.01271784591119575), (3258, 0.011477072558753257), (3259, 0.06599420374864418), (3260, 0.0037638036463061133), (3261, 0.0), (3262, 0.0), (3263, 0.0), (3264, 0.019818530280311414), (3265, 0.007906692957692075), (3266, 0.005306670880238086), (3267, 0.0034808454788321243), (3268, 0.032288057563684476), (3269, 0.0), (3270, 0.003811228756203354), (3271, 0.049288777297266884), (3272, 0.0), (3273, 0.007479704184626274), (3274, 0.0075698835060644554), (3275, 0.0), (3276, 0.010141833089759146), (3277, 0.004039286273526889), (3278, 0.0), (3279, 0.0), (3280, 0.0), (3281, 0.0), (3282, 0.06289620351895883), (3283, 0.003907425395586219), (3284, 0.0), (3285, 0.0), (3286, 0.003724462576685472), (3287, 0.003965782626851019), (3288, 0.01032695131590519), (3289, 0.0039314121519732105), (3290, 0.003947833487392783), (3291, 0.009028490350232175), (3292, 0.0), (3293, 0.0), (3294, 0.025478409467056543), (3295, 0.009605131140897139), (3296, 0.0076413906552961685), (3297, 0.00815242353141389), (3298, 0.006489899100813043), (3299, 0.031028511164699936), (3300, 0.00631368458850305), (3301, 0.0), (3302, 0.008185862811049426), (3303, 0.010740825111782683), (3304, 0.026552408372740675), (3305, 0.0), (3306, 0.0), (3307, 0.0), (3308, 0.012495501453014542), (3309, 0.007326342432496531), (3310, 0.0040019403447724925), (3311, 0.0034701379125592967), (3312, 0.0), (3313, 0.0), (3314, 0.007125462920032136), (3315, 0.07901694623403978), (3316, 0.0), (3317, 0.0), (3318, 0.006055152555549893), (3319, 0.007173454462180076), (3320, 0.003603011482268915), (3321, 0.0035494371619506364), (3322, 0.0), (3323, 0.022323865168256695), (3324, 0.004508392225074109), (3325, 0.0), (3326, 0.03637314250579766), (3327, 0.006026254369010746), (3328, 0.0), (3329, 0.00350705217090598), (3330, 0.0), (3331, 0.0), (3332, 0.003882111233068094), (3333, 0.01959242889069046), (3334, 0.0), (3335, 0.006788208774402191), (3336, 0.01882955416314858), (3337, 0.004426349454111335), (3338, 0.0), (3339, 0.0), (3340, 0.0), (3341, 0.0), (3342, 0.0), (3343, 0.0038322922477715487), (3344, 0.0), (3345, 0.0), (3346, 0.0), (3347, 0.0), (3348, 0.0037124924641997008), (3349, 0.003979955941088047), (3350, 0.0037845634835619703), (3351, 0.004003744107811334), (3352, 0.013839044578223344), (3353, 0.0), (3354, 0.0), (3355, 0.0), (3356, 0.0), (3357, 0.004768399958004119), (3358, 0.0), (3359, 0.007818780846321654), (3360, 0.0), (3361, 0.0), (3362, 0.0), (3363, 0.008379030425008677), (3364, 0.012184411529547919), (3365, 0.0), (3366, 0.021831872566452293), (3367, 0.0), (3368, 0.0), (3369, 0.020777158777323907), (3370, 0.06268147426523392), (3371, 0.011691976331724568), (3372, 0.0), (3373, 0.03021677583570094), (3374, 0.0), (3375, 0.06439822070082246), (3376, 0.0), (3377, 0.0), (3378, 0.004003025350817684), (3379, 0.0), (3380, 0.005963987337521902), (3381, 0.0), (3382, 0.004002910682632185), (3383, 0.004343739123830928), (3384, 0.022004461426001525), (3385, 0.0), (3386, 0.0038869795677253043), (3387, 0.0), (3388, 0.011120501361643123), (3389, 0.0035281576452964036), (3390, 0.0), (3391, 0.007489205269357429), (3392, 0.012471217652079664), (3393, 0.0032993161601520293), (3394, 0.018244234308144293), (3395, 0.0035240807438180325), (3396, 0.0), (3397, 0.0034427329906892646), (3398, 0.0), (3399, 0.0), (3400, 0.010321922743816209), (3401, 0.0), (3402, 0.0037382701034431092), (3403, 0.005886152439002664), (3404, 0.0), (3405, 0.0), (3406, 0.007090390031728096), (3407, 0.03175904130660872), (3408, 0.012205672419536769), (3409, 0.0), (3410, 0.0030870002521180356), (3411, 0.0033656641175056714), (3412, 0.0), (3413, 0.012677413794476173), (3414, 0.0), (3415, 0.004014814300685098), (3416, 0.0), (3417, 0.041791266872332346), (3418, 0.00696275342021191), (3419, 0.0), (3420, 0.0), (3421, 0.026058435056492506), (3422, 0.004046294348002301), (3423, 0.0), (3424, 0.011563957613918156), (3425, 0.007784681979970277), (3426, 0.0), (3427, 0.0), (3428, 0.003963246210961698), (3429, 0.0), (3430, 0.025759508229496218), (3431, 0.0), (3432, 0.0), (3433, 0.019698027494461777), (3434, 0.007147579360860703), (3435, 0.0), (3436, 0.0), (3437, 0.0), (3438, 0.0), (3439, 0.004975701605726468), (3440, 0.0), (3441, 0.0), (3442, 0.03719093623973989), (3443, 0.05680070720876061), (3444, 0.008457215840860288), (3445, 0.0), (3446, 0.0), (3447, 0.014062142186204694), (3448, 0.03787986706193648), (3449, 0.011405324004371612), (3450, 0.0), (3451, 0.0), (3452, 0.0), (3453, 0.03434553124104931), (3454, 0.0), (3455, 0.0), (3456, 0.02132628586914468), (3457, 0.0), (3458, 0.0), (3459, 0.0), (3460, 0.0), (3461, 0.004089109540364525), (3462, 0.03549737830018435), (3463, 0.0), (3464, 0.004065663414938694), (3465, 0.0), (3466, 0.0), (3467, 0.0), (3468, 0.0), (3469, 0.0), (3470, 0.0), (3471, 0.0), (3472, 0.0), (3473, 0.0), (3474, 0.0), (3475, 0.0062358058742890115), (3476, 0.0), (3477, 0.01046596877540144), (3478, 0.0), (3479, 0.014095492669433995), (3480, 0.0), (3481, 0.0032285788797603164), (3482, 0.0), (3483, 0.0), (3484, 0.0), (3485, 0.0034088761488461103), (3486, 0.0), (3487, 0.0), (3488, 0.0), (3489, 0.010879619552952838), (3490, 0.010135706717695724), (3491, 0.0), (3492, 0.013420449985734165), (3493, 0.011047124125393494), (3494, 0.003860794753746882), (3495, 0.0), (3496, 0.04712716843115175), (3497, 0.0), (3498, 0.0315541440753431), (3499, 0.052508917974067634), (3500, 0.0306900221769666), (3501, 0.0), (3502, 0.0), (3503, 0.021676354036923206), (3504, 0.0), (3505, 0.0), (3506, 0.007748735913548714), (3507, 0.0), (3508, 0.06523528984832566), (3509, 0.0033282651882969097), (3510, 0.004135627332131645), (3511, 0.07071539721206971), (3512, 0.005882436302192512), (3513, 0.01105839726946813), (3514, 0.004004833852240839), (3515, 0.0), (3516, 0.05398275423303515), (3517, 0.003972002327179699), (3518, 0.0038183719463910177), (3519, 0.15283272290223804), (3520, 0.0), (3521, 0.0), (3522, 0.0), (3523, 0.0), (3524, 0.00790467625351937), (3525, 0.0), (3526, 0.010801541756418297), (3527, 0.0), (3528, 0.024528473368110815), (3529, 0.01159796630134782), (3530, 0.0), (3531, 0.0405240730319468), (3532, 0.03839731083964671), (3533, 0.0), (3534, 0.0), (3535, 0.0), (3536, 0.0), (3537, 0.004758187210424085), (3538, 0.003058836513801841), (3539, 0.03735447321235871), (3540, 0.0), (3541, 0.010617091101488835), (3542, 0.0), (3543, 0.003566074235993376), (3544, 0.004669604730273388), (3545, 0.003807656386465732), (3546, 0.005012510122332738), (3547, 0.0), (3548, 0.0), (3549, 0.010915614305459523), (3550, 0.017434645455521258), (3551, 0.006780862180892523), (3552, 0.017166079630835857), (3553, 0.0), (3554, 0.004643777631379517), (3555, 0.0), (3556, 0.0), (3557, 0.0), (3558, 0.006202599317466673), (3559, 0.0032154097704820707), (3560, 0.007548847715954246), (3561, 0.03744701448600353), (3562, 0.02177389703811653), (3563, 0.0034963237968891944), (3564, 0.0), (3565, 0.03849645959223306), (3566, 0.017630564504832042), (3567, 0.0), (3568, 0.0), (3569, 0.0), (3570, 0.003812171426123688), (3571, 0.01176813285074942), (3572, 0.004247174135918495), (3573, 0.0), (3574, 0.0029462769155327315), (3575, 0.008526882651052812), (3576, 0.0), (3577, 0.051633789229886116), (3578, 0.0), (3579, 0.025030282759608887), (3580, 0.02425456587018241), (3581, 0.004217066602478238), (3582, 0.0036955765477029055), (3583, 0.0), (3584, 0.011335315780958246), (3585, 0.0074778630694973805), (3586, 0.0), (3587, 0.0), (3588, 0.0), (3589, 0.009733116648415259), (3590, 0.0), (3591, 0.00400377133912821), (3592, 0.01312245642410663), (3593, 0.0), (3594, 0.006691949689530852), (3595, 0.003670324040726352), (3596, 0.0), (3597, 0.0), (3598, 0.05114357538817576), (3599, 0.045841592013780505), (3600, 0.0), (3601, 0.01125638136798528), (3602, 0.0), (3603, 0.010756100698359958), (3604, 0.034297049881153466), (3605, 0.02199771311683404), (3606, 0.003911369533224952), (3607, 0.0), (3608, 0.0), (3609, 0.0), (3610, 0.05551560966478341), (3611, 0.0), (3612, 0.0), (3613, 0.0), (3614, 0.006081168473621107), (3615, 0.0), (3616, 0.004770434455128236), (3617, 0.0), (3618, 0.0), (3619, 0.0), (3620, 0.0), (3621, 0.004514055198365254), (3622, 0.007191493091334505), (3623, 0.0), (3624, 0.0), (3625, 0.0), (3626, 0.008097619861823753), (3627, 0.0), (3628, 0.004194985339175577), (3629, 0.0), (3630, 0.006622012840226858), (3631, 0.0), (3632, 0.003921098894900331), (3633, 0.0034357007889478587), (3634, 0.0), (3635, 0.0), (3636, 0.0), (3637, 0.0), (3638, 0.0), (3639, 0.0381677770480506), (3640, 0.0), (3641, 0.0037048948493501204), (3642, 0.0), (3643, 0.0), (3644, 0.010369945488940565), (3645, 0.01734420758124098), (3646, 0.009980128001824577), (3647, 0.0551321024799047), (3648, 0.010920700487622972), (3649, 0.004351927244161204), (3650, 0.08113898096039807), (3651, 0.0), (3652, 0.004238755859064549), (3653, 0.0), (3654, 0.007065826805764607), (3655, 0.005846922165097124), (3656, 0.0), (3657, 0.0), (3658, 0.026005204469187665), (3659, 0.0), (3660, 0.0), (3661, 0.0), (3662, 0.00383425157117858), (3663, 0.0), (3664, 0.0), (3665, 0.0038270430435188726), (3666, 0.0), (3667, 0.026256177069044317), (3668, 0.0), (3669, 0.0056936097648888325), (3670, 0.0), (3671, 0.00477517622210144), (3672, 0.0), (3673, 0.0038206360778599603), (3674, 0.003238211764645106), (3675, 0.0), (3676, 0.04839530928698882), (3677, 0.0), (3678, 0.015309564630243654), (3679, 0.0), (3680, 0.0), (3681, 0.011716882971102106), (3682, 0.0), (3683, 0.00392677622216013), (3684, 0.023299347207284566), (3685, 0.003763433334604309), (3686, 0.012547547729282304), (3687, 0.0), (3688, 0.00425064971415311), (3689, 0.0), (3690, 0.0), (3691, 0.0), (3692, 0.02020893581648811), (3693, 0.0), (3694, 0.0), (3695, 0.0), (3696, 0.0), (3697, 0.0), (3698, 0.03151593690467826), (3699, 0.0), (3700, 0.0), (3701, 0.0), (3702, 0.0), (3703, 0.0), (3704, 0.0), (3705, 0.030177634580524814), (3706, 0.0), (3707, 0.050518300007958004), (3708, 0.03605347980007449), (3709, 0.0), (3710, 0.0), (3711, 0.0), (3712, 0.024970580871648093), (3713, 0.0), (3714, 0.0), (3715, 0.0452435237497156), (3716, 0.009486209671166475), (3717, 0.0), (3718, 0.0), (3719, 0.0), (3720, 0.0), (3721, 0.008912645955643759), (3722, 0.036049541171686204), (3723, 0.0), (3724, 0.0), (3725, 0.0), (3726, 0.0), (3727, 0.0), (3728, 0.004102164085400772), (3729, 0.032013637419041445), (3730, 0.004193538610891766), (3731, 0.0), (3732, 0.0035740121537737226), (3733, 0.010960778673455894), (3734, 0.0), (3735, 0.004245006881787234), (3736, 0.07880417063887452), (3737, 0.0), (3738, 0.0), (3739, 0.0038783468355458603), (3740, 0.004854933261624131), (3741, 0.03627177404872613), (3742, 0.0), (3743, 0.0), (3744, 0.0), (3745, 0.007903244254998184), (3746, 0.0), (3747, 0.00709597507247602), (3748, 0.009132120345019342), (3749, 0.0), (3750, 0.0), (3751, 0.0), (3752, 0.0), (3753, 0.009723150506311552), (3754, 0.02621573224400064), (3755, 0.0033903850236740984), (3756, 0.0), (3757, 0.0), (3758, 0.012623534105686588), (3759, 0.004392046536020133), (3760, 0.0), (3761, 0.007513173898867756), (3762, 0.0), (3763, 0.03590213468167795), (3764, 0.007581381533358168), (3765, 0.003726393967556803), (3766, 0.0), (3767, 0.009695538488305407), (3768, 0.0), (3769, 0.0), (3770, 0.0), (3771, 0.0), (3772, 0.004365552363056557), (3773, 0.0), (3774, 0.0), (3775, 0.0), (3776, 0.0), (3777, 0.0), (3778, 0.023901731923482643), (3779, 0.0), (3780, 0.024050509896159603), (3781, 0.0), (3782, 0.03344751305934476), (3783, 0.019730892752683374), (3784, 0.0), (3785, 0.0), (3786, 0.0), (3787, 0.0), (3788, 0.0), (3789, 0.004530462185449836), (3790, 0.02349536793507704), (3791, 0.004377279860432822), (3792, 0.07046948787587537), (3793, 0.0), (3794, 0.0), (3795, 0.006009879248340091), (3796, 0.005305715474215454), (3797, 0.0), (3798, 0.006968905676578384), (3799, 0.0), (3800, 0.013925017979708305), (3801, 0.0), (3802, 0.0), (3803, 0.0197780820061908), (3804, 0.007494549494562386), (3805, 0.0038250158785611884), (3806, 0.0), (3807, 0.0), (3808, 0.011718805195928862), (3809, 0.006883560415211948), (3810, 0.0), (3811, 0.06456236920701121), (3812, 0.003904545407792989), (3813, 0.0), (3814, 0.0), (3815, 0.0), (3816, 0.0), (3817, 0.0), (3818, 0.03477086400875715), (3819, 0.021726487087383072), (3820, 0.0043368752110954645), (3821, 0.03859570841929526), (3822, 0.004307346752299419), (3823, 0.0), (3824, 0.0036613957501203317), (3825, 0.0), (3826, 0.006458988961833647), (3827, 0.0), (3828, 0.0), (3829, 0.006245238485612574), (3830, 0.0), (3831, 0.0), (3832, 0.009366328166955405), (3833, 0.0), (3834, 0.007188539333632687), (3835, 0.00404635674761098), (3836, 0.003741301501139554), (3837, 0.00421085463062823), (3838, 0.0), (3839, 0.009735286060420307), (3840, 0.0), (3841, 0.0), (3842, 0.024435553205915055), (3843, 0.0), (3844, 0.004807182347673585), (3845, 0.011009029317561592), (3846, 0.0), (3847, 0.0), (3848, 0.0), (3849, 0.02339551334181697), (3850, 0.0), (3851, 0.012084488568259139), (3852, 0.0), (3853, 0.0), (3854, 0.0), (3855, 0.06794636644987419), (3856, 0.009134425880701952), (3857, 0.0), (3858, 0.05390104430559427), (3859, 0.016337972085960887), (3860, 0.0), (3861, 0.0033968350476742022), (3862, 0.0), (3863, 0.0), (3864, 0.003620165188744543), (3865, 0.0034211371247710233), (3866, 0.01216627525080674), (3867, 0.00763223864382264), (3868, 0.010099022020892835), (3869, 0.0), (3870, 0.0040104930732726704), (3871, 0.0), (3872, 0.0), (3873, 0.0), (3874, 0.0), (3875, 0.008578880776600307), (3876, 0.0), (3877, 0.025079228602262214), (3878, 0.04104039008321336), (3879, 0.03254167382404638), (3880, 0.0), (3881, 0.0), (3882, 0.039641634429070136), (3883, 0.0), (3884, 0.03736274023565152), (3885, 0.0034897757573469066), (3886, 0.003684139777299284), (3887, 0.0), (3888, 0.0037956945426144526), (3889, 0.011446700045631322), (3890, 0.01392255159949737), (3891, 0.029570626990308876), (3892, 0.0049868896772862275), (3893, 0.007257982125484801), (3894, 0.028963750872751964), (3895, 0.005881321111697543), (3896, 0.033809128098720734), (3897, 0.06621419281141877), (3898, 0.027751074394766154), (3899, 0.010204384580117512), (3900, 0.0), (3901, 0.0), (3902, 0.0), (3903, 0.0), (3904, 0.007186135823298622), (3905, 0.004057832366341964), (3906, 0.07844201863719341), (3907, 0.0323966452250485), (3908, 0.0), (3909, 0.003579121064828509), (3910, 0.0), (3911, 0.0), (3912, 0.0039192080183511335), (3913, 0.006202505219307327), (3914, 0.006715953714330826), (3915, 0.007297429757177143), (3916, 0.0032688032048999675), (3917, 0.0), (3918, 0.0), (3919, 0.011033439913747684), (3920, 0.0), (3921, 0.00442042970571758), (3922, 0.004735654337649274), (3923, 0.003524837866898728), (3924, 0.0), (3925, 0.010000296397582806), (3926, 0.08020570948333217), (3927, 0.018748694861418762), (3928, 0.0), (3929, 0.026995028856728536), (3930, 0.003971508210946982), (3931, 0.004487557809238692), (3932, 0.006196675111138299), (3933, 0.009408088607956236), (3934, 0.00814735368096285), (3935, 0.0), (3936, 0.01335217497402193), (3937, 0.0), (3938, 0.0), (3939, 0.0), (3940, 0.0), (3941, 0.0035948917732852277), (3942, 0.0), (3943, 0.004123431595349228), (3944, 0.0), (3945, 0.0), (3946, 0.0), (3947, 0.0), (3948, 0.027608559424206196), (3949, 0.005273300179738161), (3950, 0.015997048587039448), (3951, 0.0), (3952, 0.012103922824790666), (3953, 0.0), (3954, 0.006340775289999205), (3955, 0.0), (3956, 0.0), (3957, 0.04091252245478118), (3958, 0.0), (3959, 0.0), (3960, 0.03540039871709388), (3961, 0.0), (3962, 0.00430841412555424), (3963, 0.0), (3964, 0.046661823961026666), (3965, 0.0036637078192820805), (3966, 0.0), (3967, 0.00848146305645839), (3968, 0.0), (3969, 0.008060066658113115), (3970, 0.0), (3971, 0.003093653413262604), (3972, 0.0), (3973, 0.06539697870373101), (3974, 0.0), (3975, 0.0), (3976, 0.0), (3977, 0.0), (3978, 0.0), (3979, 0.0), (3980, 0.005389759212918444), (3981, 0.0), (3982, 0.0), (3983, 0.0), (3984, 0.004034399510694986), (3985, 0.0), (3986, 0.0), (3987, 0.0), (3988, 0.00482860333055074), (3989, 0.0), (3990, 0.0), (3991, 0.0), (3992, 0.004336321385444324), (3993, 0.0), (3994, 0.0), (3995, 0.0), (3996, 0.004573939399894139), (3997, 0.0), (3998, 0.003695790747609739), (3999, 0.008272584302878267), (4000, 0.10391263143309915), (4001, 0.0038426303459202713), (4002, 0.0), (4003, 0.0042376044335337825), (4004, 0.023336068958953213), (4005, 0.0), (4006, 0.0), (4007, 0.049855394731880824), (4008, 0.003981221769452798), (4009, 0.0), (4010, 0.03515063633378272), (4011, 0.006309682209021626), (4012, 0.013581886170985272), (4013, 0.024523736648924745), (4014, 0.0), (4015, 0.0), (4016, 0.0), (4017, 0.0), (4018, 0.012265660558549513), (4019, 0.0), (4020, 0.05115733896024042), (4021, 0.06157156603016297), (4022, 0.02619740927634351), (4023, 0.00453031369795547), (4024, 0.0), (4025, 0.010949884904578659), (4026, 0.008453144085365644), (4027, 0.044117861953191485), (4028, 0.0), (4029, 0.0037594216019038416), (4030, 0.0), (4031, 0.036776301334925265), (4032, 0.0), (4033, 0.0), (4034, 0.0346425535785027), (4035, 0.13384393056388444), (4036, 0.0037482857345460187), (4037, 0.023451897824360343), (4038, 0.029532272525097807), (4039, 0.020392939121526697), (4040, 0.0049501604060363386), (4041, 0.018984048498149955), (4042, 0.0), (4043, 0.0), (4044, 0.0), (4045, 0.032988877934388906), (4046, 0.03423196213936205), (4047, 0.0), (4048, 0.0), (4049, 0.0038933004568036792), (4050, 0.0074216512057900105), (4051, 0.011775295351595938), (4052, 0.004054374648925838), (4053, 0.061757912336906785), (4054, 0.004067686395584853), (4055, 0.0), (4056, 0.006682187846260651), (4057, 0.0), (4058, 0.004771571499834247), (4059, 0.0), (4060, 0.006674939201421125), (4061, 0.011528804700009965), (4062, 0.03782094223626588), (4063, 0.0), (4064, 0.011708698277569637), (4065, 0.0), (4066, 0.0033688928320409614), (4067, 0.0), (4068, 0.0), (4069, 0.0), (4070, 0.0), (4071, 0.0036296955974718615), (4072, 0.0), (4073, 0.010287362276244515), (4074, 0.0), (4075, 0.036435471719568964), (4076, 0.0), (4077, 0.0), (4078, 0.0), (4079, 0.04153647948482042), (4080, 0.006023987087224454), (4081, 0.0), (4082, 0.009491049219749406), (4083, 0.0), (4084, 0.013571825221773994), (4085, 0.0), (4086, 0.004151162163586555), (4087, 0.03394477519759141), (4088, 0.0), (4089, 0.0), (4090, 0.0), (4091, 0.0), (4092, 0.0), (4093, 0.00392411370091093), (4094, 0.008222470278359291), (4095, 0.0), (4096, 0.0), (4097, 0.03389044237213822), (4098, 0.0), (4099, 0.0038351591336025477), (4100, 0.0), (4101, 0.007332888570232346), (4102, 0.004870768444128998), (4103, 0.031394812780597574), (4104, 0.033386496607545994), (4105, 0.09101445792456053), (4106, 0.0), (4107, 0.0), (4108, 0.0042925046747482555), (4109, 0.022399970221839673), (4110, 0.0), (4111, 0.03848414064333452), (4112, 0.0037444635777558574), (4113, 0.004260870710197438), (4114, 0.0), (4115, 0.005176135022570597), (4116, 0.025086950375318808), (4117, 0.012048377335344935), (4118, 0.004136840318284332), (4119, 0.0), (4120, 0.0), (4121, 0.004363137154476568), (4122, 0.0), (4123, 0.0), (4124, 0.0), (4125, 0.00398433338966767), (4126, 0.05023217223802744), (4127, 0.004656498009748999), (4128, 0.0), (4129, 0.0), (4130, 0.0), (4131, 0.004105193502900967), (4132, 0.024332182906023278), (4133, 0.0), (4134, 0.0), (4135, 0.003890584514225956), (4136, 0.006998880114812621), (4137, 0.0), (4138, 0.007446968154002193), (4139, 0.006487752205182786), (4140, 0.029333402861418542), (4141, 0.005990252826331746), (4142, 0.0), (4143, 0.0), (4144, 0.005649026015061827), (4145, 0.007892043029437197), (4146, 0.03197240321121462), (4147, 0.032689613954514536), (4148, 0.020838042131726478), (4149, 0.007756731507556197), (4150, 0.0), (4151, 0.0), (4152, 0.0), (4153, 0.0), (4154, 0.0), (4155, 0.030678796711420073), (4156, 0.009251987444246861), (4157, 0.018392875120933586), (4158, 0.0), (4159, 0.0), (4160, 0.0), (4161, 0.0355285066720869), (4162, 0.0), (4163, 0.0), (4164, 0.0), (4165, 0.017308668661444253), (4166, 0.013626202448507947), (4167, 0.0), (4168, 0.0), (4169, 0.0), (4170, 0.0), (4171, 0.0), (4172, 0.0), (4173, 0.004104407638342777), (4174, 0.02080644022797494), (4175, 0.007153948499405894), (4176, 0.0), (4177, 0.0), (4178, 0.0241617440153951), (4179, 0.0), (4180, 0.004053893472153349), (4181, 0.0), (4182, 0.002910439953106154), (4183, 0.006516286452207021), (4184, 0.0038518268361226508), (4185, 0.0), (4186, 0.003511613572275543), (4187, 0.0), (4188, 0.0), (4189, 0.019198822711302313), (4190, 0.004575180116769673), (4191, 0.02242429405758511), (4192, 0.010220693887381387), (4193, 0.0), (4194, 0.0), (4195, 0.0038338412241299817), (4196, 0.0), (4197, 0.0810515251005573), (4198, 0.013936659524990666), (4199, 0.004759029342955183), (4200, 0.06524446672342711), (4201, 0.0), (4202, 0.0), (4203, 0.004446684931788715), (4204, 0.004565886098942843), (4205, 0.0), (4206, 0.003643920648532684), (4207, 0.004163265937866047), (4208, 0.03907218839888904), (4209, 0.0), (4210, 0.0038910492554219277), (4211, 0.0), (4212, 0.042351567351810476), (4213, 0.003647783742330755), (4214, 0.0038857132435342894), (4215, 0.0), (4216, 0.0), (4217, 0.0375698788689762), (4218, 0.0037523945976744412), (4219, 0.0), (4220, 0.0), (4221, 0.0), (4222, 0.014155318534270699), (4223, 0.01617827949417388), (4224, 0.0), (4225, 0.0), (4226, 0.05235511200006263), (4227, 0.0), (4228, 0.0), (4229, 0.006494904042015573), (4230, 0.0), (4231, 0.0), (4232, 0.0400092769076491), (4233, 0.00812622313117558), (4234, 0.0037423083754667447), (4235, 0.0), (4236, 0.0), (4237, 0.0034152647774617433), (4238, 0.0), (4239, 0.0052998980729910645), (4240, 0.0), (4241, 0.0), (4242, 0.0), (4243, 0.007648476929764456), (4244, 0.0), (4245, 0.0), (4246, 0.0036322043257303377), (4247, 0.0), (4248, 0.0), (4249, 0.023742299130578733), (4250, 0.0), (4251, 0.0), (4252, 0.06667085357357579), (4253, 0.0), (4254, 0.0036019868283134354), (4255, 0.0), (4256, 0.03284083807811185), (4257, 0.0036137841840326364), (4258, 0.0041797794920694475), (4259, 0.06950793740568681), (4260, 0.004054603842157569), (4261, 0.0), (4262, 0.0), (4263, 0.011625009278829108), (4264, 0.0), (4265, 0.0), (4266, 0.0), (4267, 0.0), (4268, 0.0), (4269, 0.0), (4270, 0.0), (4271, 0.0), (4272, 0.0036393310426614464), (4273, 0.0), (4274, 0.04973198139550056), (4275, 0.0), (4276, 0.0), (4277, 0.0), (4278, 0.0), (4279, 0.0), (4280, 0.0), (4281, 0.0), (4282, 0.0), (4283, 0.0), (4284, 0.0), (4285, 0.07356313880372341), (4286, 0.0), (4287, 0.010904284128097103), (4288, 0.0), (4289, 0.0), (4290, 0.0), (4291, 0.0038307944832798924), (4292, 0.029420342111991793), (4293, 0.0042807004383548135), (4294, 0.0), (4295, 0.019721371896374087), (4296, 0.0), (4297, 0.0607443864439512), (4298, 0.0), (4299, 0.0), (4300, 0.003866158018847424), (4301, 0.0), (4302, 0.0), (4303, 0.003683744522104309), (4304, 0.0034429955253062624), (4305, 0.003563774083071486), (4306, 0.008306216988268302), (4307, 0.0), (4308, 0.004206906519823271), (4309, 0.0065574473020428336), (4310, 0.0), (4311, 0.008575095099315262), (4312, 0.0), (4313, 0.0), (4314, 0.08400859403434323), (4315, 0.011239922156400102), (4316, 0.0), (4317, 0.03454434407576588), (4318, 0.03299597562791497), (4319, 0.010848475481782515), (4320, 0.006701429883017649), (4321, 0.03539891201767245), (4322, 0.006151508441528245), (4323, 0.00404072102722037), (4324, 0.0042527125595910814), (4325, 0.0035581790096113745), (4326, 0.0), (4327, 0.05709511806417083), (4328, 0.0), (4329, 0.1425358987439257), (4330, 0.0), (4331, 0.0), (4332, 0.004161876655801028), (4333, 0.015119953685374022), (4334, 0.0), (4335, 0.07550384425948109), (4336, 0.0), (4337, 0.03565643281258891), (4338, 0.0), (4339, 0.0), (4340, 0.0), (4341, 0.004550527031976955), (4342, 0.0), (4343, 0.019923774395008132), (4344, 0.0), (4345, 0.0), (4346, 0.004450594836920429), (4347, 0.0082101553763913), (4348, 0.0), (4349, 0.0), (4350, 0.006055667884276625), (4351, 0.011318788933679373), (4352, 0.0), (4353, 0.0033314393946211112), (4354, 0.0), (4355, 0.0), (4356, 0.02925814579244123), (4357, 0.01125085057675246), (4358, 0.003384581368479339), (4359, 0.030447305890926202), (4360, 0.0), (4361, 0.0), (4362, 0.026072280136799585), (4363, 0.0), (4364, 0.031255495906622084), (4365, 0.0), (4366, 0.016876312313778036), (4367, 0.0037174962054280277), (4368, 0.0), (4369, 0.007729484418369771), (4370, 0.004097072027337031), (4371, 0.037598864056110556), (4372, 0.0), (4373, 0.01732222922110104), (4374, 0.0), (4375, 0.0732696258943944), (4376, 0.032014265073619264), (4377, 0.0), (4378, 0.0), (4379, 0.0), (4380, 0.0), (4381, 0.00651331540024036), (4382, 0.0037094433735174416), (4383, 0.0), (4384, 0.0), (4385, 0.0), (4386, 0.0), (4387, 0.0), (4388, 0.003944971849385467), (4389, 0.0), (4390, 0.0), (4391, 0.0), (4392, 0.0), (4393, 0.0), (4394, 0.00380668308936321), (4395, 0.00373199913876739), (4396, 0.0), (4397, 0.0), (4398, 0.0), (4399, 0.0), (4400, 0.0), (4401, 0.0), (4402, 0.0), (4403, 0.0), (4404, 0.003919275062371077), (4405, 0.0), (4406, 0.0), (4407, 0.0), (4408, 0.012672146605134655), (4409, 0.0), (4410, 0.0), (4411, 0.005755743065785524), (4412, 0.07315692541194438), (4413, 0.004159519904375226), (4414, 0.0), (4415, 0.0), (4416, 0.0), (4417, 0.036618515811831565), (4418, 0.017647563244401376), (4419, 0.0), (4420, 0.004045058634972123), (4421, 0.004004512908313382), (4422, 0.010907163963978284), (4423, 0.0), (4424, 0.0), (4425, 0.0), (4426, 0.026285238175266994), (4427, 0.0), (4428, 0.02965054848327118), (4429, 0.0), (4430, 0.0), (4431, 0.0), (4432, 0.0), (4433, 0.03228759501200375), (4434, 0.0036748413868962887), (4435, 0.0), (4436, 0.0), (4437, 0.016395441011254813), (4438, 0.006441155150954198), (4439, 0.0), (4440, 0.004905928615354446), (4441, 0.0), (4442, 0.010237590948532785), (4443, 0.0), (4444, 0.0), (4445, 0.0), (4446, 0.00420821924324012), (4447, 0.0034803676925304087), (4448, 0.004006250827809977), (4449, 0.0), (4450, 0.0), (4451, 0.0045261527248989415), (4452, 0.0043390103764618234), (4453, 0.004283241194943284), (4454, 0.004425723514113473), (4455, 0.0), (4456, 0.0), (4457, 0.0349327755171988), (4458, 0.008012844945963136), (4459, 0.0), (4460, 0.011964018909499082), (4461, 0.0), (4462, 0.0), (4463, 0.011715597870096305), (4464, 0.0), (4465, 0.0), (4466, 0.0), (4467, 0.0), (4468, 0.0), (4469, 0.0), (4470, 0.0), (4471, 0.0), (4472, 0.0), (4473, 0.026953038225950913), (4474, 0.03287829429738264), (4475, 0.0), (4476, 0.0), (4477, 0.0), (4478, 0.0), (4479, 0.006187819709308759), (4480, 0.005401360643500913), (4481, 0.0), (4482, 0.0), (4483, 0.012590688905043541), (4484, 0.005114703762720473), (4485, 0.03160797365388082), (4486, 0.027827251563158448), (4487, 0.0), (4488, 0.0), (4489, 0.004068619076726207), (4490, 0.0), (4491, 0.0), (4492, 0.004120934709847931), (4493, 0.03611738069680035), (4494, 0.0), (4495, 0.0), (4496, 0.025874258026030536), (4497, 0.0), (4498, 0.011793636643450229), (4499, 0.0), (4500, 0.0), (4501, 0.0), (4502, 0.0285194344847476), (4503, 0.0), (4504, 0.02666121388453874), (4505, 0.0), (4506, 0.004580037372602524), (4507, 0.00440627435531339), (4508, 0.0), (4509, 0.0), (4510, 0.0), (4511, 0.0310575677677515), (4512, 0.0), (4513, 0.0), (4514, 0.012766607215226159), (4515, 0.0), (4516, 0.0), (4517, 0.0), (4518, 0.0), (4519, 0.0030776155904448568), (4520, 0.0), (4521, 0.0), (4522, 0.0041805643061333594), (4523, 0.0), (4524, 0.03726280794502941), (4525, 0.0), (4526, 0.0), (4527, 0.0), (4528, 0.0), (4529, 0.0), (4530, 0.05259125525826037), (4531, 0.020800740887158702), (4532, 0.0), (4533, 0.0), (4534, 0.0), (4535, 0.0), (4536, 0.006418799984338348), (4537, 0.004993586600875291), (4538, 0.0), (4539, 0.0), (4540, 0.0), (4541, 0.0), (4542, 0.003792739964018199), (4543, 0.0), (4544, 0.0), (4545, 0.0), (4546, 0.0), (4547, 0.03602244997390729), (4548, 0.0), (4549, 0.034639894416322384), (4550, 0.0), (4551, 0.0), (4552, 0.003976305253210018), (4553, 0.0), (4554, 0.0), (4555, 0.06296927866741113), (4556, 0.012003850375018076), (4557, 0.004069243386937716), (4558, 0.030721030895877004), (4559, 0.0), (4560, 0.00407961419378354), (4561, 0.0), (4562, 0.04355721060691802), (4563, 0.0), (4564, 0.0036937007503638226), (4565, 0.0), (4566, 0.007082401961934597), (4567, 0.0), (4568, 0.0), (4569, 0.0), (4570, 0.004585728556172461), (4571, 0.006095765464187452), (4572, 0.0), (4573, 0.0), (4574, 0.0), (4575, 0.007108630645363473), (4576, 0.0), (4577, 0.0035222963946176223), (4578, 0.0), (4579, 0.0), (4580, 0.011777930747763076), (4581, 0.0), (4582, 0.0), (4583, 0.0), (4584, 0.0), (4585, 0.0), (4586, 0.0), (4587, 0.0), (4588, 0.0), (4589, 0.02448587759940365), (4590, 0.018732564439014367), (4591, 0.0), (4592, 0.003824293190242952), (4593, 0.0), (4594, 0.007913492537636685), (4595, 0.0), (4596, 0.01992375125967449), (4597, 0.0), (4598, 0.016412273770734412), (4599, 0.01650731560682802), (4600, 0.003510638461054942), (4601, 0.0), (4602, 0.0), (4603, 0.0035783790543356627), (4604, 0.0), (4605, 0.007462782594620415), (4606, 0.0), (4607, 0.0), (4608, 0.0), (4609, 0.003862542842199551), (4610, 0.0032195745662348665), (4611, 0.0), (4612, 0.0), (4613, 0.0), (4614, 0.0), (4615, 0.0), (4616, 0.0), (4617, 0.0), (4618, 0.0), (4619, 0.0), (4620, 0.0), (4621, 0.04707592729770524), (4622, 0.004072028102406252), (4623, 0.0), (4624, 0.034630656255643606), (4625, 0.006975898940521157), (4626, 0.0), (4627, 0.0032916861410131524), (4628, 0.014853571800761559), (4629, 0.0), (4630, 0.0), (4631, 0.00465849618032524), (4632, 0.007920724696490085), (4633, 0.0045083468460056335), (4634, 0.0), (4635, 0.0), (4636, 0.003235041277951709), (4637, 0.0), (4638, 0.0), (4639, 0.0), (4640, 0.0), (4641, 0.0), (4642, 0.0), (4643, 0.0), (4644, 0.0), (4645, 0.0), (4646, 0.0), (4647, 0.003468897771823432), (4648, 0.003967353379621528), (4649, 0.028676574204833185), (4650, 0.004420951788504818), (4651, 0.0), (4652, 0.008067488914148446), (4653, 0.0), (4654, 0.0), (4655, 0.004060508672037744), (4656, 0.0), (4657, 0.007225755250793364), (4658, 0.06636640817587357), (4659, 0.03369635973665127), (4660, 0.0), (4661, 0.0), (4662, 0.019859237446773363), (4663, 0.0), (4664, 0.0288207076779034), (4665, 0.03097009015016528), (4666, 0.0), (4667, 0.0289408530589325), (4668, 0.0), (4669, 0.0), (4670, 0.0), (4671, 0.0), (4672, 0.05759354506295041), (4673, 0.0), (4674, 0.0), (4675, 0.0038217493388047986), (4676, 0.0), (4677, 0.0), (4678, 0.0), (4679, 0.0), (4680, 0.0), (4681, 0.0), (4682, 0.0), (4683, 0.0), (4684, 0.0), (4685, 0.027120496984573157), (4686, 0.0), (4687, 0.0), (4688, 0.010480105284543087), (4689, 0.0), (4690, 0.0035975700189273692), (4691, 0.0), (4692, 0.0), (4693, 0.0), (4694, 0.0), (4695, 0.0), (4696, 0.0), (4697, 0.0), (4698, 0.0), (4699, 0.0), (4700, 0.005194252905833169), (4701, 0.0), (4702, 0.010717709069844419), (4703, 0.022421718607605445), (4704, 0.0), (4705, 0.0), (4706, 0.004261947531414669), (4707, 0.0), (4708, 0.0), (4709, 0.0), (4710, 0.0), (4711, 0.004527655739195241), (4712, 0.006052276151432334), (4713, 0.007777424878648854), (4714, 0.0), (4715, 0.0), (4716, 0.0), (4717, 0.0045296882636336406), (4718, 0.007535004620409973), (4719, 0.02044204318949796), (4720, 0.036974901715289096), (4721, 0.004774476747166487), (4722, 0.0), (4723, 0.0), (4724, 0.0), (4725, 0.004682942020325365), (4726, 0.015307973073287386), (4727, 0.0), (4728, 0.0), (4729, 0.0), (4730, 0.0), (4731, 0.0), (4732, 0.0), (4733, 0.0), (4734, 0.004145719119226486), (4735, 0.0), (4736, 0.0), (4737, 0.004349669599021939), (4738, 0.010549874489083774), (4739, 0.0), (4740, 0.0), (4741, 0.02904393867898434), (4742, 0.03066745200842685), (4743, 0.0), (4744, 0.0031098093411993425), (4745, 0.026092361285416046), (4746, 0.0043510523061983915), (4747, 0.0), (4748, 0.0), (4749, 0.041906188579856764), (4750, 0.0), (4751, 0.0), (4752, 0.013444524468642102), (4753, 0.0), (4754, 0.0), (4755, 0.0), (4756, 0.036393052904329676), (4757, 0.0), (4758, 0.0), (4759, 0.0)]\n"
          ]
        }
      ]
    },
    {
      "cell_type": "code",
      "source": [
        "len(reco_score)"
      ],
      "metadata": {
        "colab": {
          "base_uri": "https://localhost:8080/"
        },
        "id": "bmouXQ5Inqh7",
        "outputId": "aca8627d-4d64-4b26-9f0b-768794e3a5b9"
      },
      "execution_count": 28,
      "outputs": [
        {
          "output_type": "execute_result",
          "data": {
            "text/plain": [
              "4760"
            ]
          },
          "metadata": {},
          "execution_count": 28
        }
      ]
    },
    {
      "cell_type": "code",
      "source": [
        "#  sort the movies based on their similarity_score\n",
        "sorted_similar_movies=sorted(reco_score , key=lambda x:x[1], reverse=True)\n",
        "print(sorted_similar_movies)"
      ],
      "metadata": {
        "colab": {
          "base_uri": "https://localhost:8080/"
        },
        "id": "ZenAjwc1nqlX",
        "outputId": "0c275e2e-4475-41ca-eb9d-01aea1b3ed81"
      },
      "execution_count": 29,
      "outputs": [
        {
          "output_type": "stream",
          "name": "stdout",
          "text": [
            "[(2693, 1.0000000000000002), (1003, 0.15591747285087973), (2413, 0.155881555195158), (3519, 0.15283272290223804), (4329, 0.1425358987439257), (4035, 0.13384393056388444), (1342, 0.12939720820962428), (606, 0.12733476929367357), (735, 0.12328051364864262), (2032, 0.12228898745236264), (370, 0.11800453790197582), (204, 0.11470725465228657), (531, 0.1130023404133785), (2428, 0.11202166979823959), (349, 0.11077282246730212), (318, 0.10989675224467857), (2893, 0.10596005767254159), (4000, 0.10391263143309915), (2033, 0.09902326485484106), (3073, 0.09720556845774275), (3182, 0.09703215981146861), (1479, 0.09519624911595247), (4105, 0.09101445792456053), (890, 0.09052205266257163), (1633, 0.09047440449834629), (211, 0.09046849635082695), (2518, 0.09039918976844127), (1640, 0.09025429820199157), (970, 0.08900322621516839), (1542, 0.0881097610043251), (3207, 0.08799799183499322), (1210, 0.08767467559137404), (1816, 0.08586377405152608), (225, 0.08410591863171803), (4314, 0.08400859403434323), (1956, 0.08366587453675216), (1201, 0.08282283901836837), (2558, 0.0826296963512761), (1536, 0.0820252816913384), (1681, 0.08167513721090072), (2790, 0.08149486207374937), (2704, 0.08126626883346919), (3650, 0.08113898096039807), (4197, 0.0810515251005573), (3926, 0.08020570948333217), (633, 0.07921749899982462), (3315, 0.07901694623403978), (471, 0.07881934680426292), (3736, 0.07880417063887452), (3906, 0.07844201863719341), (2699, 0.0771685613621167), (385, 0.07670989113292082), (842, 0.07651528219245571), (4, 0.07613844412090517), (4335, 0.07550384425948109), (2834, 0.07511985930918053), (1980, 0.07495073224699851), (2919, 0.07454628113085435), (598, 0.07428395050008266), (1334, 0.07413722646024584), (4285, 0.07356313880372341), (1985, 0.07343499293895348), (697, 0.07331153184598667), (4375, 0.0732696258943944), (1002, 0.0732152144514334), (4412, 0.07315692541194438), (2542, 0.07223883811902826), (1321, 0.07201885090417941), (806, 0.07197527480650585), (1073, 0.07142757419621427), (2723, 0.07083742229583039), (3511, 0.07071539721206971), (2076, 0.07047757416347292), (3792, 0.07046948787587537), (2798, 0.07024016555851545), (4259, 0.06950793740568681), (3175, 0.06946369663337516), (362, 0.06908967957839238), (1626, 0.06886143574247637), (2369, 0.06883077083659167), (363, 0.0683787472508032), (3098, 0.0679985037921311), (3855, 0.06794636644987419), (42, 0.06780349260332219), (2060, 0.06771707416305225), (2538, 0.06738123049719762), (2557, 0.06726574416042211), (995, 0.06701864649992556), (4252, 0.06667085357357579), (695, 0.06646508901034011), (361, 0.06642587109675159), (1935, 0.06638125839560577), (4658, 0.06636640817587357), (103, 0.06635085222820457), (3897, 0.06621419281141877), (3259, 0.06599420374864418), (3973, 0.06539697870373101), (4200, 0.06524446672342711), (3508, 0.06523528984832566), (828, 0.06521115263604427), (2098, 0.06459350092675425), (3811, 0.06456236920701121), (3375, 0.06439822070082246), (2523, 0.06427132155784421), (2978, 0.06426054803950557), (3169, 0.06415084193148465), (961, 0.0638260700259378), (1157, 0.06358028294455599), (604, 0.06348835326705253), (2143, 0.06337739283460792), (713, 0.06299704303830025), (4555, 0.06296927866741113), (3282, 0.06289620351895883), (3370, 0.06268147426523392), (792, 0.06248359521521673), (3211, 0.06247852730742117), (140, 0.061871184199275404), (4053, 0.061757912336906785), (4021, 0.06157156603016297), (758, 0.06101942472750558), (4297, 0.0607443864439512), (520, 0.0605463859543419), (210, 0.06039260748663164), (1355, 0.0601529849169951), (2637, 0.06007592676746764), (1284, 0.06005159928864609), (2383, 0.059431059612055935), (1420, 0.05884347115900802), (506, 0.05883390825797233), (216, 0.05809443128730901), (1430, 0.05807009482652505), (580, 0.05804769026916794), (1630, 0.05785480657526672), (4672, 0.05759354506295041), (147, 0.0571441696720727), (4327, 0.05709511806417083), (1798, 0.05701724229509532), (3443, 0.05680070720876061), (205, 0.056621444650957885), (209, 0.0560533860352609), (1601, 0.05554457007660644), (3610, 0.05551560966478341), (2227, 0.055288037831193224), (3647, 0.0551321024799047), (3516, 0.05398275423303515), (1678, 0.05392672329261444), (3858, 0.05390104430559427), (1538, 0.053317916511707246), (2500, 0.053267420628829165), (3166, 0.052958194142594915), (1181, 0.052757086178933627), (4530, 0.05259125525826037), (876, 0.05252957472994212), (3499, 0.052508917974067634), (3161, 0.0524098058059312), (4226, 0.05235511200006263), (2992, 0.0522991807015757), (2225, 0.05229128741337727), (1293, 0.051686755949527714), (3577, 0.051633789229886116), (1482, 0.05162022639633211), (1296, 0.05132912005476713), (4020, 0.05115733896024042), (3598, 0.05114357538817576), (2321, 0.05099642581217109), (154, 0.050940690543009794), (157, 0.05092660765058526), (130, 0.05087151868816758), (1832, 0.050693905172447734), (3707, 0.050518300007958004), (2187, 0.05038865676494657), (4126, 0.05023217223802744), (1191, 0.05013544956451095), (4007, 0.049855394731880824), (2429, 0.04982563780919334), (411, 0.049812351892970716), (4274, 0.04973198139550056), (3271, 0.049288777297266884), (748, 0.04922883511549237), (1187, 0.049088099761656775), (447, 0.04903191899994174), (420, 0.04844248265922041), (1951, 0.048398215176374576), (3676, 0.04839530928698882), (2229, 0.04814334985083786), (790, 0.048108932151678246), (3001, 0.04783781796144086), (2360, 0.04757471513166832), (1254, 0.04754760629526779), (2149, 0.047438864621261824), (3496, 0.04712716843115175), (4621, 0.04707592729770524), (1833, 0.04676049982662393), (3964, 0.046661823961026666), (935, 0.04616787205259447), (1824, 0.045952288976276574), (3066, 0.045923997272902674), (1970, 0.045900037226530424), (3599, 0.045841592013780505), (1864, 0.04573186278474984), (1806, 0.04561308061457111), (894, 0.04558918829930125), (621, 0.04547792151903156), (1104, 0.04543643823545366), (2258, 0.04530528964578401), (3715, 0.0452435237497156), (749, 0.0450771751532707), (2037, 0.04500236142912325), (2123, 0.044968307010264795), (1238, 0.04482279925949819), (2776, 0.04469852377618593), (3143, 0.044159269763714086), (4027, 0.044117861953191485), (1802, 0.04409302560100179), (2559, 0.04383536706427294), (2564, 0.043558726448274354), (4562, 0.04355721060691802), (590, 0.04352100233864739), (3096, 0.04345921076773222), (1762, 0.04331896941691099), (1075, 0.043254755049450186), (671, 0.04314189863980654), (2945, 0.042976826853368864), (1313, 0.042943820980813396), (2890, 0.042848637607710474), (1023, 0.0426520341354064), (2234, 0.042625156168360254), (2219, 0.042498897186668), (228, 0.04243898362251694), (4212, 0.042351567351810476), (1539, 0.042280248674371836), (1563, 0.04226017714986023), (1722, 0.042190927786542966), (1300, 0.04215833991649385), (3099, 0.04200106568427389), (4749, 0.041906188579856764), (2409, 0.0418155189853981), (1359, 0.041798088642815354), (3417, 0.041791266872332346), (2110, 0.04177968469387243), (1871, 0.041653969337286226), (2319, 0.04162462062974777), (223, 0.04156870704582215), (4079, 0.04153647948482042), (1739, 0.04138020856469517), (687, 0.04125641243895447), (3202, 0.04125529010206236), (711, 0.041184501939888284), (3243, 0.04114526778677227), (2547, 0.041119539864432474), (212, 0.04108776598822239), (3878, 0.04104039008321336), (1680, 0.04091433517503964), (3957, 0.04091252245478118), (2913, 0.040894477074751974), (3531, 0.0405240730319468), (49, 0.04049741028376845), (2646, 0.040359358737842105), (224, 0.04035131857373065), (612, 0.0402864965613111), (1991, 0.04026251114336186), (889, 0.04018663095835595), (2681, 0.04016763372578403), (653, 0.040041172779527234), (4232, 0.0400092769076491), (1744, 0.03985777177697507), (2260, 0.039779357817123724), (1944, 0.03977495028548999), (2940, 0.039745783960272604), (1437, 0.03973001937850052), (1363, 0.039651454043498284), (1707, 0.039649902313534525), (138, 0.03964968067988208), (3882, 0.039641634429070136), (1560, 0.03951061223308382), (161, 0.03946358716925204), (1026, 0.03931791439472857), (113, 0.03925843784882933), (4208, 0.03907218839888904), (1778, 0.03891586489781336), (1709, 0.03878718085478333), (1047, 0.03874343210211999), (2447, 0.03863829557988788), (3821, 0.03859570841929526), (3565, 0.03849645959223306), (4111, 0.03848414064333452), (3532, 0.03839731083964671), (2811, 0.03839615558278623), (1382, 0.03837869902539832), (852, 0.038328282936058805), (356, 0.03821931630531955), (3639, 0.0381677770480506), (373, 0.037973518631337286), (698, 0.03790954961947268), (3448, 0.03787986706193648), (2402, 0.03783735174963986), (4062, 0.03782094223626588), (1485, 0.03769483319487537), (4371, 0.037598864056110556), (4217, 0.0375698788689762), (1741, 0.03748676953299657), (3561, 0.03744701448600353), (3884, 0.03736274023565152), (3539, 0.03735447321235871), (2058, 0.03733719697518572), (944, 0.03733076122037644), (1791, 0.03732685169144122), (1461, 0.037273746786343015), (4524, 0.03726280794502941), (2147, 0.03721600787742467), (3442, 0.03719093623973989), (723, 0.03718936542893768), (256, 0.03708246226943038), (4720, 0.036974901715289096), (4031, 0.036776301334925265), (2202, 0.036645336946386414), (4417, 0.036618515811831565), (707, 0.036609199024868054), (1849, 0.03660774194863137), (586, 0.036523173542137646), (1286, 0.03645137832505368), (4075, 0.036435471719568964), (4756, 0.036393052904329676), (3326, 0.03637314250579766), (3741, 0.03627177404872613), (2456, 0.03618802578170108), (783, 0.03617687775081934), (708, 0.036174602818781154), (4493, 0.03611738069680035), (3708, 0.03605347980007449), (3722, 0.036049541171686204), (4547, 0.03602244997390729), (3763, 0.03590213468167795), (2584, 0.03586645255464861), (1228, 0.035787747252360495), (1134, 0.0357754960018354), (3071, 0.035760113397063815), (2848, 0.035695449643741994), (2403, 0.035668439220173216), (4337, 0.03565643281258891), (435, 0.0356221443299291), (88, 0.03560470484020968), (4161, 0.0355285066720869), (2346, 0.03550349707508416), (3462, 0.03549737830018435), (3960, 0.03540039871709388), (4321, 0.03539891201767245), (2192, 0.03530933895589524), (1148, 0.03525603822770033), (4010, 0.03515063633378272), (2813, 0.03513678476048311), (2603, 0.03509054281017596), (709, 0.0349857876890198), (4457, 0.0349327755171988), (255, 0.03491863288399582), (1297, 0.034812556958134414), (3818, 0.03477086400875715), (1279, 0.034767214093740735), (1766, 0.03471636988262535), (4034, 0.0346425535785027), (4549, 0.034639894416322384), (4624, 0.034630656255643606), (2249, 0.03459413516930183), (1460, 0.03456866071909734), (4317, 0.03454434407576588), (270, 0.0345389595326038), (1995, 0.03453039468564394), (956, 0.03446835863571167), (715, 0.03445746012533406), (3453, 0.03434553124104931), (2968, 0.034339356725562105), (3604, 0.034297049881153466), (4046, 0.03423196213936205), (3142, 0.03422760711831877), (2697, 0.03420358508288234), (1799, 0.034199895165355154), (120, 0.03405971207303693), (670, 0.034043322426154175), (1829, 0.0339894434108134), (4087, 0.03394477519759141), (4097, 0.03389044237213822), (3896, 0.033809128098720734), (952, 0.03375476774458702), (1016, 0.03371860450252183), (2063, 0.033712410821684406), (4659, 0.03369635973665127), (1908, 0.033526966399634456), (1147, 0.03347398092070218), (1654, 0.033467940061388875), (3782, 0.03344751305934476), (2670, 0.03342339308107001), (1258, 0.03341757106473627), (4104, 0.033386496607545994), (3077, 0.033346201535709406), (2963, 0.033340606785120554), (2140, 0.03333860317585565), (960, 0.03313997042702694), (2240, 0.033053572710798666), (1853, 0.03305212892500845), (1436, 0.033039102541357175), (2166, 0.03302079468601523), (4318, 0.03299597562791497), (4045, 0.032988877934388906), (1400, 0.03291549314871062), (3250, 0.03288365445893871), (4474, 0.03287829429738264), (1276, 0.03285878341457948), (4256, 0.03284083807811185), (1393, 0.032787439243323294), (845, 0.032690566271823165), (4147, 0.032689613954514536), (2511, 0.032624262218709996), (1775, 0.03258261720766408), (710, 0.03257268306865838), (3879, 0.03254167382404638), (386, 0.03251487868393468), (530, 0.032509207211092815), (2111, 0.03248165225316386), (343, 0.03245044732407085), (966, 0.032425290438157284), (3014, 0.03242017823831367), (2353, 0.03240571136979483), (3907, 0.0323966452250485), (2727, 0.03229060377415505), (3268, 0.032288057563684476), (4433, 0.03228759501200375), (2274, 0.03226127390600122), (1509, 0.032258327222179244), (541, 0.03225759006479071), (2666, 0.03223147642284688), (3011, 0.03220397582124325), (1466, 0.03220299856598919), (3187, 0.032057657232982845), (329, 0.03203693841374172), (4376, 0.032014265073619264), (3729, 0.032013637419041445), (2746, 0.03200232139670569), (4146, 0.03197240321121462), (2440, 0.031949788287136134), (1686, 0.03192371920961125), (1207, 0.0318605027253322), (2960, 0.031848142701758814), (1088, 0.031787984140990114), (3407, 0.03175904130660872), (2625, 0.031737343779650165), (2142, 0.03161926638330119), (4485, 0.03160797365388082), (1906, 0.0315668005173409), (3498, 0.0315541440753431), (77, 0.03153346797277988), (3698, 0.03151593690467826), (848, 0.03149132776787991), (1644, 0.031424508913527265), (3171, 0.031414902154200376), (3231, 0.03139772079474812), (4103, 0.031394812780597574), (1172, 0.031263787915153794), (4364, 0.031255495906622084), (1129, 0.031237628217985442), (619, 0.031081118011165924), (2958, 0.031069423089579423), (4511, 0.0310575677677515), (3299, 0.031028511164699936), (3016, 0.03100039501394771), (4665, 0.03097009015016528), (3090, 0.030936363027346737), (1821, 0.030771535491277462), (1718, 0.030736889831713375), (4558, 0.030721030895877004), (271, 0.03070745923128304), (1622, 0.030695023208358336), (3500, 0.0306900221769666), (2936, 0.03068996060096116), (4155, 0.030678796711420073), (1082, 0.030667658165317937), (4742, 0.03066745200842685), (2980, 0.030624593735189828), (1696, 0.030620016928043524), (1543, 0.03047681932263066), (773, 0.03044780547325463), (4359, 0.030447305890926202), (1919, 0.030421553886648724), (1454, 0.03034125182528071), (2984, 0.030320136127295966), (1270, 0.03027620170502193), (2157, 0.030228180416077544), (3373, 0.03021677583570094), (3705, 0.030177634580524814), (1545, 0.030168174075677998), (651, 0.030147027284531575), (2716, 0.030077362742749105), (2860, 0.029970828939752885), (2641, 0.02992233422879837), (794, 0.029853103288693093), (2056, 0.029821954289957826), (856, 0.029768485982969155), (1764, 0.02976839155951512), (579, 0.029725635817834592), (2212, 0.02966479858070971), (4428, 0.02965054848327118), (1631, 0.02962565815394774), (827, 0.029623085176364743), (3891, 0.029570626990308876), (128, 0.029539589629771774), (2133, 0.029535112581068182), (4038, 0.029532272525097807), (2156, 0.029455794700513203), (4292, 0.029420342111991793), (2871, 0.029364846796774324), (4140, 0.029333402861418542), (1426, 0.029266560399541005), (1345, 0.029258887642166942), (4356, 0.02925814579244123), (2560, 0.029252652021427964), (1206, 0.0291903544539643), (2578, 0.029187426343972964), (3121, 0.029161773685307743), (2093, 0.029095966623151514), (102, 0.029090732819208782), (1679, 0.0290888278642046), (1018, 0.02908185294272147), (4741, 0.02904393867898434), (1456, 0.028983463108309706), (3894, 0.028963750872751964), (4667, 0.0289408530589325), (1772, 0.028939689837296608), (303, 0.028894369373247675), (1121, 0.02882886415965918), (4664, 0.0288207076779034), (540, 0.028819388617468612), (551, 0.02868861814378003), (829, 0.028684953453019957), (4649, 0.028676574204833185), (1200, 0.028608410962950234), (202, 0.028595860053408494), (863, 0.028543013903664823), (1259, 0.02854046872084996), (1106, 0.028527609955451595), (4502, 0.0285194344847476), (2964, 0.02845391290879566), (3007, 0.028446267682175258), (2461, 0.028432007130388258), (2803, 0.02841679737258336), (1719, 0.028405632362894673), (2830, 0.02836627703311373), (2894, 0.028362502337284712), (1779, 0.028349221558237683), (2541, 0.028300668833929885), (3205, 0.028224504366700282), (1614, 0.028200735973138172), (1734, 0.028130565361319717), (1502, 0.02811885339996353), (2380, 0.02808163309247104), (1352, 0.0280527959064252), (3244, 0.027906295335351775), (1175, 0.0278926620114214), (2109, 0.0278456590771015), (1124, 0.027833478471115905), (4486, 0.027827251563158448), (3898, 0.027751074394766154), (3068, 0.02774709754915582), (2370, 0.027741133777118197), (47, 0.027716303195867695), (667, 0.02771500391112754), (2691, 0.027702652844692997), (1735, 0.027686331090496213), (2614, 0.027675008762227487), (3948, 0.027608559424206196), (1797, 0.02759360515100135), (2359, 0.027564594010388098), (1515, 0.027287735362193477), (3083, 0.027259504574150033), (778, 0.027211582063711513), (4685, 0.027120496984573157), (2399, 0.027068242811822723), (3929, 0.026995028856728536), (4473, 0.026953038225950913), (1638, 0.02674280141478625), (0, 0.026723416666872155), (1627, 0.026692093318225425), (877, 0.026669888061884667), (4504, 0.02666121388453874), (2246, 0.026577319771598752), (3304, 0.026552408372740675), (1527, 0.026532858532040238), (1827, 0.02651706237611507), (870, 0.026509718145150313), (3053, 0.026509055233677515), (2771, 0.026496041869591497), (1447, 0.02648026058801527), (2608, 0.026448804915237004), (274, 0.02642099053017026), (2804, 0.02636928189760919), (2158, 0.02635682844564891), (1330, 0.026354313490321263), (881, 0.026307630216483746), (4426, 0.026285238175266994), (221, 0.026278152298637225), (3036, 0.02626320497371116), (1535, 0.026257224168659665), (3667, 0.026256177069044317), (2208, 0.026238427688845246), (2892, 0.026235526635608748), (2502, 0.026229836750571764), (3754, 0.02621573224400064), (4022, 0.02619740927634351), (871, 0.026188159130298053), (753, 0.026111092882200496), (4745, 0.026092361285416046), (3212, 0.026080259705833754), (4362, 0.026072280136799585), (3421, 0.026058435056492506), (3658, 0.026005204469187665), (281, 0.02597680112223981), (682, 0.02587954593042091), (4496, 0.025874258026030536), (2430, 0.025859264530019424), (3018, 0.025853429472051992), (3430, 0.025759508229496218), (2573, 0.02559612632259893), (1267, 0.02548337818411237), (3294, 0.025478409467056543), (1960, 0.02547731144095741), (1289, 0.02542536829553053), (422, 0.025365948877985864), (1782, 0.025278383676380103), (311, 0.02519879685503834), (4116, 0.025086950375318808), (3877, 0.025079228602262214), (3579, 0.025030282759608887), (3712, 0.024970580871648093), (1959, 0.02489117578473153), (341, 0.024776466126074058), (1770, 0.024742692156813354), (485, 0.024659491648468982), (2014, 0.024622315816041927), (1805, 0.024541453045637516), (1423, 0.02452883090228419), (3528, 0.024528473368110815), (4013, 0.024523736648924745), (2954, 0.024513523845215122), (4589, 0.02448587759940365), (1511, 0.024459569976519786), (3842, 0.024435553205915055), (2376, 0.024373027390478898), (4132, 0.024332182906023278), (215, 0.024321011386608995), (1283, 0.02429285069203132), (2975, 0.024281402516357298), (3580, 0.02425456587018241), (2124, 0.024225988245637334), (2616, 0.024205317435973428), (3095, 0.0241828123423513), (2763, 0.024176754361527112), (4178, 0.0241617440153951), (3780, 0.024050509896159603), (201, 0.02400783974873669), (1000, 0.023949696912922928), (1234, 0.023937587075907065), (733, 0.023913488046275737), (2180, 0.023913441365697705), (3778, 0.023901731923482643), (1567, 0.023879313278013396), (1401, 0.023870191970447565), (2465, 0.023859473414973336), (483, 0.023782706887880777), (4249, 0.023742299130578733), (1011, 0.023625813451404694), (429, 0.023606855476024986), (2962, 0.023557966804301028), (2182, 0.02350141251708596), (3790, 0.02349536793507704), (243, 0.02347922612540139), (4037, 0.023451897824360343), (692, 0.02343197034726874), (1875, 0.023405342643217038), (3849, 0.02339551334181697), (1362, 0.02338947153002282), (756, 0.023381857796141724), (2362, 0.02336370960027291), (4004, 0.023336068958953213), (2301, 0.023314791600129434), (155, 0.0233011794002317), (3684, 0.023299347207284566), (3101, 0.023112325199113163), (969, 0.023072937267456222), (659, 0.023060074583687303), (238, 0.02305591266230289), (1351, 0.023028183755782798), (1971, 0.022979303425418554), (3216, 0.022898511971416426), (1074, 0.02267483662420948), (1524, 0.02267295044357136), (322, 0.0226589857218008), (1714, 0.02263390102442296), (989, 0.022632808400908876), (1338, 0.02263213174775854), (2387, 0.02255624333048041), (1419, 0.02255188698165705), (2451, 0.0224683049524793), (2019, 0.02245035214024083), (4191, 0.02242429405758511), (4703, 0.022421718607605445), (4109, 0.022399970221839673), (1986, 0.022356156438267005), (2839, 0.02234622577821516), (2104, 0.022341797758165607), (3323, 0.022323865168256695), (1913, 0.02230798988559588), (2591, 0.022210004437061143), (2689, 0.02217624146728576), (1097, 0.02209049881661035), (3082, 0.022018140344184693), (3384, 0.022004461426001525), (3605, 0.02199771311683404), (3242, 0.021963699892981497), (360, 0.021834295581711828), (3366, 0.021831872566452293), (2572, 0.021797459212081625), (3141, 0.021778758383475202), (3562, 0.02177389703811653), (3819, 0.021726487087383072), (3503, 0.021676354036923206), (396, 0.021645803938967614), (2460, 0.021574589987216373), (2732, 0.02152846229431722), (1747, 0.02150892396392979), (572, 0.021446064783254136), (2555, 0.021343676295570633), (1710, 0.021337051383083165), (3456, 0.02132628586914468), (3120, 0.021303919685471132), (681, 0.021249597414386534), (304, 0.021214685126312586), (3005, 0.021144151280032313), (43, 0.02112101177987327), (2552, 0.02105948744990668), (2682, 0.02101562862543196), (1796, 0.020995177430916008), (2793, 0.020981698969539796), (916, 0.0209460999438724), (1581, 0.0208894486045518), (1865, 0.020875191137441677), (2250, 0.020874744579705583), (4148, 0.020838042131726478), (4174, 0.02080644022797494), (4531, 0.020800740887158702), (1964, 0.020800732903981232), (3369, 0.020777158777323907), (2207, 0.020695457944992245), (1981, 0.020674059983437697), (1367, 0.020673582885085886), (957, 0.020641413179757907), (1550, 0.020628412076587638), (1272, 0.020612347953441176), (2498, 0.020606427547092895), (1729, 0.020588924095946124), (2580, 0.020549394735973035), (1840, 0.02049450626455728), (4719, 0.02044204318949796), (1093, 0.02043134725539906), (4039, 0.020392939121526697), (2005, 0.02032652129084419), (3692, 0.02020893581648811), (2929, 0.02008957188597885), (1861, 0.02004247590618452), (1954, 0.020024472883146904), (1825, 0.020011386338504484), (4343, 0.019923774395008132), (4596, 0.01992375125967449), (4662, 0.019859237446773363), (1918, 0.01982555065416658), (911, 0.019819172464241513), (3264, 0.019818530280311414), (3803, 0.0197780820061908), (1054, 0.01975394431926466), (578, 0.019744100446814756), (3783, 0.019730892752683374), (4295, 0.019721371896374087), (3433, 0.019698027494461777), (231, 0.019681893400343875), (694, 0.01967249280513448), (1041, 0.019636984362231814), (190, 0.01963649189474675), (1691, 0.01963412028750243), (1465, 0.019598425927670308), (3333, 0.01959242889069046), (565, 0.01953933392939008), (34, 0.019530676813658804), (517, 0.019505061237336793), (99, 0.019480731791467545), (2197, 0.01946208484814768), (2827, 0.019460437170686514), (3238, 0.019453817540855463), (240, 0.019363502426484172), (2317, 0.01935654232602612), (631, 0.01929831164897122), (4189, 0.019198822711302313), (1568, 0.019090643826694623), (54, 0.019061023108771315), (1675, 0.019057967918681824), (511, 0.019052548507690444), (2749, 0.019039178841407888), (4041, 0.018984048498149955), (1222, 0.01895021173377326), (1801, 0.018916775846858674), (3336, 0.01882955416314858), (2198, 0.018804988699566084), (1374, 0.018782796030166235), (3927, 0.018748694861418762), (4590, 0.018732564439014367), (79, 0.01871070325526953), (2174, 0.018604354850587056), (400, 0.018596900024301134), (1831, 0.01855807693835882), (979, 0.018498601241747677), (2416, 0.018498497414612937), (2463, 0.01844935554564112), (4157, 0.018392875120933586), (97, 0.01835864036214269), (480, 0.018357170020427926), (3069, 0.018329091769244372), (1301, 0.018276654300608444), (2008, 0.018252968835412175), (3394, 0.018244234308144293), (2027, 0.018104955505296325), (165, 0.018084447597039383), (112, 0.018069779575620167), (1416, 0.017936122052695323), (284, 0.017899830232729924), (2736, 0.017871718546159453), (2517, 0.017842437649644247), (1132, 0.017837615322633792), (1202, 0.017744733404586613), (818, 0.0177314122349167), (763, 0.017719389075264474), (2326, 0.017687336828749105), (4418, 0.017647563244401376), (2737, 0.01764716329842762), (3566, 0.017630564504832042), (1723, 0.017619747427203243), (2039, 0.017597125649145895), (2205, 0.017568814035276478), (2122, 0.017437686674996362), (3550, 0.017434645455521258), (316, 0.017395233322567788), (3645, 0.01734420758124098), (4373, 0.01732222922110104), (4165, 0.017308668661444253), (741, 0.017307206471613008), (824, 0.017239320112817588), (1241, 0.017197780504791055), (2678, 0.017189411585254433), (354, 0.01717627853210981), (3552, 0.017166079630835857), (3130, 0.017122823651218422), (2701, 0.017082218167064997), (334, 0.016888991810142508), (4366, 0.016876312313778036), (3178, 0.01668748736381514), (657, 0.016667461483891356), (4599, 0.01650731560682802), (1090, 0.016466388202759343), (2068, 0.01641353994083037), (4598, 0.016412273770734412), (4437, 0.016395441011254813), (2469, 0.01637900861829251), (3859, 0.016337972085960887), (737, 0.01623133270206652), (874, 0.016186127559019905), (4223, 0.01617827949417388), (861, 0.0161626556518394), (779, 0.016044096541254934), (3950, 0.015997048587039448), (1109, 0.015957330523032612), (288, 0.015939563925182646), (1356, 0.015886053145824974), (2662, 0.015860884334055893), (1803, 0.015716123275893827), (3252, 0.01563955892598982), (555, 0.015437897580270076), (764, 0.015403926927236019), (2529, 0.015321259518156959), (3678, 0.015309564630243654), (4726, 0.015307973073287386), (456, 0.01524689262613884), (163, 0.015235029799319155), (2566, 0.01521419960652736), (2610, 0.015208514658762084), (1893, 0.01517841209107814), (4333, 0.015119953685374022), (2764, 0.015037132396933304), (2891, 0.014950547443544293), (2106, 0.014876736076976853), (4628, 0.014853571800761559), (3009, 0.014779159040206874), (1585, 0.014726201271629581), (768, 0.014680787934884419), (2335, 0.014517989531773615), (844, 0.014483103261194941), (665, 0.014422959991764692), (1634, 0.014263059985967544), (1329, 0.014201081340656063), (3103, 0.01419688331263068), (2398, 0.014170724217632985), (4222, 0.014155318534270699), (1888, 0.014136566610041977), (2973, 0.014114497385201402), (3479, 0.014095492669433995), (2663, 0.014069082795366568), (3447, 0.014062142186204694), (4198, 0.013936659524990666), (3800, 0.013925017979708305), (3890, 0.01392255159949737), (2832, 0.013851417389950028), (3352, 0.013839044578223344), (2928, 0.013629224930773749), (4166, 0.013626202448507947), (3217, 0.013601306658536396), (4012, 0.013581886170985272), (4084, 0.013571825221773994), (3078, 0.01356275894048823), (2838, 0.013488620323896201), (1208, 0.013456245752115384), (4752, 0.013444524468642102), (3492, 0.013420449985734165), (1180, 0.013404386165645082), (3147, 0.013397101883378858), (3137, 0.013356650295352341), (3936, 0.01335217497402193), (2983, 0.01332078476042296), (948, 0.013289610006882873), (2543, 0.013243646493565686), (2308, 0.013208832124369668), (3592, 0.01312245642410663), (583, 0.013046082418861083), (2857, 0.013028541147253922), (2730, 0.012968181638502937), (1690, 0.012965644259471045), (2797, 0.012918794683968043), (2488, 0.012898960601114003), (1948, 0.012861030553747418), (29, 0.01279586351065671), (144, 0.012769368427712082), (4514, 0.012766607215226159), (3257, 0.01271784591119575), (3413, 0.012677413794476173), (4408, 0.012672146605134655), (3758, 0.012623534105686588), (2434, 0.012617906309212952), (4483, 0.012590688905043541), (2368, 0.012579789634071074), (2333, 0.012564450481983038), (3686, 0.012547547729282304), (3017, 0.012540213072772088), (1049, 0.012515408223056143), (2009, 0.012500810519379284), (3308, 0.012495501453014542), (2986, 0.01248452467862087), (795, 0.012474963551399522), (3392, 0.012471217652079664), (2747, 0.012469526330928786), (2769, 0.01245796314282358), (431, 0.01244737500889951), (582, 0.01243425300937209), (2570, 0.012422511852570053), (2320, 0.012270036947068214), (2696, 0.012269386260157344), (4018, 0.012265660558549513), (2924, 0.012240679140484791), (3408, 0.012205672419536769), (3364, 0.012184411529547919), (3866, 0.01216627525080674), (2872, 0.012149419655279051), (760, 0.01210810221570472), (3952, 0.012103922824790666), (847, 0.012103376913141527), (3851, 0.012084488568259139), (985, 0.012073753873230935), (2702, 0.01206323242430864), (1424, 0.012050003443399996), (4117, 0.012048377335344935), (2982, 0.01201159618662829), (4556, 0.012003850375018076), (2302, 0.011988243257577968), (998, 0.011965106741523786), (4460, 0.011964018909499082), (2186, 0.011963414214578635), (999, 0.011955314135577752), (3039, 0.011943586040897375), (3168, 0.011884905244517598), (1489, 0.01185990117696754), (475, 0.01182646867920667), (2420, 0.011822536617273324), (1594, 0.011817249933343325), (4498, 0.011793636643450229), (4580, 0.011777930747763076), (4051, 0.011775295351595938), (3571, 0.01176813285074942), (3808, 0.011718805195928862), (3681, 0.011716882971102106), (4463, 0.011715597870096305), (2108, 0.011714874006032307), (4064, 0.011708698277569637), (2535, 0.011698240519691337), (3371, 0.011691976331724568), (2049, 0.011635938354884537), (4263, 0.011625009278829108), (982, 0.011610566959465333), (1786, 0.011608352514384163), (3529, 0.01159796630134782), (2375, 0.011595328755508148), (2410, 0.011578783094231288), (3424, 0.011563957613918156), (3183, 0.011557854265694932), (2101, 0.011550117831022343), (4061, 0.011528804700009965), (1905, 0.011507019307495536), (1565, 0.011485428678973652), (2748, 0.01147731221351608), (3258, 0.011477072558753257), (3889, 0.011446700045631322), (3449, 0.011405324004371612), (2116, 0.01139146685416355), (146, 0.011384993810846563), (2494, 0.011379403806608276), (1441, 0.011378113827132181), (2880, 0.011375628055609537), (1518, 0.011367388154160097), (3584, 0.011335315780958246), (2661, 0.011330457900669746), (4351, 0.011318788933679373), (1731, 0.011315822574938093), (405, 0.011315100592716976), (754, 0.011307725371078582), (2588, 0.01130532604728887), (873, 0.011302371536424008), (2391, 0.011272947143646728), (3601, 0.01125638136798528), (2817, 0.011254511235599285), (3218, 0.011252347230420363), (4357, 0.01125085057675246), (2086, 0.011241305631872901), (3109, 0.011240929875447017), (4315, 0.011239922156400102), (2287, 0.011210337767319554), (2755, 0.011160635340135212), (3388, 0.011120501361643123), (2385, 0.011116713860621671), (474, 0.011090309280107954), (3189, 0.01108909036713533), (1955, 0.011086620772183078), (2633, 0.011080673635198348), (3513, 0.01105839726946813), (3493, 0.011047124125393494), (1881, 0.011039530617631896), (3061, 0.011035330664784602), (3919, 0.011033439913747684), (1445, 0.011027861859031856), (879, 0.011011513535227179), (3845, 0.011009029317561592), (2531, 0.010999857950672598), (1851, 0.010988298893028582), (3229, 0.010961786482286073), (3733, 0.010960778673455894), (1364, 0.010959513232031145), (4025, 0.010949884904578659), (784, 0.010943811220395266), (2744, 0.010938785174144053), (2794, 0.010926976405748873), (2816, 0.01092090109966756), (3648, 0.010920700487622972), (3549, 0.010915614305459523), (4422, 0.010907163963978284), (4287, 0.010904284128097103), (3198, 0.010903381401504597), (2519, 0.01088708771836646), (3489, 0.010879619552952838), (971, 0.01086400331846522), (2431, 0.010862880788460483), (4319, 0.010848475481782515), (846, 0.010807514969742298), (3526, 0.010801541756418297), (110, 0.010787113575909226), (2582, 0.010767644931321471), (3603, 0.010756100698359958), (3303, 0.010740825111782683), (2397, 0.01073441975246125), (4702, 0.010717709069844419), (1533, 0.01070646539640472), (1302, 0.010704959542207768), (1476, 0.01069329409286678), (1410, 0.010667461700850901), (2193, 0.01065067638318531), (398, 0.010628059127274605), (312, 0.010627695688689438), (736, 0.010625434779909983), (3034, 0.010623344903179552), (2492, 0.010620722700327974), (529, 0.010619899654977491), (504, 0.010618450325863624), (3541, 0.010617091101488835), (2472, 0.010588156335100709), (1804, 0.01058669960553351), (938, 0.010579685533539659), (1170, 0.010566523018201992), (114, 0.010564702863784548), (785, 0.010560918650060615), (4738, 0.010549874489083774), (2026, 0.010546274076654153), (3188, 0.010542634514969881), (1501, 0.010541303278066478), (946, 0.01050323181292157), (2999, 0.010494814530363805), (2841, 0.010483679875284927), (4688, 0.010480105284543087), (2836, 0.01047261211909847), (3477, 0.01046596877540144), (174, 0.01042536613007155), (1867, 0.010423703268104325), (1126, 0.010422287852600057), (1549, 0.01041130423074177), (867, 0.010402098684996211), (973, 0.010398610050011633), (2687, 0.010384121259715511), (3644, 0.010369945488940565), (169, 0.010369897986240188), (983, 0.010366322827699184), (2807, 0.01035450518201659), (1084, 0.01034219504048465), (1589, 0.010338956483565807), (1094, 0.01032917265492655), (3288, 0.01032695131590519), (3400, 0.010321922743816209), (3220, 0.010315444328861285), (1880, 0.010290575414936779), (1771, 0.010290129832269273), (2553, 0.010289834883720284), (4073, 0.010287362276244515), (2677, 0.010283659927866675), (1408, 0.01027949828200011), (2422, 0.01024543154777422), (4442, 0.010237590948532785), (4192, 0.010220693887381387), (1618, 0.010219947267169568), (1261, 0.010219019911809894), (3899, 0.010204384580117512), (2003, 0.01019681813751239), (2467, 0.010183158232346053), (2642, 0.010168964437289794), (2167, 0.010142250425248842), (3276, 0.010141833089759146), (2131, 0.010139230561412976), (3490, 0.010135706717695724), (3246, 0.010118378470502934), (2367, 0.010103211950368302), (3868, 0.010099022020892835), (883, 0.010082351172315466), (2897, 0.010081487397635147), (3214, 0.010076439330278672), (2107, 0.010053643132663484), (1190, 0.010034697801049784), (2242, 0.010032176872723482), (3177, 0.010026179484664118), (1878, 0.010021562095022711), (649, 0.010002981777237114), (3925, 0.010000296397582806), (1787, 0.0099966790149544), (3646, 0.009980128001824577), (859, 0.009976912839628994), (325, 0.00997380752606387), (197, 0.009965821206751505), (1256, 0.009965543624096004), (3194, 0.009962233645578808), (2160, 0.00993180758264718), (1693, 0.00990993109274542), (1372, 0.009900917079965613), (2594, 0.009886045805615116), (279, 0.009880841374210112), (1903, 0.009873357254053385), (2170, 0.009870385454313582), (1746, 0.009850528214018675), (1457, 0.00982930019730634), (2866, 0.00982151864212642), (2201, 0.00981843575813551), (589, 0.009781758299218575), (1610, 0.009772110266934513), (3839, 0.009735286060420307), (3589, 0.009733116648415259), (3753, 0.009723150506311552), (907, 0.00970618710760139), (1984, 0.009700885095022425), (3767, 0.009695538488305407), (788, 0.00969091007045977), (3239, 0.009673048299663731), (3050, 0.009670053410998558), (1974, 0.009645681356182939), (1038, 0.009639550085041526), (2007, 0.009633980455364587), (2036, 0.009607989195634927), (3295, 0.009605131140897139), (1216, 0.009570959576394367), (1061, 0.009502024473384284), (4082, 0.009491049219749406), (3716, 0.009486209671166475), (1569, 0.009476691066866721), (885, 0.009467040486492679), (3933, 0.009408088607956236), (2161, 0.009398064566230518), (703, 0.009375461682999114), (3832, 0.009366328166955405), (1394, 0.009351205986597852), (820, 0.00932334275398109), (1199, 0.00931074343834604), (2349, 0.00930235287401036), (1145, 0.00929039180990236), (605, 0.009287239225773698), (2407, 0.009287031205436728), (1405, 0.009279123349306853), (3, 0.009278694050975114), (1616, 0.009275340544717972), (4156, 0.009251987444246861), (2619, 0.009239417294154326), (2805, 0.009229580429276052), (1217, 0.009163166417237745), (3856, 0.009134425880701952), (3748, 0.009132120345019342), (2775, 0.009120767422533415), (2870, 0.009107730624065185), (3030, 0.009101535639827098), (2883, 0.009091734774376609), (278, 0.009090346729073023), (2001, 0.00908856782385203), (86, 0.009077093226442845), (2168, 0.009031927228513575), (60, 0.00902874704199009), (3291, 0.009028490350232175), (1523, 0.009017132719160912), (2006, 0.009001221567404443), (2933, 0.008963376028721081), (2855, 0.008950590470381718), (1639, 0.008935199774984942), (3721, 0.008912645955643759), (195, 0.008871536297884881), (2877, 0.008861100787814583), (2211, 0.00884390630749029), (786, 0.008840100407997011), (726, 0.008825334387189073), (2876, 0.008815088567042172), (2075, 0.008803240120782624), (538, 0.008706480714922308), (1883, 0.00870173382233948), (2643, 0.008689051293345051), (2509, 0.008673578088446626), (2331, 0.008659956219902112), (1427, 0.008652067821073436), (3875, 0.008578880776600307), (4311, 0.008575095099315262), (156, 0.008574154976100859), (2304, 0.008572401425074087), (2852, 0.00856795239732788), (1317, 0.008551664099038105), (2441, 0.008546905195580183), (1963, 0.008539521899239193), (3575, 0.008526882651052812), (3015, 0.008513619912647928), (1453, 0.008492286659032077), (3967, 0.00848146305645839), (3192, 0.008475880436672311), (3444, 0.008457215840860288), (3140, 0.008455198251856217), (4026, 0.008453144085365644), (2951, 0.008452482415630805), (510, 0.008436750097030966), (3363, 0.008379030425008677), (609, 0.008374438897406312), (4306, 0.008306216988268302), (1677, 0.008303762728981262), (3004, 0.008275121872150574), (2266, 0.008272609635517169), (3999, 0.008272584302878267), (2388, 0.008248363592185498), (2328, 0.008246056857470931), (1040, 0.008243646017666247), (926, 0.008232151517931257), (326, 0.008227812808282808), (4094, 0.008222470278359291), (4347, 0.0082101553763913), (413, 0.00819272658198898), (3302, 0.008185862811049426), (2729, 0.008185316446823219), (2151, 0.008180156686396928), (1655, 0.008172503063868531), (2966, 0.008167338601573548), (246, 0.008159341283896605), (2499, 0.008157458475804735), (3297, 0.00815242353141389), (2415, 0.008152419117370514), (3934, 0.00814735368096285), (4233, 0.00812622313117558), (1403, 0.008109299392379801), (3626, 0.008097619861823753), (344, 0.008069353553019314), (4652, 0.008067488914148446), (3969, 0.008060066658113115), (489, 0.008036998161002595), (752, 0.008028787255064689), (4458, 0.008012844945963136), (2253, 0.008006525565487815), (2148, 0.007952339390169157), (2726, 0.007922315981459453), (4632, 0.007920724696490085), (4594, 0.007913492537636685), (3265, 0.007906692957692075), (3524, 0.00790467625351937), (3745, 0.007903244254998184), (1053, 0.007902252666532652), (4145, 0.007892043029437197), (1885, 0.007872051588706994), (3094, 0.00786118934150074), (950, 0.0078495089873751), (3359, 0.007818780846321654), (3072, 0.007808684048978928), (2269, 0.007797576736804215), (3425, 0.007784681979970277), (1398, 0.007777440869069704), (4713, 0.007777424878648854), (4149, 0.007756731507556197), (448, 0.007754797869885043), (2671, 0.00775222130243369), (3506, 0.007748735913548714), (4369, 0.007729484418369771), (3165, 0.007716702024328951), (1488, 0.007691634956862718), (1184, 0.007664655258939088), (4243, 0.007648476929764456), (3296, 0.0076413906552961685), (2051, 0.00763328766881892), (3867, 0.00763223864382264), (2629, 0.007626593176456062), (1909, 0.007625731874907819), (331, 0.00762012503025719), (3148, 0.0076067769158040845), (3764, 0.007581381533358168), (3013, 0.0075789996237732625), (2967, 0.007578504020860286), (576, 0.007573655268576868), (3274, 0.0075698835060644554), (2740, 0.0075645885013909345), (1508, 0.007555819041503695), (3560, 0.007548847715954246), (813, 0.007545822204285814), (2974, 0.007543057872875313), (4718, 0.007535004620409973), (1858, 0.0075176704132776375), (3761, 0.007513173898867756), (3804, 0.007494549494562386), (3248, 0.0074928486655231885), (3391, 0.007489205269357429), (3273, 0.007479704184626274), (3585, 0.0074778630694973805), (3180, 0.007474579630274527), (1422, 0.0074702099687325545), (4605, 0.007462782594620415), (4138, 0.007446968154002193), (1592, 0.007441034523353351), (2806, 0.007440579685781149), (4050, 0.0074216512057900105), (857, 0.007419106189965972), (62, 0.007417585548171313), (2159, 0.0074084690048289974), (587, 0.007388875769889644), (940, 0.007386751970831519), (3116, 0.007382814650716977), (700, 0.007371139554424823), (129, 0.007370318777587197), (2390, 0.007365158393526995), (1866, 0.007336075776045992), (4101, 0.007332888570232346), (3309, 0.007326342432496531), (2915, 0.007306168415877781), (3915, 0.007297429757177143), (8, 0.007296390070828503), (1897, 0.00728448451340343), (2705, 0.0072746531536182725), (192, 0.007266515075844178), (2823, 0.007264025328268235), (3893, 0.007257982125484801), (1759, 0.007249287266494352), (1506, 0.007227971730817354), (4657, 0.007225755250793364), (2475, 0.007225143984210944), (3184, 0.007216135383722823), (3622, 0.007191493091334505), (3834, 0.007188539333632687), (3904, 0.007186135823298622), (1868, 0.007185489942959157), (227, 0.00718015095469673), (3319, 0.007173454462180076), (1324, 0.007166651615134114), (2609, 0.0071660894386382495), (2664, 0.007162595133130221), (3235, 0.007162166436734058), (1619, 0.007159804915325173), (2105, 0.007154201008393758), (4175, 0.007153948499405894), (3434, 0.007147579360860703), (2044, 0.0071364185842203946), (623, 0.0071355714608669525), (493, 0.007133297771433123), (2821, 0.00713240354973999), (930, 0.007131089247342243), (3314, 0.007125462920032136), (4575, 0.007108630645363473), (1685, 0.007108268128203637), (275, 0.007104759543554856), (193, 0.0071033994589860695), (978, 0.007096543597762871), (3747, 0.00709597507247602), (3406, 0.007090390031728096), (4566, 0.007082401961934597), (2878, 0.0070821838354865885), (2809, 0.0070717795838745115), (51, 0.007068642295105125), (178, 0.007067594887879452), (3654, 0.007065826805764607), (830, 0.007062436861908721), (564, 0.00703862160764877), (416, 0.007030730391902396), (660, 0.007018002038849378), (3241, 0.007009123956321081), (1475, 0.007003906619839392), (776, 0.007002617620490349), (23, 0.007001241726655364), (4136, 0.006998880114812621), (2911, 0.006992258844689184), (2904, 0.0069879645382371226), (2405, 0.0069876488308082615), (588, 0.0069813648096555565), (2650, 0.006980329312789186), (4625, 0.006975898940521157), (3798, 0.006968905676578384), (3418, 0.00696275342021191), (774, 0.0069613422895466875), (1629, 0.006935143790527111), (2863, 0.006927281503983921), (472, 0.006916707618969744), (2048, 0.006915042274163086), (1860, 0.00690939464528091), (1768, 0.006907553905307044), (1946, 0.006903855623403714), (2230, 0.006899792703762716), (865, 0.006898537959610961), (3809, 0.006883560415211948), (71, 0.006882870709932207), (1715, 0.0068714848132332895), (2386, 0.006868869001007591), (1077, 0.006863699883569164), (406, 0.006854651042448001), (2489, 0.006846800423644109), (1122, 0.006840029371707398), (2155, 0.006835936777775383), (1942, 0.006835357813039179), (1392, 0.006821476820102154), (2313, 0.006821090492667786), (198, 0.006816705949571335), (2145, 0.00681398046906508), (2587, 0.0068086514882594075), (1472, 0.006796602415204585), (2652, 0.006792158181877927), (3335, 0.006788208774402191), (2745, 0.006781381499410866), (3551, 0.006780862180892523), (2144, 0.006776879036798028), (897, 0.006769587312484898), (2169, 0.006761920671730647), (1346, 0.006756874214290496), (347, 0.006741241117277735), (2344, 0.00673245691168661), (1566, 0.006723886511799851), (272, 0.006716483603477934), (3914, 0.006715953714330826), (1378, 0.006712785998502908), (4320, 0.006701429883017649), (2195, 0.006700777043339913), (2943, 0.006694345597724219), (3594, 0.006691949689530852), (1612, 0.006690215349972154), (4056, 0.006682187846260651), (4060, 0.006674939201421125), (1438, 0.006653596262425261), (490, 0.006652857140047388), (1159, 0.006648941769695397), (2589, 0.00664127898377141), (464, 0.006640900415958467), (3067, 0.0066371416843503716), (3237, 0.00663590567579432), (1666, 0.0066253797582536715), (880, 0.006622015978111256), (3630, 0.006622012840226858), (2802, 0.006569494670677864), (2102, 0.0065680655642229155), (1309, 0.006566393509204543), (618, 0.00655892272815873), (4309, 0.0065574473020428336), (1541, 0.006555661474650578), (1350, 0.006544397609442956), (693, 0.006539058649324411), (358, 0.006534207247395283), (959, 0.00652569781638376), (328, 0.006525095093773482), (3075, 0.006525030833980469), (4183, 0.006516286452207021), (4381, 0.00651331540024036), (1245, 0.006512473180085484), (488, 0.006498470988449459), (4229, 0.006494904042015573), (3298, 0.006489899100813043), (1247, 0.006489145360452167), (4139, 0.006487752205182786), (1060, 0.006482206082968551), (1463, 0.006477691110823238), (1421, 0.00647685576027808), (85, 0.006463268776379909), (3826, 0.006458988961833647), (1248, 0.0064550459367087466), (1020, 0.006445646918571539), (4438, 0.006441155150954198), (1034, 0.006434002398952302), (1027, 0.006424439250038233), (4536, 0.006418799984338348), (2779, 0.006413583429092507), (2886, 0.0064098166507423615), (1273, 0.0063941104859239675), (3170, 0.0063915669146870045), (644, 0.006382279883431438), (2859, 0.00636961038927966), (819, 0.006367921419529933), (2995, 0.006367453902548105), (408, 0.00635202129468179), (388, 0.006342387059949621), (116, 0.006340939227849236), (3954, 0.006340775289999205), (2597, 0.006334699220803736), (2004, 0.006314519202191615), (3300, 0.00631368458850305), (4011, 0.006309682209021626), (1682, 0.006304737080819824), (975, 0.006289538488069496), (655, 0.006273917961598229), (1819, 0.006259212900761063), (921, 0.0062527911586172606), (410, 0.006250491885178942), (1606, 0.006249977048870007), (838, 0.0062472556609242886), (1558, 0.006245368012209029), (3829, 0.006245238485612574), (2528, 0.006239149292916068), (3475, 0.0062358058742890115), (2907, 0.0062309723516739066), (1052, 0.006219833903163032), (3558, 0.006202599317466673), (3913, 0.006202505219307327), (15, 0.006196910103555952), (3932, 0.006196675111138299), (355, 0.006195088900466228), (638, 0.00619217524695053), (4479, 0.006187819709308759), (2453, 0.006174883362430008), (121, 0.00617486150774639), (524, 0.006163374462533314), (4322, 0.006151508441528245), (1628, 0.0061473878571120695), (1065, 0.006140671192806686), (218, 0.006133672610596526), (465, 0.006133668925668631), (1236, 0.00610999568081126), (2011, 0.006109139143543801), (302, 0.006106353998172551), (1237, 0.006098769142784605), (4571, 0.006095765464187452), (807, 0.006091626028041308), (608, 0.006090124495347993), (1869, 0.006082921613783366), (3614, 0.006081168473621107), (2931, 0.006077424176647152), (2338, 0.006070037878101338), (1605, 0.006069658071928526), (1220, 0.006063881549468119), (1366, 0.006060374671459147), (4350, 0.006055667884276625), (3318, 0.006055152555549893), (4712, 0.006052276151432334), (1080, 0.006048205552321293), (2457, 0.00604356185720258), (1219, 0.006027188022852443), (3327, 0.006026254369010746), (4080, 0.006023987087224454), (2607, 0.006022089300971774), (3111, 0.006013176378014167), (3795, 0.006009879248340091), (4141, 0.005990252826331746), (1977, 0.005981820572068932), (3115, 0.005971969259002363), (3380, 0.005963987337521902), (132, 0.0059564170407145935), (705, 0.005947885395627002), (2703, 0.005938479060676847), (33, 0.005937433436034093), (2237, 0.005895370450459289), (3403, 0.005886152439002664), (3512, 0.005882436302192512), (3895, 0.005881321111697543), (924, 0.005852120995034268), (3655, 0.005846922165097124), (2412, 0.005833692931188599), (2761, 0.005781537565351132), (2527, 0.005778415160054378), (4411, 0.005755743065785524), (1763, 0.0057533530217982595), (1743, 0.00571871129692257), (3200, 0.005708489673436229), (3088, 0.005704468724658295), (403, 0.0056945307111367595), (3669, 0.0056936097648888325), (2035, 0.005691597886318951), (1845, 0.005681466376067348), (1365, 0.0056733807835397075), (2669, 0.005673188350670665), (547, 0.005664423485503961), (4144, 0.005649026015061827), (2657, 0.005619193866939179), (2132, 0.005612844058219858), (796, 0.0055778364690249535), (3056, 0.00556576544556153), (2684, 0.005555415653811311), (1305, 0.005554256477071032), (2844, 0.0055488690306392235), (2379, 0.0055363182250651125), (2490, 0.005529129314211803), (2659, 0.005525797173008201), (843, 0.005525080473826276), (2312, 0.005522939351004811), (1415, 0.005504516980058252), (1530, 0.005502065140311121), (3254, 0.005493339266735325), (1950, 0.005487775421921504), (1624, 0.005467156845041108), (2858, 0.005437405652418334), (2137, 0.005437102125278332), (3139, 0.005431297760939022), (996, 0.005413201213294724), (4480, 0.005401360643500913), (407, 0.005390693024083227), (194, 0.005390409063173501), (3980, 0.005389759212918444), (2722, 0.005385329271156613), (2818, 0.005372026696507138), (3040, 0.005357285518379253), (2000, 0.005353887645687683), (63, 0.005347023906510565), (309, 0.0053437028487427355), (2766, 0.0053309822134313045), (3266, 0.005306670880238086), (2395, 0.005306425816543282), (3796, 0.005305715474215454), (4239, 0.0052998980729910645), (3949, 0.005273300179738161), (2537, 0.005262479883007952), (2667, 0.00522732562087131), (2922, 0.005219685784148655), (2404, 0.0052177366654141775), (3042, 0.005197772237953709), (4700, 0.005194252905833169), (607, 0.00517702841226109), (4115, 0.005176135022570597), (2990, 0.005164159344123469), (2731, 0.005149328841202368), (3204, 0.00513522602143215), (4484, 0.005114703762720473), (1939, 0.005091039637479427), (2281, 0.005089405308055897), (2483, 0.00505912326655927), (2715, 0.0050501962073819595), (2550, 0.005023951077803932), (1648, 0.0050172911764411535), (3546, 0.005012510122332738), (2536, 0.005011190364135108), (2948, 0.004995681467839817), (2199, 0.004993619616509122), (4537, 0.004993586600875291), (3892, 0.0049868896772862275), (3439, 0.004975701605726468), (2228, 0.0049650055582266504), (4040, 0.0049501604060363386), (684, 0.00492993630265986), (2941, 0.004929896184926903), (2282, 0.004928738110882744), (391, 0.004913135492582714), (4440, 0.004905928615354446), (2875, 0.004875675952716078), (4102, 0.004870768444128998), (2455, 0.004869112325317743), (3740, 0.004854933261624131), (929, 0.004846482908849883), (2656, 0.0048435281120213555), (2600, 0.004839830650538507), (3087, 0.0048397321293620395), (2423, 0.004834526655127162), (3988, 0.00482860333055074), (3844, 0.004807182347673585), (3249, 0.004797949273668364), (2581, 0.004793758969819053), (2939, 0.004777852420603966), (3671, 0.00477517622210144), (4721, 0.004774476747166487), (4058, 0.004771571499834247), (3616, 0.004770434455128236), (3357, 0.004768399958004119), (455, 0.004767455426312435), (2515, 0.004762666431040601), (4199, 0.004759029342955183), (3537, 0.004758187210424085), (2363, 0.004740717603878388), (3922, 0.004735654337649274), (3074, 0.004706568238503608), (4725, 0.004682942020325365), (2077, 0.00467844188911785), (3544, 0.004669604730273388), (3089, 0.004660920751239689), (4631, 0.00465849618032524), (3020, 0.004657075637167119), (4127, 0.004656498009748999), (3554, 0.004643777631379517), (751, 0.0046291550441080595), (2781, 0.004623093834841098), (3203, 0.004620042383085214), (2756, 0.004618091304930361), (3054, 0.004609532154583755), (368, 0.004604708833333986), (1941, 0.0045914342024928586), (4570, 0.004585728556172461), (4506, 0.004580037372602524), (2351, 0.004578928091018637), (4190, 0.004575180116769673), (3996, 0.004573939399894139), (1790, 0.004573073321419027), (4204, 0.004565886098942843), (4341, 0.004550527031976955), (461, 0.004542855160427315), (1615, 0.004542854206918373), (3789, 0.004530462185449836), (4023, 0.00453031369795547), (4717, 0.0045296882636336406), (4711, 0.004527655739195241), (2738, 0.004527087556156186), (4451, 0.0045261527248989415), (955, 0.00452312732968937), (904, 0.004515753450978805), (3621, 0.004514055198365254), (153, 0.004508717219566316), (3324, 0.004508392225074109), (4633, 0.0045083468460056335), (1792, 0.0045081699508193965), (2720, 0.004496083772531251), (2635, 0.004494936894753588), (1169, 0.004489707752412263), (2846, 0.004488718782515122), (3931, 0.004487557809238692), (2468, 0.004482211330977319), (3256, 0.004471823281531979), (3172, 0.004466849269678035), (1947, 0.004453284675342406), (4346, 0.004450594836920429), (4203, 0.004446684931788715), (2261, 0.0044466200722316825), (3190, 0.004445199622789805), (905, 0.004437626233730223), (1758, 0.004435980400802127), (2884, 0.004428411162531193), (3337, 0.004426349454111335), (4454, 0.004425723514113473), (679, 0.0044211003757410276), (4650, 0.004420951788504818), (3921, 0.00442042970571758), (2012, 0.0044116809523851875), (925, 0.004410955238972151), (508, 0.004410943134545597), (4507, 0.00440627435531339), (2478, 0.004403812527111715), (2676, 0.004398896411964516), (1656, 0.004398135552144494), (2510, 0.0043974772196030696), (1507, 0.004392998014097501), (3759, 0.004392046536020133), (2796, 0.004390140028586785), (2305, 0.004387490024607101), (38, 0.0043840064257667085), (2486, 0.00437989393559431), (2079, 0.004379221228529057), (3791, 0.004377279860432822), (3772, 0.004365552363056557), (4121, 0.004363137154476568), (3253, 0.004362424294216284), (2223, 0.004361757655098518), (2873, 0.004357038925117034), (2339, 0.004357024705254149), (2357, 0.0043550317382627275), (3649, 0.004351927244161204), (4746, 0.0043510523061983915), (4737, 0.004349669599021939), (2138, 0.004347886992051837), (2411, 0.004343841331082445), (3383, 0.004343739123830928), (4452, 0.0043390103764618234), (2914, 0.004338455802584121), (1928, 0.004336938952875924), (3820, 0.0043368752110954645), (3992, 0.004336321385444324), (839, 0.004334163985867487), (1999, 0.004333342097660081), (3962, 0.00430841412555424), (3822, 0.004307346752299419), (139, 0.004304098189526441), (1311, 0.004303624764413518), (40, 0.0043032363264933916), (2672, 0.004299737488888982), (2810, 0.004299364462675979), (2164, 0.004293808419037278), (2799, 0.004293608446895315), (4108, 0.0042925046747482555), (3146, 0.004290947267975271), (3221, 0.004290599222057547), (2436, 0.004287562336498542), (2479, 0.004283745864057306), (4453, 0.004283241194943284), (4293, 0.0042807004383548135), (1260, 0.004279222517022117), (2381, 0.0042770742063124945), (3080, 0.004275919471329533), (2384, 0.004272487516876293), (2209, 0.004270785586226537), (2782, 0.004270290544478509), (2218, 0.00426478760277665), (4706, 0.004261947531414669), (3003, 0.004261498310376747), (1371, 0.00426132615738249), (4113, 0.004260870710197438), (1923, 0.004260431759926827), (365, 0.004260029178015669), (2843, 0.004259935708051548), (1836, 0.004259331200608622), (3062, 0.004253015272895352), (4324, 0.0042527125595910814), (3688, 0.00425064971415311), (3572, 0.004247174135918495), (1658, 0.004247160175958087), (2592, 0.004246889765094532), (3735, 0.004245006881787234), (3652, 0.004238755859064549), (3026, 0.004238342915887939), (4003, 0.0042376044335337825), (2493, 0.004233826307912379), (3097, 0.004230055333609633), (1486, 0.0042247271810948285), (2930, 0.004217793487609419), (1089, 0.004217607567589367), (3581, 0.004217066602478238), (990, 0.004214106793765378), (141, 0.004213593450790586), (841, 0.004212242649346748), (1844, 0.004211689235440363), (3837, 0.00421085463062823), (2626, 0.004210212292807211), (2452, 0.004208556525484204), (4446, 0.00420821924324012), (2464, 0.004207257175800393), (4308, 0.004206906519823271), (1733, 0.004206207055387893), (1583, 0.004202791193047332), (3628, 0.004194985339175577), (253, 0.004194170298935447), (3730, 0.004193538610891766), (3234, 0.004193151460273283), (2575, 0.00419287566032756), (1243, 0.0041842049163591565), (678, 0.004182070932525177), (3044, 0.004181600559665108), (4522, 0.0041805643061333594), (2458, 0.004180551419861728), (1491, 0.004180502598038763), (3181, 0.004180266542468871), (4258, 0.0041797794920694475), (350, 0.004176288970224978), (2604, 0.004174790255863865), (2882, 0.004168623005322363), (2979, 0.004167770804343885), (2507, 0.004167229696502723), (4207, 0.004163265937866047), (4332, 0.004161876655801028), (2082, 0.004161693116388262), (4413, 0.004159519904375226), (2371, 0.004155603001550934), (2021, 0.0041524070993799725), (4086, 0.004151162163586555), (4734, 0.004145719119226486), (1246, 0.004144223740688253), (4118, 0.004136840318284332), (3510, 0.004135627332131645), (1103, 0.004133784938010003), (771, 0.004132902529134054), (1848, 0.00412960323491887), (1907, 0.00412925572888481), (1390, 0.004127198398620827), (3943, 0.004123431595349228), (4492, 0.004120934709847931), (1520, 0.00411805776788559), (1637, 0.004114913853738364), (2786, 0.004108111834052068), (1537, 0.004107124683599672), (872, 0.00410684318538994), (4131, 0.004105193502900967), (1683, 0.004105052918215775), (4173, 0.004104407638342777), (1409, 0.004104024052203134), (3728, 0.004102164085400772), (1282, 0.004101172258015296), (1732, 0.004100066135665839), (2712, 0.004098758107403723), (4370, 0.004097072027337031), (1609, 0.004093687921770569), (1737, 0.004092063867388414), (1333, 0.004090860319566322), (3461, 0.004089109540364525), (2970, 0.004088944844396246), (536, 0.004082567470216481), (1572, 0.004081857848369438), (1205, 0.004081753129887911), (3236, 0.004080056314145855), (1856, 0.004079649686874153), (4560, 0.00407961419378354), (1926, 0.004076297977735858), (1596, 0.0040749438269706735), (392, 0.004074930100819905), (4622, 0.004072028102406252), (4557, 0.004069243386937716), (3084, 0.00406868414699023), (4489, 0.004068619076726207), (1099, 0.004067780356059269), (4054, 0.004067686395584853), (3464, 0.004065663414938694), (2516, 0.00406466485121873), (4655, 0.004060508672037744), (3905, 0.004057832366341964), (418, 0.00405772429801256), (4260, 0.004054603842157569), (4052, 0.004054374648925838), (4180, 0.004053893472153349), (1013, 0.004053431949609632), (415, 0.004051890315015361), (1822, 0.004049545113351878), (3037, 0.004049294138962681), (3041, 0.004049193162889166), (3835, 0.00404635674761098), (3422, 0.004046294348002301), (4420, 0.004045058634972123), (2394, 0.004042187044174753), (4323, 0.00404072102722037), (1578, 0.004040350591846992), (781, 0.0040399935809784385), (1389, 0.004039606432924542), (3277, 0.004039286273526889), (1007, 0.004038535273273519), (3984, 0.004034399510694986), (1902, 0.004032215118698114), (1336, 0.004027977692218355), (1299, 0.004027002630400461), (1689, 0.0040248050374819344), (2754, 0.004021841740154041), (2675, 0.004021432447125967), (1193, 0.004019818767700249), (1142, 0.004018855567009124), (2217, 0.004016007797915781), (2002, 0.004015075811324916), (3415, 0.004014814300685098), (3150, 0.004013671784001853), (3038, 0.004012920670659779), (2926, 0.0040119262154206985), (3870, 0.0040104930732726704), (1660, 0.004008153887669664), (1006, 0.0040078206997608955), (1965, 0.004006954567784048), (4448, 0.004006250827809977), (3514, 0.004004833852240839), (2605, 0.004004551401908643), (4421, 0.004004512908313382), (1224, 0.004004460557762772), (3591, 0.00400377133912821), (3351, 0.004003744107811334), (2090, 0.004003698385637049), (797, 0.0040035918022520685), (3378, 0.004003025350817684), (2042, 0.004003009678639477), (3382, 0.004002910682632185), (2561, 0.004002190927964579), (3310, 0.0040019403447724925), (2601, 0.0040007351567284705), (3162, 0.004000203115052374), (1513, 0.003996151325281778), (1432, 0.003995952816929146), (1024, 0.00399549675507009), (3224, 0.00399392841483401), (2546, 0.003993516848738642), (884, 0.003991178663685278), (1613, 0.003990218027539937), (2241, 0.003989134068250299), (1727, 0.003988569831770913), (1702, 0.003987165267182153), (4125, 0.00398433338966767), (793, 0.003984002240621783), (1911, 0.003983753604525342), (2325, 0.003982438785513369), (4008, 0.003981221769452798), (1602, 0.003980158899887555), (3349, 0.003979955941088047), (1155, 0.0039787198937131195), (2194, 0.003978689410657623), (1949, 0.003977038501480643), (4552, 0.003976305253210018), (1165, 0.003973704374465768), (3517, 0.003972002327179699), (3930, 0.003971508210946982), (1469, 0.003971368131988803), (1765, 0.003967613646703466), (4648, 0.003967353379621528), (3287, 0.003965782626851019), (3428, 0.003963246210961698), (2222, 0.0039624046028357675), (1847, 0.003960720373925005), (1244, 0.0039569405970429315), (2648, 0.003955642892516523), (377, 0.003952569717767474), (59, 0.003952378902765323), (1494, 0.003951989544660863), (1961, 0.003951960686451322), (1516, 0.00395072842021936), (730, 0.003950001872814634), (1697, 0.003948698485144893), (3290, 0.003947833487392783), (4388, 0.003944971849385467), (1557, 0.003941897899029432), (1777, 0.00394111127011091), (2092, 0.003940780672214054), (814, 0.003940673659063292), (2856, 0.00394023651100623), (1917, 0.003937845436192151), (1726, 0.003936545165734025), (245, 0.00393491387290051), (2307, 0.003934882802002331), (1525, 0.003933230874583429), (869, 0.0039332062113577515), (3289, 0.0039314121519732105), (1564, 0.003928883042658638), (3683, 0.00392677622216013), (4093, 0.00392411370091093), (3209, 0.0039233362916651915), (115, 0.003922569189380382), (3632, 0.003921098894900331), (2200, 0.003920177834459496), (4404, 0.003919275062371077), (3912, 0.0039192080183511335), (908, 0.003918995392495836), (134, 0.0039188090401141235), (933, 0.003917792799079264), (1337, 0.003914837163628445), (2290, 0.003914664069704743), (1108, 0.003914193185150021), (2444, 0.003913039246676573), (3113, 0.0039126989038228265), (1688, 0.003911786426877251), (3606, 0.003911369533224952), (1085, 0.003910805166601216), (1166, 0.003910393068278629), (3102, 0.003909786269095814), (3283, 0.003907425395586219), (2292, 0.003907114129626988), (528, 0.0039060786572203813), (1322, 0.0039051131288109476), (1587, 0.003904895640211636), (3812, 0.003904545407792989), (219, 0.0039031337378246374), (1495, 0.003902847013053399), (1425, 0.003902503408589557), (3060, 0.0038994462760822603), (2551, 0.0038978148249930555), (1361, 0.0038967653877355363), (2896, 0.0038956134398239833), (28, 0.003894897533014304), (1889, 0.003894660410248601), (4049, 0.0038933004568036792), (2685, 0.0038931956293029512), (1105, 0.003893132604938499), (1204, 0.0038921760244905856), (4210, 0.0038910492554219277), (4135, 0.003890584514225956), (2041, 0.003890488608390905), (401, 0.0038880163321681187), (2487, 0.0038877835526232554), (3386, 0.0038869795677253043), (2586, 0.0038868103712421886), (4214, 0.0038857132435342894), (1473, 0.003885597895609776), (945, 0.003884362837207871), (1599, 0.0038840426457809043), (3332, 0.003882111233068094), (1751, 0.0038812572361516745), (1879, 0.0038809746131722436), (3739, 0.0038783468355458603), (1611, 0.0038768101455366106), (1769, 0.003876597032145593), (630, 0.0038761163846273445), (3245, 0.0038759486230950557), (2396, 0.0038710379701783963), (2554, 0.0038699607205704856), (1577, 0.003869660798674591), (182, 0.0038667620322803084), (4300, 0.003866158018847424), (1232, 0.0038657647065760735), (4609, 0.003862542842199551), (3155, 0.003862414140296583), (2994, 0.0038610429742495195), (2449, 0.00386101644846633), (3494, 0.003860794753746882), (2153, 0.003857140173335031), (2284, 0.0038568703118768708), (494, 0.003853782014474303), (1388, 0.0038528761331221603), (822, 0.0038524037445189074), (4184, 0.0038518268361226508), (1505, 0.0038472766728561056), (2340, 0.003845675635983368), (943, 0.003845368501287084), (4001, 0.0038426303459202713), (264, 0.0038414522656164975), (2081, 0.0038402301768530847), (2709, 0.0038378404738165168), (1304, 0.0038374470366522116), (2495, 0.0038358332348332426), (4099, 0.0038351591336025477), (3662, 0.00383425157117858), (3033, 0.003833998334521199), (4195, 0.0038338412241299817), (849, 0.003833641974887748), (931, 0.0038335239217357413), (3343, 0.0038322922477715487), (1227, 0.0038322797857629934), (479, 0.0038316426067677733), (2046, 0.0038313902040127516), (4291, 0.0038307944832798924), (1133, 0.0038279231494807533), (965, 0.0038277834562897746), (3104, 0.0038271882296593103), (3665, 0.0038270430435188726), (3805, 0.0038250158785611884), (4592, 0.003824293190242952), (3106, 0.0038240249811239938), (4675, 0.0038217493388047986), (1021, 0.0038211472974157396), (1112, 0.0038208336606245933), (3673, 0.0038206360778599603), (1517, 0.0038193066994445185), (1022, 0.0038186268589135712), (3518, 0.0038183719463910177), (1444, 0.0038172589421906216), (525, 0.003815634014485065), (1298, 0.0038149195817188683), (2336, 0.003814640438709663), (3570, 0.003812171426123688), (346, 0.003811870406725426), (3270, 0.003811228756203354), (1196, 0.0038111317526667568), (188, 0.0038111303444101213), (22, 0.00380901300014423), (2512, 0.003808645257405126), (3545, 0.003807656386465732), (4394, 0.00380668308936321), (1834, 0.003803057200460156), (2280, 0.0038001139536321627), (1837, 0.003798520730926899), (1198, 0.0037972989209371466), (3888, 0.0037956945426144526), (4542, 0.003792739964018199), (1411, 0.003790782264036253), (2569, 0.0037905967001478887), (2825, 0.003789678805236695), (50, 0.0037884227959251783), (2435, 0.0037881096997497287), (1598, 0.00378685737097459), (1028, 0.00378609827714708), (2298, 0.003785521755577176), (535, 0.003785169534456568), (3350, 0.0037845634835619703), (1757, 0.0037790323377437317), (1100, 0.00377268364526248), (1292, 0.003772391135889349), (2128, 0.0037723361830072494), (2639, 0.0037638399138995543), (3260, 0.0037638036463061133), (3685, 0.003763433334604309), (2329, 0.0037627311882774983), (2297, 0.0037601854012626694), (4029, 0.0037594216019038416), (1130, 0.003759037883078785), (459, 0.003758253324700278), (1842, 0.0037534012055052655), (4218, 0.0037523945976744412), (2087, 0.003752046572341646), (4036, 0.0037482857345460187), (2504, 0.0037454621030485542), (4112, 0.0037444635777558574), (4234, 0.0037423083754667447), (3836, 0.003741301501139554), (217, 0.0037390608348936752), (3402, 0.0037382701034431092), (2322, 0.0037368185815455667), (4395, 0.00373199913876739), (503, 0.0037316960339910696), (755, 0.0037280993473199435), (3765, 0.003726393967556803), (1235, 0.0037256928402722702), (3286, 0.003724462576685472), (404, 0.0037228159518931632), (662, 0.0037194236900362962), (345, 0.0037179799427898346), (4367, 0.0037174962054280277), (1373, 0.003716477885803996), (3127, 0.0037158802661839767), (2150, 0.0037148822311611767), (2912, 0.003714536793360238), (840, 0.0037140444500681304), (3348, 0.0037124924641997008), (339, 0.00371231180055212), (4382, 0.0037094433735174416), (3641, 0.0037048948493501204), (1113, 0.0037032948302090454), (2653, 0.003701854724494372), (546, 0.003701300963994669), (1368, 0.0037012908177931417), (3149, 0.0037002406718988933), (3998, 0.003695790747609739), (3582, 0.0036955765477029055), (1597, 0.00369534540152168), (923, 0.0036943194897959245), (4564, 0.0036937007503638226), (1668, 0.0036935591817077824), (521, 0.0036934688854272234), (1900, 0.003693332974738075), (585, 0.0036903535114035666), (720, 0.003689522224861382), (1561, 0.003687286006449224), (1125, 0.003686363457832975), (1117, 0.0036852376198581315), (1767, 0.0036851201462644945), (3886, 0.003684139777299284), (4303, 0.003683744522104309), (1582, 0.0036828852272738836), (1544, 0.003682509040937986), (772, 0.0036801940736441202), (427, 0.0036795898121463723), (1446, 0.0036761994314156205), (1231, 0.0036760201562116928), (2829, 0.0036753594926473517), (367, 0.0036749642020468), (4434, 0.0036748413868962887), (1912, 0.0036727907615127426), (3595, 0.003670324040726352), (1552, 0.0036677648347402617), (1526, 0.0036658741544565634), (1490, 0.0036653002156988948), (2309, 0.003664520848125501), (3965, 0.0036637078192820805), (1839, 0.0036634290807545174), (3824, 0.0036613957501203317), (1877, 0.0036606364960226276), (2620, 0.0036605886362808997), (2050, 0.003657890873599696), (498, 0.003657200779160461), (1929, 0.0036571095036071325), (1700, 0.0036559931834223933), (2644, 0.003650189425847692), (780, 0.0036498290289900463), (984, 0.0036489896213033526), (1915, 0.003648236494915882), (1327, 0.003647916108843426), (4213, 0.003647783742330755), (2787, 0.003647750948600033), (2706, 0.003647036580710957), (505, 0.0036442896047422274), (4206, 0.003643920648532684), (2631, 0.0036430253011860356), (2690, 0.003642810495425243), (1376, 0.003642657550314479), (1738, 0.0036417797094209043), (1532, 0.0036413959806143384), (45, 0.0036408078747677073), (4272, 0.0036393310426614464), (1487, 0.0036371332792392392), (1818, 0.003635249111856809), (53, 0.0036351193980859796), (1211, 0.003634981788850728), (4246, 0.0036322043257303377), (2271, 0.003630460356687185), (263, 0.0036302687496095453), (1029, 0.003630187757197526), (1785, 0.003629959430255582), (4071, 0.0036296955974718615), (185, 0.00362671713503507), (3864, 0.003620165188744543), (939, 0.003618328536653471), (2303, 0.0036180257904657115), (2972, 0.003615968255234536), (2812, 0.0036152897412587196), (1663, 0.0036139536011681483), (4257, 0.0036137841840326364), (1895, 0.0036137471479932414), (2348, 0.0036133607094342513), (1783, 0.0036095106333498632), (1973, 0.0036087438006208797), (2311, 0.0036086228347217385), (1139, 0.003608234179065905), (1788, 0.0036073205701838444), (1914, 0.0036053241918377085), (1496, 0.0036048253720401893), (2179, 0.0036037823116318282), (3320, 0.003603011482268915), (507, 0.00360205851117363), (4254, 0.0036019868283134354), (1203, 0.0036018422289439958), (2215, 0.0036007457601639954), (4690, 0.0035975700189273692), (886, 0.0035964355850439307), (903, 0.0035959053429853944), (3941, 0.0035948917732852277), (941, 0.003592956683563794), (1721, 0.003589688338548048), (702, 0.003589096719786328), (1855, 0.0035881296767098577), (1898, 0.0035870410989186346), (2099, 0.003585588960158725), (648, 0.0035851212408230418), (1992, 0.0035838829030536263), (3909, 0.003579121064828509), (4603, 0.0035783790543356627), (2052, 0.00357760422251821), (2327, 0.003576633632755864), (1899, 0.003576252954608226), (3732, 0.0035740121537737226), (1673, 0.003571316076846992), (2590, 0.003571097943774071), (690, 0.0035691993603728625), (2071, 0.0035688208385121966), (1353, 0.0035668703767803415), (2450, 0.003566160948841443), (3543, 0.003566074235993376), (4305, 0.003563774083071486), (2615, 0.00356354021429375), (417, 0.0035633070160714844), (2272, 0.003563226609250428), (2446, 0.0035630198737378626), (532, 0.0035622039174954523), (2874, 0.003560394708633955), (454, 0.003560318444353279), (4325, 0.0035581790096113745), (2183, 0.003557346892434826), (1152, 0.003556517243804329), (1291, 0.0035534416906545575), (1642, 0.003550430866440117), (3321, 0.0035494371619506364), (745, 0.003546843609836797), (2548, 0.003544644163973792), (770, 0.003543232787793013), (2497, 0.0035429844085235153), (1477, 0.003538328369604732), (2491, 0.0035368910245377463), (1149, 0.0035364727365705625), (2315, 0.003535884130419014), (409, 0.003531818878585751), (2445, 0.003530794181491548), (3389, 0.0035281576452964036), (1079, 0.003527719386106997), (3923, 0.003524837866898728), (3395, 0.0035240807438180325), (4577, 0.0035222963946176223), (920, 0.003521668669999866), (1987, 0.0035213442437595755), (1308, 0.0035195369805753325), (1331, 0.003516152723391583), (1982, 0.003513728156618394), (821, 0.0035133085744207095), (4186, 0.003511613572275543), (4600, 0.003510638461054942), (14, 0.0035103159643057142), (2203, 0.003510256215397393), (1794, 0.003510219593616853), (1242, 0.003509365596612527), (2125, 0.0035085126898905506), (3329, 0.00350705217090598), (958, 0.0035063314772644937), (338, 0.003499931685286331), (3563, 0.0034963237968891944), (759, 0.003492721264592976), (2728, 0.0034917871096112082), (1288, 0.0034903889910039743), (3885, 0.0034897757573469066), (3197, 0.0034863342319519687), (1528, 0.0034843266546685093), (1784, 0.0034834246226791736), (2265, 0.0034825554199837366), (2236, 0.00348105574845149), (3267, 0.0034808454788321243), (4447, 0.0034803676925304087), (2424, 0.003477117294152096), (2043, 0.0034738535610359268), (1173, 0.003471597897752714), (473, 0.0034706164217063106), (3311, 0.0034701379125592967), (4647, 0.003468897771823432), (632, 0.0034670907122735808), (1310, 0.003462340184747669), (214, 0.0034592084130686263), (515, 0.003457877322775737), (2426, 0.0034576978051728416), (2262, 0.00345604558780582), (898, 0.0034557771075289733), (2741, 0.0034540461162987277), (2514, 0.003446487234082804), (3108, 0.0034430521124572165), (4304, 0.0034429955253062624), (3397, 0.0034427329906892646), (664, 0.0034387094546246308), (2185, 0.003436640087531219), (2976, 0.0034364632821205954), (577, 0.0034357485421102974), (3633, 0.0034357007889478587), (594, 0.003428836506928433), (1870, 0.003428691449559193), (1750, 0.0034283557602186243), (3070, 0.003426760742441062), (2389, 0.0034218583705861007), (1318, 0.0034212549724511186), (3865, 0.0034211371247710233), (672, 0.0034207189282159938), (2833, 0.003419412492953498), (1978, 0.0034191114643236666), (383, 0.003418937157006258), (1025, 0.0034185345551095863), (4237, 0.0034152647774617433), (497, 0.003413768948747196), (1994, 0.0034132689970734352), (3485, 0.0034088761488461103), (2264, 0.0034080956904582026), (1694, 0.0034059951962440824), (1652, 0.0034026974714754187), (2366, 0.0034020450550934556), (1468, 0.003400336734164793), (1830, 0.0033990931966139865), (393, 0.0033971749596856432), (3861, 0.0033968350476742022), (91, 0.0033961506968003667), (1251, 0.0033946107041985412), (3063, 0.0033924646903509847), (3755, 0.0033903850236740984), (712, 0.0033892329225381035), (4358, 0.003384581368479339), (836, 0.0033818785728490443), (912, 0.0033732799000050846), (545, 0.0033699396807883447), (1213, 0.003369841306679792), (4066, 0.0033688928320409614), (3411, 0.0033656641175056714), (851, 0.00336062607066444), (1684, 0.003360316908575604), (2433, 0.0033593693410524975), (2820, 0.003355371406294669), (3232, 0.0033540404317269935), (1194, 0.0033516715823117293), (2059, 0.0033456638382707146), (862, 0.003341995818602136), (1348, 0.003341492446956221), (1943, 0.0033390251629397483), (2971, 0.0033378907766297467), (2721, 0.0033333067759180332), (4353, 0.0033314393946211112), (2539, 0.0033301598161435074), (3509, 0.0033282651882969097), (1249, 0.003325817312396258), (1379, 0.00332502018008267), (892, 0.0033233539163224413), (73, 0.0033211793450203296), (1492, 0.0033197869142966943), (1397, 0.0033173867650763125), (2270, 0.0033145214338785533), (1698, 0.003313568389925222), (1521, 0.0033131707454021435), (629, 0.003312589581279319), (2822, 0.0033107166043982016), (357, 0.0033103772450165736), (1212, 0.003309424455612073), (1850, 0.003308807650126057), (1370, 0.0033077263399614496), (3393, 0.0032993161601520293), (1323, 0.0032960041123890056), (4627, 0.0032916861410131524), (2688, 0.0032911703417525177), (1008, 0.0032871685481370714), (1070, 0.003278772864866633), (2146, 0.003278370600938546), (3916, 0.0032688032048999675), (1781, 0.0032640618407446752), (1178, 0.003258813886032814), (2758, 0.0032580283885743208), (1340, 0.0032578439338608388), (2204, 0.0032519478797117113), (3164, 0.0032486263860419594), (1010, 0.00324459829519935), (175, 0.003239280713491735), (951, 0.003238450695308905), (3674, 0.003238211764645106), (1312, 0.0032373370165289976), (4636, 0.003235041277951709), (3481, 0.0032285788797603164), (1957, 0.0032228244594643025), (2296, 0.003222510427205167), (4610, 0.0032195745662348665), (1214, 0.0032167021283813755), (3559, 0.0032154097704820707), (1062, 0.0032075868499336357), (2373, 0.0031992312499337745), (1938, 0.0031984089224724012), (964, 0.0031980092349222014), (1078, 0.0031946983625925646), (2508, 0.0031753287904338493), (25, 0.0031732779153454075), (2770, 0.0031722630975022166), (1752, 0.003171687755468593), (1571, 0.0031716060404172832), (2025, 0.003164513050748239), (2665, 0.003158776390899755), (2439, 0.0031495500088600885), (1156, 0.0031491789081461276), (1341, 0.0031485181345000802), (319, 0.003143236999033812), (1326, 0.003131593509171537), (2018, 0.003129005880595055), (366, 0.003128421392883581), (4744, 0.0031098093411993425), (1695, 0.003104997187164726), (1344, 0.0031020095259188733), (691, 0.0031004752245008867), (3971, 0.003093653413262604), (3410, 0.0030870002521180356), (1646, 0.0030866154670845603), (2364, 0.0030843580168056603), (1115, 0.0030824408415500585), (2925, 0.0030800476927646246), (4519, 0.0030776155904448568), (1268, 0.00307111721806512), (2774, 0.0030654102179831933), (1586, 0.003064779335693789), (757, 0.0030642773705663313), (1676, 0.0030630038377854065), (3538, 0.003058836513801841), (2734, 0.0030490045126249864), (2377, 0.0030452230780818423), (1320, 0.003011401662051374), (2113, 0.0030019339529277766), (421, 0.002966849823386276), (837, 0.0029488908227426167), (3574, 0.0029462769155327315), (972, 0.002938369664359656), (369, 0.0029359180280114578), (351, 0.002926762781961457), (82, 0.0029110922008708075), (4182, 0.002910439953106154), (414, 0.0028807647852958805), (1277, 0.002868709098369137), (1278, 0.002859658898863927), (2064, 0.002825573972580861), (336, 0.0027512533347463205), (2814, 0.0027444929315724553), (1153, 0.00268969050913687), (740, 0.00257346088913735), (787, 0.002346475011166104), (1, 0.0), (2, 0.0), (5, 0.0), (6, 0.0), (7, 0.0), (9, 0.0), (10, 0.0), (11, 0.0), (12, 0.0), (13, 0.0), (16, 0.0), (17, 0.0), (18, 0.0), (19, 0.0), (20, 0.0), (21, 0.0), (24, 0.0), (26, 0.0), (27, 0.0), (30, 0.0), (31, 0.0), (32, 0.0), (35, 0.0), (36, 0.0), (37, 0.0), (39, 0.0), (41, 0.0), (44, 0.0), (46, 0.0), (48, 0.0), (52, 0.0), (55, 0.0), (56, 0.0), (57, 0.0), (58, 0.0), (61, 0.0), (64, 0.0), (65, 0.0), (66, 0.0), (67, 0.0), (68, 0.0), (69, 0.0), (70, 0.0), (72, 0.0), (74, 0.0), (75, 0.0), (76, 0.0), (78, 0.0), (80, 0.0), (81, 0.0), (83, 0.0), (84, 0.0), (87, 0.0), (89, 0.0), (90, 0.0), (92, 0.0), (93, 0.0), (94, 0.0), (95, 0.0), (96, 0.0), (98, 0.0), (100, 0.0), (101, 0.0), (104, 0.0), (105, 0.0), (106, 0.0), (107, 0.0), (108, 0.0), (109, 0.0), (111, 0.0), (117, 0.0), (118, 0.0), (119, 0.0), (122, 0.0), (123, 0.0), (124, 0.0), (125, 0.0), (126, 0.0), (127, 0.0), (131, 0.0), (133, 0.0), (135, 0.0), (136, 0.0), (137, 0.0), (142, 0.0), (143, 0.0), (145, 0.0), (148, 0.0), (149, 0.0), (150, 0.0), (151, 0.0), (152, 0.0), (158, 0.0), (159, 0.0), (160, 0.0), (162, 0.0), (164, 0.0), (166, 0.0), (167, 0.0), (168, 0.0), (170, 0.0), (171, 0.0), (172, 0.0), (173, 0.0), (176, 0.0), (177, 0.0), (179, 0.0), (180, 0.0), (181, 0.0), (183, 0.0), (184, 0.0), (186, 0.0), (187, 0.0), (189, 0.0), (191, 0.0), (196, 0.0), (199, 0.0), (200, 0.0), (203, 0.0), (206, 0.0), (207, 0.0), (208, 0.0), (213, 0.0), (220, 0.0), (222, 0.0), (226, 0.0), (229, 0.0), (230, 0.0), (232, 0.0), (233, 0.0), (234, 0.0), (235, 0.0), (236, 0.0), (237, 0.0), (239, 0.0), (241, 0.0), (242, 0.0), (244, 0.0), (247, 0.0), (248, 0.0), (249, 0.0), (250, 0.0), (251, 0.0), (252, 0.0), (254, 0.0), (257, 0.0), (258, 0.0), (259, 0.0), (260, 0.0), (261, 0.0), (262, 0.0), (265, 0.0), (266, 0.0), (267, 0.0), (268, 0.0), (269, 0.0), (273, 0.0), (276, 0.0), (277, 0.0), (280, 0.0), (282, 0.0), (283, 0.0), (285, 0.0), (286, 0.0), (287, 0.0), (289, 0.0), (290, 0.0), (291, 0.0), (292, 0.0), (293, 0.0), (294, 0.0), (295, 0.0), (296, 0.0), (297, 0.0), (298, 0.0), (299, 0.0), (300, 0.0), (301, 0.0), (305, 0.0), (306, 0.0), (307, 0.0), (308, 0.0), (310, 0.0), (313, 0.0), (314, 0.0), (315, 0.0), (317, 0.0), (320, 0.0), (321, 0.0), (323, 0.0), (324, 0.0), (327, 0.0), (330, 0.0), (332, 0.0), (333, 0.0), (335, 0.0), (337, 0.0), (340, 0.0), (342, 0.0), (348, 0.0), (352, 0.0), (353, 0.0), (359, 0.0), (364, 0.0), (371, 0.0), (372, 0.0), (374, 0.0), (375, 0.0), (376, 0.0), (378, 0.0), (379, 0.0), (380, 0.0), (381, 0.0), (382, 0.0), (384, 0.0), (387, 0.0), (389, 0.0), (390, 0.0), (394, 0.0), (395, 0.0), (397, 0.0), (399, 0.0), (402, 0.0), (412, 0.0), (419, 0.0), (423, 0.0), (424, 0.0), (425, 0.0), (426, 0.0), (428, 0.0), (430, 0.0), (432, 0.0), (433, 0.0), (434, 0.0), (436, 0.0), (437, 0.0), (438, 0.0), (439, 0.0), (440, 0.0), (441, 0.0), (442, 0.0), (443, 0.0), (444, 0.0), (445, 0.0), (446, 0.0), (449, 0.0), (450, 0.0), (451, 0.0), (452, 0.0), (453, 0.0), (457, 0.0), (458, 0.0), (460, 0.0), (462, 0.0), (463, 0.0), (466, 0.0), (467, 0.0), (468, 0.0), (469, 0.0), (470, 0.0), (476, 0.0), (477, 0.0), (478, 0.0), (481, 0.0), (482, 0.0), (484, 0.0), (486, 0.0), (487, 0.0), (491, 0.0), (492, 0.0), (495, 0.0), (496, 0.0), (499, 0.0), (500, 0.0), (501, 0.0), (502, 0.0), (509, 0.0), (512, 0.0), (513, 0.0), (514, 0.0), (516, 0.0), (518, 0.0), (519, 0.0), (522, 0.0), (523, 0.0), (526, 0.0), (527, 0.0), (533, 0.0), (534, 0.0), (537, 0.0), (539, 0.0), (542, 0.0), (543, 0.0), (544, 0.0), (548, 0.0), (549, 0.0), (550, 0.0), (552, 0.0), (553, 0.0), (554, 0.0), (556, 0.0), (557, 0.0), (558, 0.0), (559, 0.0), (560, 0.0), (561, 0.0), (562, 0.0), (563, 0.0), (566, 0.0), (567, 0.0), (568, 0.0), (569, 0.0), (570, 0.0), (571, 0.0), (573, 0.0), (574, 0.0), (575, 0.0), (581, 0.0), (584, 0.0), (591, 0.0), (592, 0.0), (593, 0.0), (595, 0.0), (596, 0.0), (597, 0.0), (599, 0.0), (600, 0.0), (601, 0.0), (602, 0.0), (603, 0.0), (610, 0.0), (611, 0.0), (613, 0.0), (614, 0.0), (615, 0.0), (616, 0.0), (617, 0.0), (620, 0.0), (622, 0.0), (624, 0.0), (625, 0.0), (626, 0.0), (627, 0.0), (628, 0.0), (634, 0.0), (635, 0.0), (636, 0.0), (637, 0.0), (639, 0.0), (640, 0.0), (641, 0.0), (642, 0.0), (643, 0.0), (645, 0.0), (646, 0.0), (647, 0.0), (650, 0.0), (652, 0.0), (654, 0.0), (656, 0.0), (658, 0.0), (661, 0.0), (663, 0.0), (666, 0.0), (668, 0.0), (669, 0.0), (673, 0.0), (674, 0.0), (675, 0.0), (676, 0.0), (677, 0.0), (680, 0.0), (683, 0.0), (685, 0.0), (686, 0.0), (688, 0.0), (689, 0.0), (696, 0.0), (699, 0.0), (701, 0.0), (704, 0.0), (706, 0.0), (714, 0.0), (716, 0.0), (717, 0.0), (718, 0.0), (719, 0.0), (721, 0.0), (722, 0.0), (724, 0.0), (725, 0.0), (727, 0.0), (728, 0.0), (729, 0.0), (731, 0.0), (732, 0.0), (734, 0.0), (738, 0.0), (739, 0.0), (742, 0.0), (743, 0.0), (744, 0.0), (746, 0.0), (747, 0.0), (750, 0.0), (761, 0.0), (762, 0.0), (765, 0.0), (766, 0.0), (767, 0.0), (769, 0.0), (775, 0.0), (777, 0.0), (782, 0.0), (789, 0.0), (791, 0.0), (798, 0.0), (799, 0.0), (800, 0.0), (801, 0.0), (802, 0.0), (803, 0.0), (804, 0.0), (805, 0.0), (808, 0.0), (809, 0.0), (810, 0.0), (811, 0.0), (812, 0.0), (815, 0.0), (816, 0.0), (817, 0.0), (823, 0.0), (825, 0.0), (826, 0.0), (831, 0.0), (832, 0.0), (833, 0.0), (834, 0.0), (835, 0.0), (850, 0.0), (853, 0.0), (854, 0.0), (855, 0.0), (858, 0.0), (860, 0.0), (864, 0.0), (866, 0.0), (868, 0.0), (875, 0.0), (878, 0.0), (882, 0.0), (887, 0.0), (888, 0.0), (891, 0.0), (893, 0.0), (895, 0.0), (896, 0.0), (899, 0.0), (900, 0.0), (901, 0.0), (902, 0.0), (906, 0.0), (909, 0.0), (910, 0.0), (913, 0.0), (914, 0.0), (915, 0.0), (917, 0.0), (918, 0.0), (919, 0.0), (922, 0.0), (927, 0.0), (928, 0.0), (932, 0.0), (934, 0.0), (936, 0.0), (937, 0.0), (942, 0.0), (947, 0.0), (949, 0.0), (953, 0.0), (954, 0.0), (962, 0.0), (963, 0.0), (967, 0.0), (968, 0.0), (974, 0.0), (976, 0.0), (977, 0.0), (980, 0.0), (981, 0.0), (986, 0.0), (987, 0.0), (988, 0.0), (991, 0.0), (992, 0.0), (993, 0.0), (994, 0.0), (997, 0.0), (1001, 0.0), (1004, 0.0), (1005, 0.0), (1009, 0.0), (1012, 0.0), (1014, 0.0), (1015, 0.0), (1017, 0.0), (1019, 0.0), (1030, 0.0), (1031, 0.0), (1032, 0.0), (1033, 0.0), (1035, 0.0), (1036, 0.0), (1037, 0.0), (1039, 0.0), (1042, 0.0), (1043, 0.0), (1044, 0.0), (1045, 0.0), (1046, 0.0), (1048, 0.0), (1050, 0.0), (1051, 0.0), (1055, 0.0), (1056, 0.0), (1057, 0.0), (1058, 0.0), (1059, 0.0), (1063, 0.0), (1064, 0.0), (1066, 0.0), (1067, 0.0), (1068, 0.0), (1069, 0.0), (1071, 0.0), (1072, 0.0), (1076, 0.0), (1081, 0.0), (1083, 0.0), (1086, 0.0), (1087, 0.0), (1091, 0.0), (1092, 0.0), (1095, 0.0), (1096, 0.0), (1098, 0.0), (1101, 0.0), (1102, 0.0), (1107, 0.0), (1110, 0.0), (1111, 0.0), (1114, 0.0), (1116, 0.0), (1118, 0.0), (1119, 0.0), (1120, 0.0), (1123, 0.0), (1127, 0.0), (1128, 0.0), (1131, 0.0), (1135, 0.0), (1136, 0.0), (1137, 0.0), (1138, 0.0), (1140, 0.0), (1141, 0.0), (1143, 0.0), (1144, 0.0), (1146, 0.0), (1150, 0.0), (1151, 0.0), (1154, 0.0), (1158, 0.0), (1160, 0.0), (1161, 0.0), (1162, 0.0), (1163, 0.0), (1164, 0.0), (1167, 0.0), (1168, 0.0), (1171, 0.0), (1174, 0.0), (1176, 0.0), (1177, 0.0), (1179, 0.0), (1182, 0.0), (1183, 0.0), (1185, 0.0), (1186, 0.0), (1188, 0.0), (1189, 0.0), (1192, 0.0), (1195, 0.0), (1197, 0.0), (1209, 0.0), (1215, 0.0), (1218, 0.0), (1221, 0.0), (1223, 0.0), (1225, 0.0), (1226, 0.0), (1229, 0.0), (1230, 0.0), (1233, 0.0), (1239, 0.0), (1240, 0.0), (1250, 0.0), (1252, 0.0), (1253, 0.0), (1255, 0.0), (1257, 0.0), (1262, 0.0), (1263, 0.0), (1264, 0.0), (1265, 0.0), (1266, 0.0), (1269, 0.0), (1271, 0.0), (1274, 0.0), (1275, 0.0), (1280, 0.0), (1281, 0.0), (1285, 0.0), (1287, 0.0), (1290, 0.0), (1294, 0.0), (1295, 0.0), (1303, 0.0), (1306, 0.0), (1307, 0.0), (1314, 0.0), (1315, 0.0), (1316, 0.0), (1319, 0.0), (1325, 0.0), (1328, 0.0), (1332, 0.0), (1335, 0.0), (1339, 0.0), (1343, 0.0), (1347, 0.0), (1349, 0.0), (1354, 0.0), (1357, 0.0), (1358, 0.0), (1360, 0.0), (1369, 0.0), (1375, 0.0), (1377, 0.0), (1380, 0.0), (1381, 0.0), (1383, 0.0), (1384, 0.0), (1385, 0.0), (1386, 0.0), (1387, 0.0), (1391, 0.0), (1395, 0.0), (1396, 0.0), (1399, 0.0), (1402, 0.0), (1404, 0.0), (1406, 0.0), (1407, 0.0), (1412, 0.0), (1413, 0.0), (1414, 0.0), (1417, 0.0), (1418, 0.0), (1428, 0.0), (1429, 0.0), (1431, 0.0), (1433, 0.0), (1434, 0.0), (1435, 0.0), (1439, 0.0), (1440, 0.0), (1442, 0.0), (1443, 0.0), (1448, 0.0), (1449, 0.0), (1450, 0.0), (1451, 0.0), (1452, 0.0), (1455, 0.0), (1458, 0.0), (1459, 0.0), (1462, 0.0), (1464, 0.0), (1467, 0.0), (1470, 0.0), (1471, 0.0), (1474, 0.0), (1478, 0.0), (1480, 0.0), (1481, 0.0), (1483, 0.0), (1484, 0.0), (1493, 0.0), (1497, 0.0), (1498, 0.0), (1499, 0.0), (1500, 0.0), (1503, 0.0), (1504, 0.0), (1510, 0.0), (1512, 0.0), (1514, 0.0), (1519, 0.0), (1522, 0.0), (1529, 0.0), (1531, 0.0), (1534, 0.0), (1540, 0.0), (1546, 0.0), (1547, 0.0), (1548, 0.0), (1551, 0.0), (1553, 0.0), (1554, 0.0), (1555, 0.0), (1556, 0.0), (1559, 0.0), (1562, 0.0), (1570, 0.0), (1573, 0.0), (1574, 0.0), (1575, 0.0), (1576, 0.0), (1579, 0.0), (1580, 0.0), (1584, 0.0), (1588, 0.0), (1590, 0.0), (1591, 0.0), (1593, 0.0), (1595, 0.0), (1600, 0.0), (1603, 0.0), (1604, 0.0), (1607, 0.0), (1608, 0.0), (1617, 0.0), (1620, 0.0), (1621, 0.0), (1623, 0.0), (1625, 0.0), (1632, 0.0), (1635, 0.0), (1636, 0.0), (1641, 0.0), (1643, 0.0), (1645, 0.0), (1647, 0.0), (1649, 0.0), (1650, 0.0), (1651, 0.0), (1653, 0.0), (1657, 0.0), (1659, 0.0), (1661, 0.0), (1662, 0.0), (1664, 0.0), (1665, 0.0), (1667, 0.0), (1669, 0.0), (1670, 0.0), (1671, 0.0), (1672, 0.0), (1674, 0.0), (1687, 0.0), (1692, 0.0), (1699, 0.0), (1701, 0.0), (1703, 0.0), (1704, 0.0), (1705, 0.0), (1706, 0.0), (1708, 0.0), (1711, 0.0), (1712, 0.0), (1713, 0.0), (1716, 0.0), (1717, 0.0), (1720, 0.0), (1724, 0.0), (1725, 0.0), (1728, 0.0), (1730, 0.0), (1736, 0.0), (1740, 0.0), (1742, 0.0), (1745, 0.0), (1748, 0.0), (1749, 0.0), (1753, 0.0), (1754, 0.0), (1755, 0.0), (1756, 0.0), (1760, 0.0), (1761, 0.0), (1773, 0.0), (1774, 0.0), (1776, 0.0), (1780, 0.0), (1789, 0.0), (1793, 0.0), (1795, 0.0), (1800, 0.0), (1807, 0.0), (1808, 0.0), (1809, 0.0), (1810, 0.0), (1811, 0.0), (1812, 0.0), (1813, 0.0), (1814, 0.0), (1815, 0.0), (1817, 0.0), (1820, 0.0), (1823, 0.0), (1826, 0.0), (1828, 0.0), (1835, 0.0), (1838, 0.0), (1841, 0.0), (1843, 0.0), (1846, 0.0), (1852, 0.0), (1854, 0.0), (1857, 0.0), (1859, 0.0), (1862, 0.0), (1863, 0.0), (1872, 0.0), (1873, 0.0), (1874, 0.0), (1876, 0.0), (1882, 0.0), (1884, 0.0), (1886, 0.0), (1887, 0.0), (1890, 0.0), (1891, 0.0), (1892, 0.0), (1894, 0.0), (1896, 0.0), (1901, 0.0), (1904, 0.0), (1910, 0.0), (1916, 0.0), (1920, 0.0), (1921, 0.0), (1922, 0.0), (1924, 0.0), (1925, 0.0), (1927, 0.0), (1930, 0.0), (1931, 0.0), (1932, 0.0), (1933, 0.0), (1934, 0.0), (1936, 0.0), (1937, 0.0), (1940, 0.0), (1945, 0.0), (1952, 0.0), (1953, 0.0), (1958, 0.0), (1962, 0.0), (1966, 0.0), (1967, 0.0), (1968, 0.0), (1969, 0.0), (1972, 0.0), (1975, 0.0), (1976, 0.0), (1979, 0.0), (1983, 0.0), (1988, 0.0), (1989, 0.0), (1990, 0.0), (1993, 0.0), (1996, 0.0), (1997, 0.0), (1998, 0.0), (2010, 0.0), (2013, 0.0), (2015, 0.0), (2016, 0.0), (2017, 0.0), (2020, 0.0), (2022, 0.0), (2023, 0.0), (2024, 0.0), (2028, 0.0), (2029, 0.0), (2030, 0.0), (2031, 0.0), (2034, 0.0), (2038, 0.0), (2040, 0.0), (2045, 0.0), (2047, 0.0), (2053, 0.0), (2054, 0.0), (2055, 0.0), (2057, 0.0), (2061, 0.0), (2062, 0.0), (2065, 0.0), (2066, 0.0), (2067, 0.0), (2069, 0.0), (2070, 0.0), (2072, 0.0), (2073, 0.0), (2074, 0.0), (2078, 0.0), (2080, 0.0), (2083, 0.0), (2084, 0.0), (2085, 0.0), (2088, 0.0), (2089, 0.0), (2091, 0.0), (2094, 0.0), (2095, 0.0), (2096, 0.0), (2097, 0.0), (2100, 0.0), (2103, 0.0), (2112, 0.0), (2114, 0.0), (2115, 0.0), (2117, 0.0), (2118, 0.0), (2119, 0.0), (2120, 0.0), (2121, 0.0), (2126, 0.0), (2127, 0.0), (2129, 0.0), (2130, 0.0), (2134, 0.0), (2135, 0.0), (2136, 0.0), (2139, 0.0), (2141, 0.0), (2152, 0.0), (2154, 0.0), (2162, 0.0), (2163, 0.0), (2165, 0.0), (2171, 0.0), (2172, 0.0), (2173, 0.0), (2175, 0.0), (2176, 0.0), (2177, 0.0), (2178, 0.0), (2181, 0.0), (2184, 0.0), (2188, 0.0), (2189, 0.0), (2190, 0.0), (2191, 0.0), (2196, 0.0), (2206, 0.0), (2210, 0.0), (2213, 0.0), (2214, 0.0), (2216, 0.0), (2220, 0.0), (2221, 0.0), (2224, 0.0), (2226, 0.0), (2231, 0.0), (2232, 0.0), (2233, 0.0), (2235, 0.0), (2238, 0.0), (2239, 0.0), (2243, 0.0), (2244, 0.0), (2245, 0.0), (2247, 0.0), (2248, 0.0), (2251, 0.0), (2252, 0.0), (2254, 0.0), (2255, 0.0), (2256, 0.0), (2257, 0.0), (2259, 0.0), (2263, 0.0), (2267, 0.0), (2268, 0.0), (2273, 0.0), (2275, 0.0), (2276, 0.0), (2277, 0.0), (2278, 0.0), (2279, 0.0), (2283, 0.0), (2285, 0.0), (2286, 0.0), (2288, 0.0), (2289, 0.0), (2291, 0.0), (2293, 0.0), (2294, 0.0), (2295, 0.0), (2299, 0.0), (2300, 0.0), (2306, 0.0), (2310, 0.0), (2314, 0.0), (2316, 0.0), (2318, 0.0), (2323, 0.0), (2324, 0.0), (2330, 0.0), (2332, 0.0), (2334, 0.0), (2337, 0.0), (2341, 0.0), (2342, 0.0), (2343, 0.0), (2345, 0.0), (2347, 0.0), (2350, 0.0), (2352, 0.0), (2354, 0.0), (2355, 0.0), (2356, 0.0), (2358, 0.0), (2361, 0.0), (2365, 0.0), (2372, 0.0), (2374, 0.0), (2378, 0.0), (2382, 0.0), (2392, 0.0), (2393, 0.0), (2400, 0.0), (2401, 0.0), (2406, 0.0), (2408, 0.0), (2414, 0.0), (2417, 0.0), (2418, 0.0), (2419, 0.0), (2421, 0.0), (2425, 0.0), (2427, 0.0), (2432, 0.0), (2437, 0.0), (2438, 0.0), (2442, 0.0), (2443, 0.0), (2448, 0.0), (2454, 0.0), (2459, 0.0), (2462, 0.0), (2466, 0.0), (2470, 0.0), (2471, 0.0), (2473, 0.0), (2474, 0.0), (2476, 0.0), (2477, 0.0), (2480, 0.0), (2481, 0.0), (2482, 0.0), (2484, 0.0), (2485, 0.0), (2496, 0.0), (2501, 0.0), (2503, 0.0), (2505, 0.0), (2506, 0.0), (2513, 0.0), (2520, 0.0), (2521, 0.0), (2522, 0.0), (2524, 0.0), (2525, 0.0), (2526, 0.0), (2530, 0.0), (2532, 0.0), (2533, 0.0), (2534, 0.0), (2540, 0.0), (2544, 0.0), (2545, 0.0), (2549, 0.0), (2556, 0.0), (2562, 0.0), (2563, 0.0), (2565, 0.0), (2567, 0.0), (2568, 0.0), (2571, 0.0), (2574, 0.0), (2576, 0.0), (2577, 0.0), (2579, 0.0), (2583, 0.0), (2585, 0.0), (2593, 0.0), (2595, 0.0), (2596, 0.0), (2598, 0.0), (2599, 0.0), (2602, 0.0), (2606, 0.0), (2611, 0.0), (2612, 0.0), (2613, 0.0), (2617, 0.0), (2618, 0.0), (2621, 0.0), (2622, 0.0), (2623, 0.0), (2624, 0.0), (2627, 0.0), (2628, 0.0), (2630, 0.0), (2632, 0.0), (2634, 0.0), (2636, 0.0), (2638, 0.0), (2640, 0.0), (2645, 0.0), (2647, 0.0), (2649, 0.0), (2651, 0.0), (2654, 0.0), (2655, 0.0), (2658, 0.0), (2660, 0.0), (2668, 0.0), (2673, 0.0), (2674, 0.0), (2679, 0.0), (2680, 0.0), (2683, 0.0), (2686, 0.0), (2692, 0.0), (2694, 0.0), (2695, 0.0), (2698, 0.0), (2700, 0.0), (2707, 0.0), (2708, 0.0), (2710, 0.0), (2711, 0.0), (2713, 0.0), (2714, 0.0), (2717, 0.0), (2718, 0.0), (2719, 0.0), (2724, 0.0), (2725, 0.0), (2733, 0.0), (2735, 0.0), (2739, 0.0), (2742, 0.0), (2743, 0.0), (2750, 0.0), (2751, 0.0), (2752, 0.0), (2753, 0.0), (2757, 0.0), (2759, 0.0), (2760, 0.0), (2762, 0.0), (2765, 0.0), (2767, 0.0), (2768, 0.0), (2772, 0.0), (2773, 0.0), (2777, 0.0), (2778, 0.0), (2780, 0.0), (2783, 0.0), (2784, 0.0), (2785, 0.0), (2788, 0.0), (2789, 0.0), (2791, 0.0), (2792, 0.0), (2795, 0.0), (2800, 0.0), (2801, 0.0), (2808, 0.0), (2815, 0.0), (2819, 0.0), (2824, 0.0), (2826, 0.0), (2828, 0.0), (2831, 0.0), (2835, 0.0), (2837, 0.0), (2840, 0.0), (2842, 0.0), (2845, 0.0), (2847, 0.0), (2849, 0.0), (2850, 0.0), (2851, 0.0), (2853, 0.0), (2854, 0.0), (2861, 0.0), (2862, 0.0), (2864, 0.0), (2865, 0.0), (2867, 0.0), (2868, 0.0), (2869, 0.0), (2879, 0.0), (2881, 0.0), (2885, 0.0), (2887, 0.0), (2888, 0.0), (2889, 0.0), (2895, 0.0), (2898, 0.0), (2899, 0.0), (2900, 0.0), (2901, 0.0), (2902, 0.0), (2903, 0.0), (2905, 0.0), (2906, 0.0), (2908, 0.0), (2909, 0.0), (2910, 0.0), (2916, 0.0), (2917, 0.0), (2918, 0.0), (2920, 0.0), (2921, 0.0), (2923, 0.0), (2927, 0.0), (2932, 0.0), (2934, 0.0), (2935, 0.0), (2937, 0.0), (2938, 0.0), (2942, 0.0), (2944, 0.0), (2946, 0.0), (2947, 0.0), (2949, 0.0), (2950, 0.0), (2952, 0.0), (2953, 0.0), (2955, 0.0), (2956, 0.0), (2957, 0.0), (2959, 0.0), (2961, 0.0), (2965, 0.0), (2969, 0.0), (2977, 0.0), (2981, 0.0), (2985, 0.0), (2987, 0.0), (2988, 0.0), (2989, 0.0), (2991, 0.0), (2993, 0.0), (2996, 0.0), (2997, 0.0), (2998, 0.0), (3000, 0.0), (3002, 0.0), (3006, 0.0), (3008, 0.0), (3010, 0.0), (3012, 0.0), (3019, 0.0), (3021, 0.0), (3022, 0.0), (3023, 0.0), (3024, 0.0), (3025, 0.0), (3027, 0.0), (3028, 0.0), (3029, 0.0), (3031, 0.0), (3032, 0.0), (3035, 0.0), (3043, 0.0), (3045, 0.0), (3046, 0.0), (3047, 0.0), (3048, 0.0), (3049, 0.0), (3051, 0.0), (3052, 0.0), (3055, 0.0), (3057, 0.0), (3058, 0.0), (3059, 0.0), (3064, 0.0), (3065, 0.0), (3076, 0.0), (3079, 0.0), (3081, 0.0), (3085, 0.0), (3086, 0.0), (3091, 0.0), (3092, 0.0), (3093, 0.0), (3100, 0.0), (3105, 0.0), (3107, 0.0), (3110, 0.0), (3112, 0.0), (3114, 0.0), (3117, 0.0), (3118, 0.0), (3119, 0.0), (3122, 0.0), (3123, 0.0), (3124, 0.0), (3125, 0.0), (3126, 0.0), (3128, 0.0), (3129, 0.0), (3131, 0.0), (3132, 0.0), (3133, 0.0), (3134, 0.0), (3135, 0.0), (3136, 0.0), (3138, 0.0), (3144, 0.0), (3145, 0.0), (3151, 0.0), (3152, 0.0), (3153, 0.0), (3154, 0.0), (3156, 0.0), (3157, 0.0), (3158, 0.0), (3159, 0.0), (3160, 0.0), (3163, 0.0), (3167, 0.0), (3173, 0.0), (3174, 0.0), (3176, 0.0), (3179, 0.0), (3185, 0.0), (3186, 0.0), (3191, 0.0), (3193, 0.0), (3195, 0.0), (3196, 0.0), (3199, 0.0), (3201, 0.0), (3206, 0.0), (3208, 0.0), (3210, 0.0), (3213, 0.0), (3215, 0.0), (3219, 0.0), (3222, 0.0), (3223, 0.0), (3225, 0.0), (3226, 0.0), (3227, 0.0), (3228, 0.0), (3230, 0.0), (3233, 0.0), (3240, 0.0), (3247, 0.0), (3251, 0.0), (3255, 0.0), (3261, 0.0), (3262, 0.0), (3263, 0.0), (3269, 0.0), (3272, 0.0), (3275, 0.0), (3278, 0.0), (3279, 0.0), (3280, 0.0), (3281, 0.0), (3284, 0.0), (3285, 0.0), (3292, 0.0), (3293, 0.0), (3301, 0.0), (3305, 0.0), (3306, 0.0), (3307, 0.0), (3312, 0.0), (3313, 0.0), (3316, 0.0), (3317, 0.0), (3322, 0.0), (3325, 0.0), (3328, 0.0), (3330, 0.0), (3331, 0.0), (3334, 0.0), (3338, 0.0), (3339, 0.0), (3340, 0.0), (3341, 0.0), (3342, 0.0), (3344, 0.0), (3345, 0.0), (3346, 0.0), (3347, 0.0), (3353, 0.0), (3354, 0.0), (3355, 0.0), (3356, 0.0), (3358, 0.0), (3360, 0.0), (3361, 0.0), (3362, 0.0), (3365, 0.0), (3367, 0.0), (3368, 0.0), (3372, 0.0), (3374, 0.0), (3376, 0.0), (3377, 0.0), (3379, 0.0), (3381, 0.0), (3385, 0.0), (3387, 0.0), (3390, 0.0), (3396, 0.0), (3398, 0.0), (3399, 0.0), (3401, 0.0), (3404, 0.0), (3405, 0.0), (3409, 0.0), (3412, 0.0), (3414, 0.0), (3416, 0.0), (3419, 0.0), (3420, 0.0), (3423, 0.0), (3426, 0.0), (3427, 0.0), (3429, 0.0), (3431, 0.0), (3432, 0.0), (3435, 0.0), (3436, 0.0), (3437, 0.0), (3438, 0.0), (3440, 0.0), (3441, 0.0), (3445, 0.0), (3446, 0.0), (3450, 0.0), (3451, 0.0), (3452, 0.0), (3454, 0.0), (3455, 0.0), (3457, 0.0), (3458, 0.0), (3459, 0.0), (3460, 0.0), (3463, 0.0), (3465, 0.0), (3466, 0.0), (3467, 0.0), (3468, 0.0), (3469, 0.0), (3470, 0.0), (3471, 0.0), (3472, 0.0), (3473, 0.0), (3474, 0.0), (3476, 0.0), (3478, 0.0), (3480, 0.0), (3482, 0.0), (3483, 0.0), (3484, 0.0), (3486, 0.0), (3487, 0.0), (3488, 0.0), (3491, 0.0), (3495, 0.0), (3497, 0.0), (3501, 0.0), (3502, 0.0), (3504, 0.0), (3505, 0.0), (3507, 0.0), (3515, 0.0), (3520, 0.0), (3521, 0.0), (3522, 0.0), (3523, 0.0), (3525, 0.0), (3527, 0.0), (3530, 0.0), (3533, 0.0), (3534, 0.0), (3535, 0.0), (3536, 0.0), (3540, 0.0), (3542, 0.0), (3547, 0.0), (3548, 0.0), (3553, 0.0), (3555, 0.0), (3556, 0.0), (3557, 0.0), (3564, 0.0), (3567, 0.0), (3568, 0.0), (3569, 0.0), (3573, 0.0), (3576, 0.0), (3578, 0.0), (3583, 0.0), (3586, 0.0), (3587, 0.0), (3588, 0.0), (3590, 0.0), (3593, 0.0), (3596, 0.0), (3597, 0.0), (3600, 0.0), (3602, 0.0), (3607, 0.0), (3608, 0.0), (3609, 0.0), (3611, 0.0), (3612, 0.0), (3613, 0.0), (3615, 0.0), (3617, 0.0), (3618, 0.0), (3619, 0.0), (3620, 0.0), (3623, 0.0), (3624, 0.0), (3625, 0.0), (3627, 0.0), (3629, 0.0), (3631, 0.0), (3634, 0.0), (3635, 0.0), (3636, 0.0), (3637, 0.0), (3638, 0.0), (3640, 0.0), (3642, 0.0), (3643, 0.0), (3651, 0.0), (3653, 0.0), (3656, 0.0), (3657, 0.0), (3659, 0.0), (3660, 0.0), (3661, 0.0), (3663, 0.0), (3664, 0.0), (3666, 0.0), (3668, 0.0), (3670, 0.0), (3672, 0.0), (3675, 0.0), (3677, 0.0), (3679, 0.0), (3680, 0.0), (3682, 0.0), (3687, 0.0), (3689, 0.0), (3690, 0.0), (3691, 0.0), (3693, 0.0), (3694, 0.0), (3695, 0.0), (3696, 0.0), (3697, 0.0), (3699, 0.0), (3700, 0.0), (3701, 0.0), (3702, 0.0), (3703, 0.0), (3704, 0.0), (3706, 0.0), (3709, 0.0), (3710, 0.0), (3711, 0.0), (3713, 0.0), (3714, 0.0), (3717, 0.0), (3718, 0.0), (3719, 0.0), (3720, 0.0), (3723, 0.0), (3724, 0.0), (3725, 0.0), (3726, 0.0), (3727, 0.0), (3731, 0.0), (3734, 0.0), (3737, 0.0), (3738, 0.0), (3742, 0.0), (3743, 0.0), (3744, 0.0), (3746, 0.0), (3749, 0.0), (3750, 0.0), (3751, 0.0), (3752, 0.0), (3756, 0.0), (3757, 0.0), (3760, 0.0), (3762, 0.0), (3766, 0.0), (3768, 0.0), (3769, 0.0), (3770, 0.0), (3771, 0.0), (3773, 0.0), (3774, 0.0), (3775, 0.0), (3776, 0.0), (3777, 0.0), (3779, 0.0), (3781, 0.0), (3784, 0.0), (3785, 0.0), (3786, 0.0), (3787, 0.0), (3788, 0.0), (3793, 0.0), (3794, 0.0), (3797, 0.0), (3799, 0.0), (3801, 0.0), (3802, 0.0), (3806, 0.0), (3807, 0.0), (3810, 0.0), (3813, 0.0), (3814, 0.0), (3815, 0.0), (3816, 0.0), (3817, 0.0), (3823, 0.0), (3825, 0.0), (3827, 0.0), (3828, 0.0), (3830, 0.0), (3831, 0.0), (3833, 0.0), (3838, 0.0), (3840, 0.0), (3841, 0.0), (3843, 0.0), (3846, 0.0), (3847, 0.0), (3848, 0.0), (3850, 0.0), (3852, 0.0), (3853, 0.0), (3854, 0.0), (3857, 0.0), (3860, 0.0), (3862, 0.0), (3863, 0.0), (3869, 0.0), (3871, 0.0), (3872, 0.0), (3873, 0.0), (3874, 0.0), (3876, 0.0), (3880, 0.0), (3881, 0.0), (3883, 0.0), (3887, 0.0), (3900, 0.0), (3901, 0.0), (3902, 0.0), (3903, 0.0), (3908, 0.0), (3910, 0.0), (3911, 0.0), (3917, 0.0), (3918, 0.0), (3920, 0.0), (3924, 0.0), (3928, 0.0), (3935, 0.0), (3937, 0.0), (3938, 0.0), (3939, 0.0), (3940, 0.0), (3942, 0.0), (3944, 0.0), (3945, 0.0), (3946, 0.0), (3947, 0.0), (3951, 0.0), (3953, 0.0), (3955, 0.0), (3956, 0.0), (3958, 0.0), (3959, 0.0), (3961, 0.0), (3963, 0.0), (3966, 0.0), (3968, 0.0), (3970, 0.0), (3972, 0.0), (3974, 0.0), (3975, 0.0), (3976, 0.0), (3977, 0.0), (3978, 0.0), (3979, 0.0), (3981, 0.0), (3982, 0.0), (3983, 0.0), (3985, 0.0), (3986, 0.0), (3987, 0.0), (3989, 0.0), (3990, 0.0), (3991, 0.0), (3993, 0.0), (3994, 0.0), (3995, 0.0), (3997, 0.0), (4002, 0.0), (4005, 0.0), (4006, 0.0), (4009, 0.0), (4014, 0.0), (4015, 0.0), (4016, 0.0), (4017, 0.0), (4019, 0.0), (4024, 0.0), (4028, 0.0), (4030, 0.0), (4032, 0.0), (4033, 0.0), (4042, 0.0), (4043, 0.0), (4044, 0.0), (4047, 0.0), (4048, 0.0), (4055, 0.0), (4057, 0.0), (4059, 0.0), (4063, 0.0), (4065, 0.0), (4067, 0.0), (4068, 0.0), (4069, 0.0), (4070, 0.0), (4072, 0.0), (4074, 0.0), (4076, 0.0), (4077, 0.0), (4078, 0.0), (4081, 0.0), (4083, 0.0), (4085, 0.0), (4088, 0.0), (4089, 0.0), (4090, 0.0), (4091, 0.0), (4092, 0.0), (4095, 0.0), (4096, 0.0), (4098, 0.0), (4100, 0.0), (4106, 0.0), (4107, 0.0), (4110, 0.0), (4114, 0.0), (4119, 0.0), (4120, 0.0), (4122, 0.0), (4123, 0.0), (4124, 0.0), (4128, 0.0), (4129, 0.0), (4130, 0.0), (4133, 0.0), (4134, 0.0), (4137, 0.0), (4142, 0.0), (4143, 0.0), (4150, 0.0), (4151, 0.0), (4152, 0.0), (4153, 0.0), (4154, 0.0), (4158, 0.0), (4159, 0.0), (4160, 0.0), (4162, 0.0), (4163, 0.0), (4164, 0.0), (4167, 0.0), (4168, 0.0), (4169, 0.0), (4170, 0.0), (4171, 0.0), (4172, 0.0), (4176, 0.0), (4177, 0.0), (4179, 0.0), (4181, 0.0), (4185, 0.0), (4187, 0.0), (4188, 0.0), (4193, 0.0), (4194, 0.0), (4196, 0.0), (4201, 0.0), (4202, 0.0), (4205, 0.0), (4209, 0.0), (4211, 0.0), (4215, 0.0), (4216, 0.0), (4219, 0.0), (4220, 0.0), (4221, 0.0), (4224, 0.0), (4225, 0.0), (4227, 0.0), (4228, 0.0), (4230, 0.0), (4231, 0.0), (4235, 0.0), (4236, 0.0), (4238, 0.0), (4240, 0.0), (4241, 0.0), (4242, 0.0), (4244, 0.0), (4245, 0.0), (4247, 0.0), (4248, 0.0), (4250, 0.0), (4251, 0.0), (4253, 0.0), (4255, 0.0), (4261, 0.0), (4262, 0.0), (4264, 0.0), (4265, 0.0), (4266, 0.0), (4267, 0.0), (4268, 0.0), (4269, 0.0), (4270, 0.0), (4271, 0.0), (4273, 0.0), (4275, 0.0), (4276, 0.0), (4277, 0.0), (4278, 0.0), (4279, 0.0), (4280, 0.0), (4281, 0.0), (4282, 0.0), (4283, 0.0), (4284, 0.0), (4286, 0.0), (4288, 0.0), (4289, 0.0), (4290, 0.0), (4294, 0.0), (4296, 0.0), (4298, 0.0), (4299, 0.0), (4301, 0.0), (4302, 0.0), (4307, 0.0), (4310, 0.0), (4312, 0.0), (4313, 0.0), (4316, 0.0), (4326, 0.0), (4328, 0.0), (4330, 0.0), (4331, 0.0), (4334, 0.0), (4336, 0.0), (4338, 0.0), (4339, 0.0), (4340, 0.0), (4342, 0.0), (4344, 0.0), (4345, 0.0), (4348, 0.0), (4349, 0.0), (4352, 0.0), (4354, 0.0), (4355, 0.0), (4360, 0.0), (4361, 0.0), (4363, 0.0), (4365, 0.0), (4368, 0.0), (4372, 0.0), (4374, 0.0), (4377, 0.0), (4378, 0.0), (4379, 0.0), (4380, 0.0), (4383, 0.0), (4384, 0.0), (4385, 0.0), (4386, 0.0), (4387, 0.0), (4389, 0.0), (4390, 0.0), (4391, 0.0), (4392, 0.0), (4393, 0.0), (4396, 0.0), (4397, 0.0), (4398, 0.0), (4399, 0.0), (4400, 0.0), (4401, 0.0), (4402, 0.0), (4403, 0.0), (4405, 0.0), (4406, 0.0), (4407, 0.0), (4409, 0.0), (4410, 0.0), (4414, 0.0), (4415, 0.0), (4416, 0.0), (4419, 0.0), (4423, 0.0), (4424, 0.0), (4425, 0.0), (4427, 0.0), (4429, 0.0), (4430, 0.0), (4431, 0.0), (4432, 0.0), (4435, 0.0), (4436, 0.0), (4439, 0.0), (4441, 0.0), (4443, 0.0), (4444, 0.0), (4445, 0.0), (4449, 0.0), (4450, 0.0), (4455, 0.0), (4456, 0.0), (4459, 0.0), (4461, 0.0), (4462, 0.0), (4464, 0.0), (4465, 0.0), (4466, 0.0), (4467, 0.0), (4468, 0.0), (4469, 0.0), (4470, 0.0), (4471, 0.0), (4472, 0.0), (4475, 0.0), (4476, 0.0), (4477, 0.0), (4478, 0.0), (4481, 0.0), (4482, 0.0), (4487, 0.0), (4488, 0.0), (4490, 0.0), (4491, 0.0), (4494, 0.0), (4495, 0.0), (4497, 0.0), (4499, 0.0), (4500, 0.0), (4501, 0.0), (4503, 0.0), (4505, 0.0), (4508, 0.0), (4509, 0.0), (4510, 0.0), (4512, 0.0), (4513, 0.0), (4515, 0.0), (4516, 0.0), (4517, 0.0), (4518, 0.0), (4520, 0.0), (4521, 0.0), (4523, 0.0), (4525, 0.0), (4526, 0.0), (4527, 0.0), (4528, 0.0), (4529, 0.0), (4532, 0.0), (4533, 0.0), (4534, 0.0), (4535, 0.0), (4538, 0.0), (4539, 0.0), (4540, 0.0), (4541, 0.0), (4543, 0.0), (4544, 0.0), (4545, 0.0), (4546, 0.0), (4548, 0.0), (4550, 0.0), (4551, 0.0), (4553, 0.0), (4554, 0.0), (4559, 0.0), (4561, 0.0), (4563, 0.0), (4565, 0.0), (4567, 0.0), (4568, 0.0), (4569, 0.0), (4572, 0.0), (4573, 0.0), (4574, 0.0), (4576, 0.0), (4578, 0.0), (4579, 0.0), (4581, 0.0), (4582, 0.0), (4583, 0.0), (4584, 0.0), (4585, 0.0), (4586, 0.0), (4587, 0.0), (4588, 0.0), (4591, 0.0), (4593, 0.0), (4595, 0.0), (4597, 0.0), (4601, 0.0), (4602, 0.0), (4604, 0.0), (4606, 0.0), (4607, 0.0), (4608, 0.0), (4611, 0.0), (4612, 0.0), (4613, 0.0), (4614, 0.0), (4615, 0.0), (4616, 0.0), (4617, 0.0), (4618, 0.0), (4619, 0.0), (4620, 0.0), (4623, 0.0), (4626, 0.0), (4629, 0.0), (4630, 0.0), (4634, 0.0), (4635, 0.0), (4637, 0.0), (4638, 0.0), (4639, 0.0), (4640, 0.0), (4641, 0.0), (4642, 0.0), (4643, 0.0), (4644, 0.0), (4645, 0.0), (4646, 0.0), (4651, 0.0), (4653, 0.0), (4654, 0.0), (4656, 0.0), (4660, 0.0), (4661, 0.0), (4663, 0.0), (4666, 0.0), (4668, 0.0), (4669, 0.0), (4670, 0.0), (4671, 0.0), (4673, 0.0), (4674, 0.0), (4676, 0.0), (4677, 0.0), (4678, 0.0), (4679, 0.0), (4680, 0.0), (4681, 0.0), (4682, 0.0), (4683, 0.0), (4684, 0.0), (4686, 0.0), (4687, 0.0), (4689, 0.0), (4691, 0.0), (4692, 0.0), (4693, 0.0), (4694, 0.0), (4695, 0.0), (4696, 0.0), (4697, 0.0), (4698, 0.0), (4699, 0.0), (4701, 0.0), (4704, 0.0), (4705, 0.0), (4707, 0.0), (4708, 0.0), (4709, 0.0), (4710, 0.0), (4714, 0.0), (4715, 0.0), (4716, 0.0), (4722, 0.0), (4723, 0.0), (4724, 0.0), (4727, 0.0), (4728, 0.0), (4729, 0.0), (4730, 0.0), (4731, 0.0), (4732, 0.0), (4733, 0.0), (4735, 0.0), (4736, 0.0), (4739, 0.0), (4740, 0.0), (4743, 0.0), (4747, 0.0), (4748, 0.0), (4750, 0.0), (4751, 0.0), (4753, 0.0), (4754, 0.0), (4755, 0.0), (4757, 0.0), (4758, 0.0), (4759, 0.0)]\n"
          ]
        }
      ]
    },
    {
      "cell_type": "code",
      "source": [
        "#  print the name of similar movies based on the index\n",
        "print(\"Top 30 Movies suggested for you: \\n\")\n",
        "i=1\n",
        "for movie in sorted_similar_movies:\n",
        "  index=movie[0]\n",
        "  title_from_index = movie_list[movie_list.index==index]['Movie_Title'].values[0]\n",
        "  if i<31:\n",
        "    print(i,'.',title_from_index)\n",
        "    i=i+1"
      ],
      "metadata": {
        "colab": {
          "base_uri": "https://localhost:8080/"
        },
        "id": "rdTiiHzznrgn",
        "outputId": "b9bdb5d5-58e6-4c7a-c60e-d562f714871f"
      },
      "execution_count": 30,
      "outputs": [
        {
          "output_type": "stream",
          "name": "stdout",
          "text": [
            "Top 30 Movies suggested for you: \n",
            "\n",
            "1 . Slackers\n",
            "2 . The Rage: Carrie 2\n",
            "3 . G.I. Joe: The Rise of Cobra\n",
            "4 . Bad Teacher\n",
            "5 . Sex Tape\n",
            "6 . The Internship\n",
            "7 . Final Destination\n",
            "8 . Vanilla Sky\n",
            "9 . Shopgirl\n",
            "10 . The Sweetest Thing\n",
            "11 . Sleepers\n",
            "12 . Being John Malkovich\n",
            "13 . I Heart Huckabees\n",
            "14 . Extreme Ops\n",
            "15 . Almost Famous\n",
            "16 . Annie Hall\n",
            "17 . Jesus' Son\n",
            "18 . The Counselor\n",
            "19 . Bulletproof Monk\n",
            "20 . Losin' It\n",
            "21 . Going the Distance\n",
            "22 . Forgetting Sarah Marshall\n",
            "23 . We're the Millers\n",
            "24 . Knocked Up\n",
            "25 . Jason Goes to Hell: The Final Friday\n",
            "26 . Love Actually\n",
            "27 . I Love You, Man\n",
            "28 . Fantastic Mr. Fox\n",
            "29 . Idle Hands\n",
            "30 . Very Bad Things\n"
          ]
        }
      ]
    },
    {
      "cell_type": "markdown",
      "source": [
        "Explaination\n",
        "\n",
        "We have make a data of similar words in ur movie recommendation data using tfidf library term frequency inverse document frequency\n",
        "\n",
        "We have created an array of words which is similar using cosine_similarity()\n",
        "\n",
        "By using difflib libraray we are getting the user input movie index and after that we are getting a list of similar elements\n",
        "\n",
        "Sort the movies based on their similarity_score\n",
        "\n",
        "Print the name of similar movies based on the index\n",
        "\n"
      ],
      "metadata": {
        "id": "LsEOqLwPn01Q"
      }
    }
  ]
}